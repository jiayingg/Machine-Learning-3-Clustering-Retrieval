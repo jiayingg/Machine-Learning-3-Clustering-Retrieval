{
 "cells": [
  {
   "cell_type": "markdown",
   "metadata": {},
   "source": [
    "# Latent Dirichlet Allocation for Text Data\n",
    "\n",
    "In this assignment you will\n",
    "\n",
    "* apply standard preprocessing techniques on Wikipedia text data\n",
    "* use GraphLab Create to fit a Latent Dirichlet allocation (LDA) model\n",
    "* explore and interpret the results, including topic keywords and topic assignments for documents\n",
    "\n",
    "Recall that a major feature distinguishing the LDA model from our previously explored methods is the notion of *mixed membership*. Throughout the course so far, our models have assumed that each data point belongs to a single cluster. k-means determines membership simply by shortest distance to the cluster center, and Gaussian mixture models suppose that each data point is drawn from one of their component mixture distributions. In many cases, though, it is more realistic to think of data as genuinely belonging to more than one cluster or category - for example, if we have a model for text data that includes both \"Politics\" and \"World News\" categories, then an article about a recent meeting of the United Nations should have membership in both categories rather than being forced into just one.\n",
    "\n",
    "With this in mind, we will use GraphLab Create tools to fit an LDA model to a corpus of Wikipedia articles and examine the results to analyze the impact of a mixed membership approach. In particular, we want to identify the topics discovered by the model in terms of their most important words, and we want to use the model to predict the topic membership distribution for a given document. "
   ]
  },
  {
   "cell_type": "markdown",
   "metadata": {},
   "source": [
    "**Note to Amazon EC2 users**: To conserve memory, make sure to stop all the other notebooks before running this notebook."
   ]
  },
  {
   "cell_type": "markdown",
   "metadata": {},
   "source": [
    "## Text Data Preprocessing\n",
    "We'll start by importing our familiar Wikipedia dataset.\n",
    "\n",
    "The following code block will check if you have the correct version of GraphLab Create. Any version later than 1.8.5 will do. To upgrade, read [this page](https://turi.com/download/upgrade-graphlab-create.html)."
   ]
  },
  {
   "cell_type": "code",
   "execution_count": 1,
   "metadata": {
    "collapsed": false
   },
   "outputs": [
    {
     "name": "stderr",
     "output_type": "stream",
     "text": [
      "A newer version of GraphLab Create (v2.1) is available! Your current version is v1.10.\n",
      "\n",
      "You can use pip to upgrade the graphlab-create package. For more information see https://dato.com/products/create/upgrade.\n"
     ]
    }
   ],
   "source": [
    "import graphlab as gl\n",
    "import numpy as np\n",
    "import matplotlib.pyplot as plt \n",
    "\n",
    "%matplotlib inline\n",
    "\n",
    "'''Check GraphLab Create version'''\n",
    "from distutils.version import StrictVersion\n",
    "assert (StrictVersion(gl.version) >= StrictVersion('1.8.5')), 'GraphLab Create must be version 1.8.5 or later.'"
   ]
  },
  {
   "cell_type": "code",
   "execution_count": 2,
   "metadata": {
    "collapsed": false
   },
   "outputs": [
    {
     "name": "stdout",
     "output_type": "stream",
     "text": [
      "This non-commercial license of GraphLab Create for academic use is assigned to jiayingg@usc.edu and will expire on June 03, 2017.\n"
     ]
    },
    {
     "name": "stderr",
     "output_type": "stream",
     "text": [
      "[INFO] graphlab.cython.cy_server: GraphLab Create v1.10 started. Logging: C:\\Users\\gujia\\AppData\\Local\\Temp\\graphlab_server_1470740004.log.0\n"
     ]
    },
    {
     "data": {
      "text/html": [
       "<div style=\"max-height:1000px;max-width:1500px;overflow:auto;\"><table frame=\"box\" rules=\"cols\">\n",
       "    <tr>\n",
       "        <th style=\"padding-left: 1em; padding-right: 1em; text-align: center\">URI</th>\n",
       "        <th style=\"padding-left: 1em; padding-right: 1em; text-align: center\">name</th>\n",
       "        <th style=\"padding-left: 1em; padding-right: 1em; text-align: center\">text</th>\n",
       "    </tr>\n",
       "    <tr>\n",
       "        <td style=\"padding-left: 1em; padding-right: 1em; text-align: center; vertical-align: top\">&lt;http://dbpedia.org/resou<br>rce/Digby_Morrell&gt; ...</td>\n",
       "        <td style=\"padding-left: 1em; padding-right: 1em; text-align: center; vertical-align: top\">Digby Morrell</td>\n",
       "        <td style=\"padding-left: 1em; padding-right: 1em; text-align: center; vertical-align: top\">digby morrell born 10<br>october 1979 is a former ...</td>\n",
       "    </tr>\n",
       "    <tr>\n",
       "        <td style=\"padding-left: 1em; padding-right: 1em; text-align: center; vertical-align: top\">&lt;http://dbpedia.org/resou<br>rce/Alfred_J._Lewy&gt; ...</td>\n",
       "        <td style=\"padding-left: 1em; padding-right: 1em; text-align: center; vertical-align: top\">Alfred J. Lewy</td>\n",
       "        <td style=\"padding-left: 1em; padding-right: 1em; text-align: center; vertical-align: top\">alfred j lewy aka sandy<br>lewy graduated from ...</td>\n",
       "    </tr>\n",
       "    <tr>\n",
       "        <td style=\"padding-left: 1em; padding-right: 1em; text-align: center; vertical-align: top\">&lt;http://dbpedia.org/resou<br>rce/Harpdog_Brown&gt; ...</td>\n",
       "        <td style=\"padding-left: 1em; padding-right: 1em; text-align: center; vertical-align: top\">Harpdog Brown</td>\n",
       "        <td style=\"padding-left: 1em; padding-right: 1em; text-align: center; vertical-align: top\">harpdog brown is a singer<br>and harmonica player who ...</td>\n",
       "    </tr>\n",
       "    <tr>\n",
       "        <td style=\"padding-left: 1em; padding-right: 1em; text-align: center; vertical-align: top\">&lt;http://dbpedia.org/resou<br>rce/Franz_Rottensteiner&gt; ...</td>\n",
       "        <td style=\"padding-left: 1em; padding-right: 1em; text-align: center; vertical-align: top\">Franz Rottensteiner</td>\n",
       "        <td style=\"padding-left: 1em; padding-right: 1em; text-align: center; vertical-align: top\">franz rottensteiner born<br>in waidmannsfeld lower ...</td>\n",
       "    </tr>\n",
       "    <tr>\n",
       "        <td style=\"padding-left: 1em; padding-right: 1em; text-align: center; vertical-align: top\">&lt;http://dbpedia.org/resou<br>rce/G-Enka&gt; ...</td>\n",
       "        <td style=\"padding-left: 1em; padding-right: 1em; text-align: center; vertical-align: top\">G-Enka</td>\n",
       "        <td style=\"padding-left: 1em; padding-right: 1em; text-align: center; vertical-align: top\">henry krvits born 30<br>december 1974 in tallinn ...</td>\n",
       "    </tr>\n",
       "    <tr>\n",
       "        <td style=\"padding-left: 1em; padding-right: 1em; text-align: center; vertical-align: top\">&lt;http://dbpedia.org/resou<br>rce/Sam_Henderson&gt; ...</td>\n",
       "        <td style=\"padding-left: 1em; padding-right: 1em; text-align: center; vertical-align: top\">Sam Henderson</td>\n",
       "        <td style=\"padding-left: 1em; padding-right: 1em; text-align: center; vertical-align: top\">sam henderson born<br>october 18 1969 is an ...</td>\n",
       "    </tr>\n",
       "    <tr>\n",
       "        <td style=\"padding-left: 1em; padding-right: 1em; text-align: center; vertical-align: top\">&lt;http://dbpedia.org/resou<br>rce/Aaron_LaCrate&gt; ...</td>\n",
       "        <td style=\"padding-left: 1em; padding-right: 1em; text-align: center; vertical-align: top\">Aaron LaCrate</td>\n",
       "        <td style=\"padding-left: 1em; padding-right: 1em; text-align: center; vertical-align: top\">aaron lacrate is an<br>american music producer ...</td>\n",
       "    </tr>\n",
       "    <tr>\n",
       "        <td style=\"padding-left: 1em; padding-right: 1em; text-align: center; vertical-align: top\">&lt;http://dbpedia.org/resou<br>rce/Trevor_Ferguson&gt; ...</td>\n",
       "        <td style=\"padding-left: 1em; padding-right: 1em; text-align: center; vertical-align: top\">Trevor Ferguson</td>\n",
       "        <td style=\"padding-left: 1em; padding-right: 1em; text-align: center; vertical-align: top\">trevor ferguson aka john<br>farrow born 11 november ...</td>\n",
       "    </tr>\n",
       "    <tr>\n",
       "        <td style=\"padding-left: 1em; padding-right: 1em; text-align: center; vertical-align: top\">&lt;http://dbpedia.org/resou<br>rce/Grant_Nelson&gt; ...</td>\n",
       "        <td style=\"padding-left: 1em; padding-right: 1em; text-align: center; vertical-align: top\">Grant Nelson</td>\n",
       "        <td style=\"padding-left: 1em; padding-right: 1em; text-align: center; vertical-align: top\">grant nelson born 27<br>april 1971 in london  ...</td>\n",
       "    </tr>\n",
       "    <tr>\n",
       "        <td style=\"padding-left: 1em; padding-right: 1em; text-align: center; vertical-align: top\">&lt;http://dbpedia.org/resou<br>rce/Cathy_Caruth&gt; ...</td>\n",
       "        <td style=\"padding-left: 1em; padding-right: 1em; text-align: center; vertical-align: top\">Cathy Caruth</td>\n",
       "        <td style=\"padding-left: 1em; padding-right: 1em; text-align: center; vertical-align: top\">cathy caruth born 1955 is<br>frank h t rhodes ...</td>\n",
       "    </tr>\n",
       "</table>\n",
       "[59071 rows x 3 columns]<br/>Note: Only the head of the SFrame is printed.<br/>You can use print_rows(num_rows=m, num_columns=n) to print more rows and columns.\n",
       "</div>"
      ],
      "text/plain": [
       "Columns:\n",
       "\tURI\tstr\n",
       "\tname\tstr\n",
       "\ttext\tstr\n",
       "\n",
       "Rows: 59071\n",
       "\n",
       "Data:\n",
       "+-------------------------------+---------------------+\n",
       "|              URI              |         name        |\n",
       "+-------------------------------+---------------------+\n",
       "| <http://dbpedia.org/resour... |    Digby Morrell    |\n",
       "| <http://dbpedia.org/resour... |    Alfred J. Lewy   |\n",
       "| <http://dbpedia.org/resour... |    Harpdog Brown    |\n",
       "| <http://dbpedia.org/resour... | Franz Rottensteiner |\n",
       "| <http://dbpedia.org/resour... |        G-Enka       |\n",
       "| <http://dbpedia.org/resour... |    Sam Henderson    |\n",
       "| <http://dbpedia.org/resour... |    Aaron LaCrate    |\n",
       "| <http://dbpedia.org/resour... |   Trevor Ferguson   |\n",
       "| <http://dbpedia.org/resour... |     Grant Nelson    |\n",
       "| <http://dbpedia.org/resour... |     Cathy Caruth    |\n",
       "+-------------------------------+---------------------+\n",
       "+-------------------------------+\n",
       "|              text             |\n",
       "+-------------------------------+\n",
       "| digby morrell born 10 octo... |\n",
       "| alfred j lewy aka sandy le... |\n",
       "| harpdog brown is a singer ... |\n",
       "| franz rottensteiner born i... |\n",
       "| henry krvits born 30 decem... |\n",
       "| sam henderson born october... |\n",
       "| aaron lacrate is an americ... |\n",
       "| trevor ferguson aka john f... |\n",
       "| grant nelson born 27 april... |\n",
       "| cathy caruth born 1955 is ... |\n",
       "+-------------------------------+\n",
       "[59071 rows x 3 columns]\n",
       "Note: Only the head of the SFrame is printed.\n",
       "You can use print_rows(num_rows=m, num_columns=n) to print more rows and columns."
      ]
     },
     "execution_count": 2,
     "metadata": {},
     "output_type": "execute_result"
    }
   ],
   "source": [
    "# import wiki data\n",
    "wiki = gl.SFrame('people_wiki.gl/')\n",
    "wiki"
   ]
  },
  {
   "cell_type": "markdown",
   "metadata": {},
   "source": [
    "In the original data, each Wikipedia article is represented by a URI, a name, and a string containing the entire text of the article. Recall from the video lectures that LDA requires documents to be represented as a _bag of words_, which ignores word ordering in the document but retains information on how many times each word appears. As we have seen in our previous encounters with text data, words such as 'the', 'a', or 'and' are by far the most frequent, but they appear so commonly in the English language that they tell us almost nothing about how similar or dissimilar two documents might be. \n",
    "\n",
    "Therefore, before we train our LDA model, we will preprocess the Wikipedia data in two steps: first, we will create a bag of words representation for each article, and then we will remove the common words that don't help us to distinguish between documents. For both of these tasks we can use pre-implemented tools from GraphLab Create:"
   ]
  },
  {
   "cell_type": "code",
   "execution_count": 3,
   "metadata": {
    "collapsed": true
   },
   "outputs": [],
   "source": [
    "wiki_docs = gl.text_analytics.count_words(wiki['text'])\n",
    "\n",
    "# SArray.dict_trim_by_keys(keys, exclude=True)\n",
    "# Filter an SArray of dictionary type by the given keys.\n",
    "# If True, all keys that are in the input key list are removed. \n",
    "# If False, only keys that are in the input key list are retained.\n",
    "wiki_docs = wiki_docs.dict_trim_by_keys(gl.text_analytics.stopwords(), exclude=True)"
   ]
  },
  {
   "cell_type": "code",
   "execution_count": 4,
   "metadata": {
    "collapsed": false
   },
   "outputs": [
    {
     "data": {
      "text/plain": [
       "dtype: dict\n",
       "Rows: 59071\n",
       "[{'coach': 2L, 'carltons': 1L, '2005': 1L, 'selection': 1L, '21': 1L, 'northern': 1L, 'bullants': 1L, 'perth': 1L, 'sydney': 1L, '2014': 1L, '2011': 1L, '2013': 1L, 'division': 1L, 'brisbaneafter': 1L, 'rules': 1L, 'assistant': 1L, 'spanned': 1L, 'early': 1L, 'game': 1L, 'continued': 1L, '44game': 1L, 'round': 1L, 'parade': 1L, 'born': 1L, 'clubs': 1L, 'college': 1L, 'blues': 1L, 'falcons': 1L, 'hill': 1L, 'drawn': 1L, 'kangaroos': 3L, 'kicked': 1L, 'exchange': 1L, 'mckernan': 1L, '19982000': 1L, 'losing': 1L, 'essendon': 1L, 'teaches': 1L, 'box': 1L, 'league': 4L, 'career': 1L, '32': 1L, 'david': 1L, 'melbourne': 1L, 'digby': 1L, 'games': 1L, 'leading': 2L, 'traded': 1L, 'goalkicker': 1L, 'morrell': 5L, 'acted': 1L, 'carlton': 2L, 'district': 1L, 'west': 2L, 'hawks': 1L, 'draft': 1L, 'coburg': 1L, 'forward': 1L, 'australian': 3L, 'recruited': 1L, 'shifted': 1L, 'club': 5L, 'season': 3L, 'vflaffiliate': 1L, 'goals': 1L, '10': 1L, 'october': 1L, 'footballer': 1L, 'victorian': 1L, 'played': 3L, 'teague': 1L, 'strathmore': 1L, 'premier': 1L, 'delisted': 1L, 'australia': 1L, 'education': 1L, 'physical': 1L, 'afl': 1L, 'end': 2L, 'premiership': 1L, 'retiring': 1L, 'edflhe': 1L, 'corey': 1L, 'rookie': 1L, 'play': 1L, 'coached': 1L, 'football': 10L, '2008': 1L, 'vfl': 1L, '1979': 1L, 'age': 1L, '2002': 1L, '2003': 1L, '2000': 1L, '2001': 1L, '2006': 1L, '2007': 1L, 'time': 1L, 'senior': 3L, '2009': 1L, 'aflfrom': 1L, 'playing': 2L, 'western': 1L}, {'precise': 1L, 'thomas': 1L, 'disturbances': 1L, 'wehr': 1L, 'bright': 1L, 'sleep': 2L, 'nimh': 1L, 'monitored': 1L, 'disorders': 4L, 'chronobiologic': 1L, 'treatment': 3L, 'rhythm': 1L, 'maryland': 1L, 'include': 1L, 'plasma': 1L, 'colleague': 1L, 'evening': 2L, 'assay': 1L, 'pharmacology': 1L, 'ophthalmology': 1L, 'closely': 1L, 'day': 2L, 'university': 2L, 'morning': 2L, 'winter': 1L, 'individuals': 1L, 'biological': 1L, 'mental': 1L, 'national': 1L, 'circadian': 3L, 'laboratory': 1L, '24hour': 1L, 'sandy': 1L, 'mood': 1L, 'chicago': 1L, 'pattern': 1L, 'robert': 1L, 'research': 2L, 'current': 1L, 'health': 2L, 'full': 1L, 'drifting': 1L, 'focused': 1L, 'graduated': 1L, 'relying': 1L, 'lag': 1L, 'rhythms': 1L, 'jet': 1L, 'institute': 1L, 'shift': 1L, 'prior': 1L, 'aka': 1L, 'studies': 1L, 'blind': 1L, 'lewy': 3L, 'modalities': 1L, 'phasedelay': 1L, 'sack': 1L, 'precisely': 1L, 'working': 1L, '1981': 1L, 'describes': 1L, 'alfred': 1L, 'secretion': 1L, 'phaseadvance': 1L, 'oregon': 3L, 'worked': 1L, '94': 1L, 'md': 1L, 'hour': 1L, 'developing': 1L, 'science': 1L, 'work': 1L, 'publications': 1L, 'scheduled': 1L, 'defined': 1L, 'december': 1L, 'pubmed': 1L, 'melatonin': 5L, 'vicechair': 1L, 'ohsu': 1L, 'studying': 1L, 'holds': 1L, 'administration': 3L, 'shifts': 2L, 'depression': 1L, 'bethesda': 1L, 'department': 1L, 'maladaptation': 1L, 'time': 1L, 'phd': 1L, 'moving': 1L, 'assessed': 1L, 'totally': 1L, 'types': 1L, 'exposure': 3L, 'hormone': 1L, 'light': 3L, 'professor': 1L, '25hour': 1L, '1973': 1L, 'capsule': 1L, '2005': 1L, 'psychiatry': 2L, 'senior': 1L}, {'issued': 1L, 'nominated': 1L, 'years': 1L, 'leads': 1L, 'tours': 1L, 'teamed': 1L, 'cds': 1L, 'broadcaster': 1L, 'harmonica': 2L, 'gutsy': 1L, 'voted': 1L, '2014': 2L, 'piano': 1L, 'thousands': 1L, '2010': 1L, 'brown': 2L, 'big': 1L, 'band': 3L, 'hamilton': 1L, 'association': 1L, 'northwestern': 1L, 'performing': 1L, 'comprising': 1L, 'arthur': 1L, 'miles': 1L, 'release': 1L, 'honored': 1L, 'society': 1L, 'year': 1L, 'home': 2L, 'portland': 1L, 'harp': 1L, 'canada': 2L, 'chicago': 2L, 'extensively': 1L, 'won': 1L, 'tens': 1L, 'hailing': 1L, 'full': 1L, 'small': 1L, 'active': 1L, 'dates': 1L, 'canadian': 2L, 'influential': 1L, 'blind': 1L, 'canadas': 1L, 'scene': 1L, 'venues': 1L, 'cd': 1L, 'germanyover': 1L, 'festivals': 1L, 'maple': 1L, '1982': 1L, 'guest': 1L, 'working': 1L, 'duo': 1L, 'muddy': 1L, 'awarded': 1L, 'harpdog': 2L, 'naturally': 1L, 'juggles': 1L, 'life': 1L, 'club': 1L, 'oregon': 1L, 'released': 1L, 'toronto': 1L, 'combos': 1L, '1995': 1L, 'holger': 1L, 'promoter': 1L, 'edmonds': 1L, 'recording': 1L, 'crossed': 1L, 'petersen': 1L, 'called': 1L, 'classic': 1L, 'covers': 1L, 'states': 1L, 'player': 2L, 'graham': 1L, 'blues': 9L, 'mid1950s': 1L, 'united': 1L, 'lemon': 1L, 'guitarist': 1L, '1': 1L, 'vancouver': 1L, 'browns': 1L, 'nw': 1L, 'album': 1L, 'electric': 1L, 'juno': 1L, 'albumhe': 1L, 'membership': 1L, 'award': 2L, 'singer': 1L, 'bluesgospel': 1L, 'surveybrown': 1L, 'original': 1L, 'traditional': 1L, 'cascade': 1L, 'time': 1L, 'playing': 1L, 'songs': 1L}, {'bauforschung': 1L, 'kurdlawitzpreis': 1L, 'german': 2L, 'ending': 1L, 'produced': 2L, 'including': 1L, 'austrian': 1L, 'hundredth': 1L, 'merkur': 1L, '1942': 1L, 'dick': 2L, '28': 1L, 'lower': 1L, 'praised': 1L, 'listing': 1L, 'stanisaw': 1L, 'apek': 1L, 'silverberg': 1L, 'trnaslations': 1L, 'jeanpierre': 1L, 'klein': 1L, 'translations': 1L, 'matters': 1L, 'wellss': 1L, 'heinlein': 1L, 'years': 3L, 'association': 1L, 'brought': 2L, 'olaf': 1L, 'fields': 1L, 'university': 1L, 'journalism': 1L, 'herbert': 1L, 'january': 1L, 'served': 1L, 'european': 1L, 'zelazny': 1L, 'view': 1L, 'reference': 1L, 'describedroger': 1L, 'series': 1L, 'rottensteiner': 3L, 'born': 1L, 'books': 2L, 'fifty': 1L, 'die': 1L, 'phantastische': 1L, 'close': 1L, 'special': 1L, 'phantastischen': 1L, 'total': 1L, 'abe': 1L, 'cordwainer': 1L, 'strugatski': 1L, 'robert': 1L, 'nonwriter': 1L, '18': 1L, 'critical': 1L, 'stapledon': 1L, 'receiving': 1L, 'numerous': 1L, 'public': 1L, 'achievements': 1L, 'edited': 1L, 'comparable': 1L, 'romane': 1L, 'journal': 2L, 'republished': 1L, 'lem': 4L, 'betterknown': 1L, 'york': 1L, 'advisor': 1L, 'franz': 1L, 'philip': 2L, 'fifteen': 1L, 'publisher': 1L, 'works': 3L, 'working': 1L, 'language': 1L, 'asimov': 1L, 'sterreichisches': 1L, 'controversy': 1L, 'american': 1L, 'und': 1L, 'barry': 1L, 'promotion': 1L, 'introduced': 1L, 'book': 2L, 'franke': 1L, 'smith': 1L, 'number': 3L, 'karel': 1L, 'fantasy': 1L, 'austria': 2L, 'kobo': 1L, 'bibliothek': 1L, 'aldiss': 1L, 'awarded': 1L, 'institut': 1L, 'illustrated': 1L, '1980': 1L, 'start': 1L, 'addition': 1L, 'leading': 2L, 'negative': 1L, 'fiction': 7L, 'continental': 1L, 'quarber': 1L, 'andersonare': 1L, 'editor': 2L, 'hundred': 1L, 'assessment': 1L, 'vienna': 2L, 'seriesrottensteiner': 1L, 'factor': 1L, 'andrevonthe': 1L, 'authors': 3L, 'fantasticrottensteiner': 1L, 'highest': 1L, 'producing': 1L, 'hg': 1L, '1998': 1L, '1995': 1L, 'science': 6L, 'work': 1L, 'lesser': 1L, 'suhrkamp': 1L, 'travesties': 1L, 'doctorate': 1L, 'history': 1L, 'nesvadba': 1L, 'studied': 1L, 'figure': 1L, 'stated': 1L, 'year': 1L, 'brothersin': 1L, 'critic': 1L, 'eighteen': 1L, 'banal': 1L, '19791985': 1L, 'united': 1L, '1969': 1L, 'anthology': 1L, 'waidmannsfeld': 1L, '1963': 1L, 'anthologies': 1L, 'brian': 1L, 'writers': 2L, 'recognition': 1L, 'provoked': 1L, 'stanislaw': 2L, 'malzberg': 1L, 'statesrottensteiner': 1L, 'fr': 1L, '2004': 1L, 'verlags': 1L, 'english': 1L, 'josef': 1L, 'wells': 1L, 'produce': 1L, 'librarian': 1L, 'englishreading': 1L, '1978': 1L, '1975': 2L, '1973': 1L, 'shore': 1L, 'greatest': 1L, 'volumes': 2L, 'gerard': 1L, 'occasion': 1L, 'sf': 2L, 'typical': 1L}, {'europe': 1L, '1974': 1L, '1996': 1L, 'gangstergenka': 1L, 'armchair': 1L, 'oja': 2L, 'back': 1L, 'joined': 1L, 'tugitooli': 1L, 'tag': 4L, 'palm': 1L, 'palmisaar': 1L, 'rap': 1L, 'year': 2L, 'dj': 2L, 'paul': 2L, 'hit': 1L, 'bankruptcy': 1L, 'album': 6L, 'genkas': 1L, 'group': 1L, 'estonian': 3L, 'revo': 2L, 'songs': 5L, '23': 1L, 'famous': 3L, 'vacation': 1L, 'cent': 1L, '18': 1L, 'promo': 1L, 'tallinn': 3L, 'december': 1L, 'born': 1L, 'band': 1L, 'homophobes': 1L, 'toe': 4L, 'real': 1L, 'solo': 1L, 'curtis': 1L, 'rapping': 1L, 'started': 5L, 'big': 1L, 'company': 1L, 'genka': 5L, 'leegion': 1L, 'records': 1L, 'kuhnja': 1L, 'studio': 1L, 'legendary': 1L, 'pankrot': 1L, 'released': 3L, '1998': 1L, 'schoolmate': 1L, 'legendaarne': 3L, 'stagename': 1L, 'warmup': 1L, 'performers': 1L, 'gangster': 1L, 'island': 1L, '30': 1L, 'rapper': 1L, '50': 1L, 'called': 1L, 'droopy': 1L, 'record': 2L, 'tour': 2L, '2001': 1L, '2006': 1L, '2007': 1L, '2004': 1L, 'henry': 1L, 'arhm': 3L, 'making': 1L, 'rapped': 1L, 'consisted': 1L, 'krvits': 1L, 'producergenka': 1L}, {'nominated': 1L, 'ended': 1L, 'xeroxed': 1L, 'niblit': 1L, 'alternative': 1L, 'captain': 1L, 'weekly': 1L, 'toilets': 1L, 'awardshis': 1L, 'earned': 1L, 'writer': 1L, 'character': 1L, 'woodstock': 2L, 'writing': 1L, 'program': 1L, '4': 1L, '2010': 1L, 'henderson': 3L, 'march': 1L, 'penises': 1L, 'bear': 1L, 'scene': 1L, 'whistle': 4L, 'simmons': 1L, 'hendersons': 3L, 'bigger': 2L, 'school': 2L, 'storyboard': 1L, 'magic': 4L, 'bobby': 1L, 'wordless': 1L, '2010in': 1L, 'nickelodeon': 1L, 'red': 1L, 'squarepants': 1L, 'emmy': 1L, 'wrote': 1L, 'spongebob': 1L, 'series': 2L, 'directing': 1L, 'born': 2L, 'college': 2L, 'year': 1L, 'special': 1L, 'graduating': 1L, 'humor': 1L, 'expert': 1L, 'harvey': 1L, 'review': 1L, 'historyhenderson': 1L, 'contained': 1L, 'crude': 1L, '5009': 3L, 'bestknown': 1L, 'attended': 1L, 'yorks': 1L, '1987': 1L, 'journal': 1L, 'drew': 2L, 'busy': 1L, 'awards': 1L, 'york': 2L, 'starring': 1L, 'graduated': 1L, 'earliest': 1L, 'larger': 1L, 'programming': 1L, 'blobby': 1L, 'american': 2L, 'published': 3L, 'yorksince': 1L, 'hometown': 1L, 'number': 1L, 'magazines': 1L, 'weiss': 1L, 'strip': 2L, 'comic': 5L, 'city': 1L, 'arts': 1L, '1980': 1L, 'expressnews': 1L, 'boiceville': 1L, 'due': 1L, '1988': 1L, 'spaz': 1L, 'asses': 1L, 'longestrunning': 1L, 'featuring': 1L, 'friend': 1L, 'award': 1L, 'visual': 1L, 'lives': 1L, 'midtolate': 1L, '1980s': 1L, '1993': 2L, 'october': 1L, 'hour': 1L, 'comics': 2L, '18': 1L, 'work': 1L, 'cartoonist': 1L, 'onteora': 1L, '1991henderson': 1L, 'animated': 1L, 'called': 1L, 'san': 1L, 'sam': 1L, 'turned': 1L, 'high': 1L, 'heard': 1L, 'minicomics': 2L, 'monroe': 1L, 'pink': 1L, '1969': 1L, 'began': 2L, 'magazine': 1L, 'sic': 1L, '55th': 1L, '19992004in': 1L, 'comedy': 1L, 'junk': 1L, 'collection': 1L, 'scratchings': 1L, 'nomination': 1L, 'man': 1L, 'antonio': 1L, '2003': 1L, 'funniest': 1L, 'title': 1L, 'selfpublishing': 2L, 'reprinted': 1L}, {'exclusive': 2L, 'producer': 1L, 'show': 2L, 'developed': 1L, 'rascals': 1L, 'major': 2L, 'produced': 3L, 'including': 1L, 'crack': 1L, 'classic': 1L, 'kanye': 1L, 'specialedition': 1L, 'york': 1L, 'jacobs': 1L, 'based': 1L, 'jay': 1L, 'paris': 1L, 'observe': 1L, 'credited': 2L, 'young': 1L, 'created': 1L, 'aaron': 5L, 'jam': 1L, 'black': 1L, 'fade': 1L, 'prison': 1L, 'experimenting': 1L, 'maryland': 1L, 'east': 1L, 'local': 1L, 'dj': 3L, 'wide': 1L, 'nightclubs': 1L, 'successful': 1L, 'early': 1L, 'records': 2L, 'quest': 1L, 'spank': 1L, 'basement': 1L, 'report': 1L, 'world': 1L, 'cool': 1L, 'clan': 1L, 'knock': 1L, 'cable': 1L, 'success': 1L, 'artist': 1L, 'university': 1L, 'mndr': 1L, 'jayz': 1L, '1999': 1L, 'diy': 1L, 'reasonable': 1L, 'rock': 1L, 'cashmere': 1L, 'soulja': 1L, 'athletics': 3L, 'amanda': 1L, 'em': 1L, 'entourage': 1L, 'lucien': 1L, 'series': 2L, 'artists': 1L, 'colette': 1L, 'born': 1L, 'doolittleat': 1L, 'productions': 1L, 'recently': 1L, 'cocacola': 1L, 'album': 1L, 'wire': 3L, 'ricks': 1L, 'eliza': 2L, 'rascal': 2L, 'slick': 1L, 'label': 2L, 'collaborated': 2L, 'performanceslacrate': 1L, 'jayzs': 1L, 'lacrate': 12L, 'milkcrate': 6L, 'shows': 1L, 'videogame': 1L, 'hero': 1L, 'outkast': 1L, 'syracuse': 1L, 'tour': 1L, 'sold': 1L, 'dazed': 1L, 'ferrariwhich': 1L, 'highlandtown': 1L, 'youngest': 1L, 'attending': 1L, 'tracks': 1L, 'studio': 1L, 'vinyl': 1L, 'starring': 1L, 'tshirtin': 1L, 'baltimores': 1L, 'rocafella': 1L, 'helping': 1L, 'hbo': 4L, 'kids': 1L, 'launch': 1L, 'rogenrecently': 1L, 'lacrates': 1L, 'nightclub': 1L, 'prior': 1L, 'american': 1L, 'doolittle': 1L, 'soundtrack': 1L, 'recordings': 1L, 'djing': 1L, 'streamz': 1L, 'road': 1L, 'king': 1L, 'tribe': 1L, 'vegas': 1L, 'features': 1L, 'scene': 1L, 'pop': 1L, 'highly': 1L, 'gorillaz': 1L, 'featured': 1L, 'called': 1L, 'delicious': 1L, 'blank': 1L, 'custom': 1L, 'platinum': 1L, 'city': 1L, 'working': 1L, 'marc': 1L, 'bmore': 3L, 'west': 1L, 'create': 1L, 'support': 1L, 'mark': 1L, 'parties': 1L, 'live': 1L, 'doubt': 1L, 'music': 7L, 'house': 1L, 'ronson': 1L, 'featuring': 1L, 'vans': 1L, 'hard': 1L, 'boy': 1L, 'club': 2L, 'ragehbo': 1L, 'released': 3L, 'remixed': 1L, 'commissioned': 2L, 'level': 1L, 'mcs': 1L, '10': 1L, 'television': 1L, 'grew': 1L, 'mixtapes': 1L, 'mc': 1L, 'culture': 2L, 'collaborations': 1L, 'ultramagnetic': 1L, 'official': 2L, 'recording': 1L, 'record': 2L, 'historical': 1L, 'mr': 1L, 'making': 1L, 'dizzee': 3L, 'def': 1L, 'mz': 1L, 'showlacrate': 1L, 'fashion': 5L, 'pellatfinet': 1L, 'played': 1L, 'confused': 1L, 'graffiti': 1L, 'allen': 3L, 'madonna': 1L, 'wutang': 1L, 'eminems': 1L, 'clothing': 2L, 'campus': 1L, 'film': 1L, 'summers': 1L, 'payday': 1L, 'began': 2L, 'song': 1L, 'brandaaron': 1L, 'range': 1L, 'epmd': 1L, 'started': 1L, 'vital': 1L, 'role': 1L, 'popularizing': 1L, 'toured': 1L, 'nyc': 2L, 'lily': 3L, 'life': 2L, 'designer': 2L, 'star': 1L, 'tshirts': 2L, 'collaboration': 1L, 'time': 1L, 'director': 1L, 'sponsored': 1L, 'interning': 1L, 'rakim': 3L, 'gutter': 2L, 'tramps': 1L, 'age': 1L, 'seth': 1L, 'spent': 1L, 'baltimoreaaron': 1L, 'verb': 1L, 'ferrari': 1L, 'baltimore': 8L, 'writing': 1L, '2005': 1L, 'streetwear': 2L, '2009': 1L, 'original': 1L}, {'taxi': 1L, 'salon': 1L, 'gangs': 1L, 'text': 1L, 'agreed': 1L, 'wood': 1L, 'thomas': 1L, 'nominated': 1L, 'years': 1L, 'produced': 3L, 'chair': 1L, 'enjoyed': 1L, '1': 1L, 'du': 1L, 'chosen': 1L, 'regarded': 1L, 'april': 2L, 'fergusons': 2L, 'writing': 2L, 'critical': 1L, 'kinkajou': 1L, 'developed': 1L, 'alberta': 1L, 'vancouver': 1L, '2011': 1L, 'lake': 1L, '2013': 1L, '2012': 1L, '11': 1L, 'march': 1L, 'returned': 1L, 'returning': 1L, 'pages': 1L, 'commemorate': 1L, 'cultural': 1L, 'ferguson': 2L, 'fall': 1L, 'press': 1L, 'penname': 1L, 'burns': 1L, 'burnt': 1L, 'day': 1L, 'worlds': 1L, 'awaited': 1L, 'prize': 1L, 'countries': 1L, 'die': 1L, 'university': 2L, 'book': 2L, '54': 1L, 'served': 1L, 'raised': 1L, 'river': 3L, 'dennis': 1L, 'dir': 2L, 'county': 1L, 'declared': 1L, 'work': 1L, 'fair': 1L, 'people': 1L, 'house': 1L, '1947': 2L, 'library': 1L, 'past': 1L, 'born': 1L, 'books': 1L, 'quebec': 2L, 'miniseries': 1L, 'novelist': 2L, 'tenth': 1L, 'special': 1L, 'canada': 3L, 'plays': 1L, 'driving': 1L, 'livres': 1L, 'arguably': 1L, 'novels': 3L, 'martins': 1L, 'anniversary': 1L, 'ice': 2L, 'creative': 1L, 'written': 1L, 'won': 1L, 'sold': 1L, '2015in': 1L, 'europe': 1L, 'sixteen': 1L, 'timekeeper': 1L, 'run': 1L, 'lee': 1L, 'journal': 1L, 'night': 2L, 'sprung': 2L, 'french': 1L, 'water': 1L, 'york': 3L, 'ontario': 1L, 'studio': 2L, 'twentieth': 1L, 'genre': 1L, 'major': 1L, 'teaches': 1L, 'guy': 2L, 'starborn': 1L, 'stage': 1L, 'received': 2L, 'dunne': 1L, 'language': 1L, 'invit': 1L, 'midteens': 1L, 'invited': 2L, 'infinitheatre': 3L, 'americas': 1L, 'paris': 2L, 'farrow': 3L, 'place': 1L, 'published': 3L, 'aka': 1L, 'qubcoise': 1L, 'settled': 1L, 'seaforth': 1L, 'montreal': 6L, '1000': 1L, 'equally': 1L, 'hudson': 2L, 'bunkhousesin': 1L, 'canadas': 2L, 'claim': 1L, 'paperback': 1L, 'leon': 1L, 'highly': 2L, 'sienna': 1L, 'guests': 1L, 'village': 1L, 'union': 1L, 'ninth': 1L, 'crime': 2L, 'november': 2L, 'city': 3L, 'arts': 2L, '1985': 1L, 'publication': 2L, 'working': 1L, 'hes': 1L, 'festival': 1L, 'west': 1L, 'trilogy': 1L, 'long': 3L, 'fiction': 3L, 'barnacle': 1L, 'twenties': 1L, 'storm': 1L, 'time': 1L, 'travelled': 1L, 'john': 4L, 'opens': 1L, 'option': 1L, 'successful': 1L, 'masque': 1L, 'onyx': 1L, 'award': 1L, '2014city': 1L, 'zarathustra': 1L, '20000': 1L, 'maclennan': 1L, 'sun': 1L, 'worked': 2L, 'highest': 1L, 'canadian': 3L, 'toronto': 1L, 'high': 1L, '17': 1L, '1999': 1L, 'lacadmie': 1L, 'des': 2L, 'booklist': 1L, 'today': 1L, 'praise': 1L, 'newspaper': 1L, 'murders': 1L, 'called': 4L, 'history': 2L, 'bridge': 1L, 'acclaim': 1L, 'preeminent': 1L, 'century': 1L, 'cited': 1L, 'states': 1L, 'concordia': 1L, 'caused': 1L, 'rooke': 1L, 'huron': 1L, 'film': 1L, 'booksst': 1L, 'dhonneur': 1L, 'united': 1L, 'author': 1L, 'things': 1L, 'began': 1L, 'hugh': 1L, 'write': 2L, 'chants': 1L, 'writers': 3L, 'writersextraordinary': 1L, 'northwest': 1L, 'fourth': 1L, 'beach': 1L, 'company': 1L, 'play': 5L, 'literature': 1L, 'simon': 1L, 'writerinresidence': 1L, 'theatre': 3L, 'centre': 1L, 'series': 3L, 'english': 1L, 'schuster': 1L, 'coproduced': 1L, 'france': 2L, 'authors': 1L, 'germany': 1L, 'faculty': 1L, 'frequently': 1L, 'railway': 1L, 'ziet': 1L, 'early': 1L, 'short': 1L, 'banff': 1L, 'gravitated': 1L, '1977': 1L, 'age': 1L, 'trevor': 3L, '2002': 4L, 'bestseller': 1L, '2006': 1L, '2004': 1L, '2005': 1L, 'lives': 1L}, {'houston': 1L, 'frankie': 1L, 'labels': 1L, 'hardcores': 1L, 'produced': 1L, 'roy': 1L, 'london': 2L, 'teamed': 1L, 'asylum': 1L, 'godfathers': 1L, '27': 1L, 'mcneal': 1L, 'present': 1L, 'heavies': 1L, 'include': 1L, 'gave': 1L, 'brown': 2L, 'dj': 2L, 'producernelson': 1L, 'continues': 1L, 'early': 2L, 'records': 3L, 'birth': 1L, 'breakbeat': 1L, 'level': 1L, 'james': 2L, 'roll': 1L, 'garage': 1L, 'vibes': 2L, 'knight': 1L, 'including': 2L, 'guy': 1L, 'dodger': 1L, 'tei': 1L, 'bump': 2L, 'house': 2L, '19901993': 1L, 'thelma': 1L, 'gilberto': 1L, 'born': 1L, 'juliet': 1L, 'delivered': 2L, 'jodeci': 1L, 'liberty': 1L, 'label': 3L, 'consistently': 1L, 'bass': 1L, 'wishdokta': 3L, 'champagne': 1L, 'numerous': 1L, 'red': 1L, 'rosie': 1L, 'uk': 3L, 'kelis': 1L, 'aaliyah': 1L, 'hits': 1L, 'legendary': 1L, 'days': 1L, 'goldie': 1L, 'april': 1L, 'negrocan': 1L, 'gaines': 1L, 'scene': 1L, 'lutricia': 1L, 'misteeq': 1L, 'simply': 1L, 'artists': 1L, '1990s': 1L, 'flex': 2L, 'city': 1L, 'knuckles': 1L, 'alterego': 1L, '2step': 1L, 'top': 1L, 'due': 1L, 'ayers': 1L, 'music': 1L, 'ah': 1L, 'biggest': 2L, 'heralded': 1L, 'happy': 2L, 'head': 1L, 'remixer': 1L, 'club': 1L, 'brand': 1L, 'remixed': 1L, 'worked': 1L, 'producing': 1L, 'funk': 1L, 'sound': 1L, 'king': 1L, '1993': 1L, '1997': 1L, 'musicsome': 1L, 'scenes': 1L, 'towa': 1L, 'roberts': 1L, 'record': 2L, 'evolved': 1L, 'artful': 1L, 'ripe': 2L, 'remained': 1L, 'nng': 1L, 'evelyn': 1L, 'hardcoredrum': 1L, 'delivers': 1L, 'drawer': 1L, '1971': 1L, 'beverley': 1L, 'bebel': 1L, 'grant': 1L, 'began': 1L, 'traxin': 1L, 'started': 1L, 'sunday': 1L, 'anthems': 1L, 'garagehe': 1L, 'nice': 2L, 'swing': 1L, 'produce': 1L, 'faithless': 1L, 'nelson': 4L, 'jamiroquai': 1L, 'english': 1L, 'kickin': 1L, 'agnes': 1L}, {'phenomenon': 1L, 'deborash': 1L, 'innovative': 1L, 'jay': 1L, 'cornell': 1L, 'writing': 1L, 'treatment': 1L, '2014': 1L, '2013': 1L, 'explorations': 1L, 'good': 1L, 'conversations': 1L, '1955': 1L, 'listening': 1L, 'press': 2L, 'university': 5L, 'truths': 1L, 'shoshana': 1L, 'ashes': 1L, 'roger': 1L, 'yale': 2L, 'felman': 1L, 'leaders': 1L, 'reference': 1L, 'catastrophic': 1L, 'born': 1L, 'taught': 1L, 'humane': 1L, 'forthcoming': 1L, 'conceptualizing': 1L, 'ways': 1L, 'coeditor': 1L, 'robert': 1L, 'critical': 2L, 'trauma': 6L, 'encounters': 1L, 'theory': 2L, 'unconscious': 1L, 'frank': 1L, 'harvard': 1L, 'twentieth': 1L, 'received': 1L, 'traumas': 1L, 'hopkins': 5L, 'rhodes': 1L, 'experience': 2L, 'cathy': 1L, '173182': 1L, 'fictions': 1L, 'letters': 1L, 'previously': 1L, 'johns': 5L, 'lifton': 1L, 'pp': 1L, 'emory': 1L, 'century': 1L, 'question': 1L, '1988': 1L, 'describes': 1L, 'call': 1L, 'editor': 1L, 'memory': 1L, 'mysterious': 1L, 'caruth': 1L, 'appointed': 1L, '1991': 1L, 'md': 1L, '1995': 2L, '1996': 1L, 'work': 1L, 'empirical': 1L, 'freud': 1L, 'rutgers': 1L, 'history': 2L, 'locke': 1L, 'esch': 1L, 'helped': 1L, 'comparative': 2L, 'deconstructive': 1L, 'kant': 1L, 'author': 1L, 'trials': 1L, 'discussion': 1L, 'wordsworth': 1L, 'caruths': 1L, 'build': 1L, 'department': 1L, 'luckhurst': 1L, 'literature': 3L, 'english': 1L, 'phd': 1L, 'unclaimed': 1L, 'scholars': 1L, 'professor': 1L, 'departments': 1L, '2002': 1L, 'perceiving': 1L, 'responsibility': 1L, 'narrative': 1L, 'juridical': 1L, 'n3': 1L}, {'zwigoff': 2L, 'september': 1L, 'years': 1L, 'fundamentalists': 1L, 'drawings': 1L, '27': 1L, 'languageshe': 1L, 'girlit': 1L, 'father': 1L, 'kominskycrumbcrumb': 1L, 'parents': 2L, 'teaching': 1L, 'acrobatics': 1L, '2010': 1L, 'relocated': 1L, 'town': 1L, 'interview': 1L, 'world': 1L, 'secondary': 1L, 'school': 1L, 'artist': 2L, 'remove': 1L, 'mid2000s': 1L, 'earned': 1L, 'husband': 1L, 'critically': 1L, 'village': 1L, 'born': 3L, 'street': 1L, 'violet': 1L, 'living': 2L, 'robert': 1L, 'daniel': 1L, 'inquirer': 1L, 'americanfrench': 1L, 'told': 1L, 'christian': 1L, 'aline': 1L, 'sold': 1L, 'french': 1L, 'reported': 1L, 'eli': 1L, 'california': 1L, 'conservatives': 1L, 'wanted': 1L, 'stage': 1L, 'daughter': 1L, 'completing': 1L, 'studied': 1L, 'comedydrama': 1L, 'foreign': 1L, 'nameafter': 1L, 'turn': 1L, 'documentary': 1L, 'nearby': 1L, 'sophies': 1L, 'comix': 1L, 'sauve': 1L, 'family': 2L, 'inclusion': 1L, 'relocation': 1L, 'son': 1L, 'adaptation': 1L, 'artists': 1L, 'prepare': 1L, '1981': 1L, 'political': 1L, 'philadelphia': 1L, 'france': 3L, 'farming': 1L, 'lived': 1L, 'worker': 1L, 'apprenticed': 1L, 'released': 1L, 'construction': 1L, 'lives': 1L, 'clowes': 1L, '1991': 1L, 'valley': 1L, 'crumb': 4L, '1994': 1L, 'comics': 3L, 'sophie': 4L, 'sophia': 1L, 'circus': 1L, 'states': 1L, 'acclaimed': 1L, 'serial': 1L, 'education': 1L, 'film': 1L, 'tattoo': 1L, 'afraid': 1L, 'woodland': 1L, 'underground': 1L, 'english': 1L, 'southern': 2L, 'brooklyn': 1L, 'united': 1L, 'terry': 1L, 'winters': 1L, 'ghost': 1L, 'clowning': 1L, '2001': 1L, 'mother': 1L, 'commissioned': 1L, '2009': 1L, 'original': 1L}, {'gospels': 1L, '2010two': 1L, 'twoyear': 1L, 'imagines': 1L, 'mission': 1L, 'lds': 2L, 'cambridge': 2L, 'manchester': 2L, 'cold': 1L, 'death': 1L, 'winner': 1L, 'saints': 1L, 'mens': 1L, 'won': 1L, 'circumstances': 1L, '2011': 2L, '2010': 1L, '2013': 1L, 'universityashworths': 1L, 'eventually': 1L, 'lonely': 1L, 'march': 1L, 'account': 1L, 'dark': 1L, 'trask': 1L, '12': 1L, 'february': 1L, 'theft': 1L, 'jesus': 1L, 'founded': 1L, 'runs': 1L, 'prize': 1L, 'lost': 2L, 'january': 2L, 'university': 4L, 'renamed': 1L, 'bbc': 1L, 'betty': 1L, 'found': 1L, 'works': 1L, 'set': 1L, 'ashworth': 2L, 'unpublished': 1L, 'jenn': 2L, 'quillercouch': 1L, 'born': 1L, 'elements': 1L, 'result': 1L, 'home': 1L, 'tenth': 1L, 'network': 1L, 'novels': 1L, 'anniversary': 1L, 'creative': 4L, 'written': 1L, 'unable': 1L, 'closed': 1L, 'hymas': 1L, 'teens': 1L, 'shows': 1L, 'body': 1L, 'full': 1L, 'smithy': 1L, 'friday': 1L, 'lancashireshe': 1L, 'graduated': 1L, 'strong': 1L, 'tragedy': 1L, 'central': 2L, 'violence': 1L, 'prisonshe': 1L, 'mentor': 1L, 'published': 2L, 'teenage': 1L, 'writer': 1L, 'family': 1L, 'previously': 1L, 'relate': 1L, 'son': 1L, 'brought': 1L, 'featured': 1L, 'lancasterin': 1L, 'church': 4L, 'writing': 8L, 'sarah': 1L, 'story': 2L, '1982': 1L, 'girls': 1L, 'consultancy': 1L, 'editor': 1L, 'poet': 1L, 'novelistsshe': 1L, 'hub': 1L, 'award': 1L, 'taught': 1L, 'worked': 2L, 'boyfriend': 1L, 'kind': 1L, 'latterday': 1L, 'welcoming': 1L, 'culture': 1L, 'aims': 1L, 'computer': 1L, 'stories': 1L, 'called': 1L, 'preston': 2L, 'suspicious': 1L, 'coordinator': 1L, 'woman': 1L, 'tells': 1L, 'funny': 1L, 'memorial': 1L, 'built': 1L, 'extract': 1L, 'reality': 1L, 'member': 1L, 'writers': 1L, 'department': 1L, 'grips': 1L, 'comedy': 1L, 'lecturer': 1L, 'odd': 1L, 'literature': 1L, 'centre': 2L, 'dies': 1L, 'earlier': 1L, 'lancastrian': 1L, 'selfdeception': 1L, 'lancs': 1L, 'librarian': 1L, 'christ': 1L, 'summerhouse': 1L, 'short': 1L, 'light': 1L, 'failing': 1L, '2003': 1L, '2004': 1L, 'english': 2L, 'intimacy': 1L, '2009': 1L, 'lancashire': 1L, 'left': 1L}, {'wordmark': 1L, 'institutional': 1L, 'text': 1L, 'charles': 1L, 'illustrated': 1L, 'prix': 1L, 'including': 1L, 'alternative': 1L, 'contributions': 1L, '22': 1L, 'permanent': 1L, 'cooperhewitt': 1L, 'giants': 1L, 'band': 1L, 'designers': 1L, 'association': 1L, 'founded': 1L, 'appearing': 1L, 'presented': 1L, 'latterday': 1L, 'radio': 1L, 'work': 2L, 'national': 2L, 'born': 1L, 'computer': 1L, 'design': 2L, 'operated': 1L, 'pronounced': 1L, 'forty': 1L, 'current': 1L, 'typographique': 1L, 'public': 2L, 'bestknown': 1L, 'heffler': 1L, 'august': 1L, 'tobias': 1L, 'splithoefler': 1L, 'operating': 1L, 'york': 3L, 'morninghoeflers': 1L, 'bazaar': 1L, 'stone': 1L, 'influential': 1L, 'typeface': 1L, 'times': 2L, 'museums': 1L, 'frerejones': 3L, 'magazine': 5L, 'harpers': 1L, 'macintosh': 1L, 'named': 1L, 'apple': 1L, 'family': 1L, 'peignot': 1L, 'typefaces': 2L, 'church': 1L, '1989': 1L, 'working': 1L, 'museum': 1L, 'system': 1L, 'sports': 1L, 'jonathan': 1L, 'type': 4L, 'company': 1L, 'award': 1L, 'part': 2L, '1995': 1L, 'prestigious': 1L, '1999': 1L, 'clients': 1L, 'hoefler': 8L, 'solomon': 1L, 'internationale': 1L, 'profiled': 1L, 'outstanding': 1L, 'guggenheim': 1L, 'cbs': 1L, 'id': 1L, 'began': 1L, 'american': 1L, 'sunday': 1L, 'esquire': 2L, 'designer': 2L, 'appearances': 1L, 'collection': 1L, 'designed': 3L, 'rolling': 1L, '20052014': 1L, 'america': 1L, 'atypi': 1L, 'saintsin': 1L, 'foundry': 2L, '1970': 1L, '2002': 1L, 'time': 1L, 'original': 1L}, {'sector': 1L, 'september': 1L, 'fitzhardinge': 1L, 'eton': 1L, 'bring': 1L, 'including': 1L, 'questions': 2L, 'seats': 1L, 'worked': 2L, 'succeeding': 1L, 'police': 1L, 'baron': 4L, 'title': 1L, 'removal': 1L, 'bicycles': 1L, 'labour': 2L, 'board': 1L, 'tabled': 1L, 'inherited': 1L, 'lord': 1L, 'frsa': 1L, '199697': 1L, 'sitting': 1L, 'foleyberkeley': 1L, 'maritime': 1L, 'matters': 1L, 'ma': 1L, 'years': 1L, 'association': 2L, '17th': 1L, 'held': 1L, 'spokesperson': 1L, 'positions': 1L, 'gueterbock': 4L, '8595gueterbock': 1L, 'london': 1L, 'entitled': 1L, 'automatic': 1L, 'fcit': 1L, 'secretary': 1L, 'freight': 3L, 'ten': 1L, 'house': 4L, 'eurotunnel': 1L, 'group': 2L, 'born': 1L, 'college': 2L, 'laboratory': 1L, 'port': 1L, 'whip': 1L, 'remain': 1L, 'hereditary': 2L, 'conduct': 1L, 'dsc': 1L, 'body': 1L, 'lordshe': 1L, 'baroness': 1L, 'peerafter': 1L, 'plc': 1L, 'opposition': 2L, 'berkeley': 9L, 'peer': 3L, '20': 1L, '1939': 1L, 'marine': 1L, 'polruan': 1L, 'restrictions': 1L, 'cranford': 1L, 'created': 1L, 'career': 1L, 'industry': 1L, 'obe': 1L, 'british': 1L, 'ancient': 1L, 'pilots': 1L, 'asked': 1L, 'cambridge': 1L, 'civil': 2L, 'harbour': 1L, 'graduated': 1L, 'wimpey': 1L, 'guests': 1L, 'tony': 1L, 'george': 1L, 'engineer': 2L, '1985': 1L, 'cycling': 1L, 'fimeche': 1L, 'entered': 1L, 'ceng': 1L, 'trinity': 1L, 'questioned': 1L, 'commissioner': 1L, 'educated': 1L, 'cornwalllord': 1L, 'anthony': 1L, 'lives': 1L, 'representative': 1L, 'mice': 1L, '1992': 2L, 'politician': 1L, 'embarked': 1L, 'mary': 1L, 'plymouth': 1L, 'uk': 1L, 'transport': 2L, 'lords': 3L, 'life': 2L, 'engineering': 1L, 'borough': 1L, 'trustee': 1L, 'parliamentary': 1L, 'ancestors': 1L, 'hon': 2L, 'member': 1L, 'fowey': 1L, 'chairman': 1L, 'party': 1L, 'european': 1L, 'english': 1L, 'rail': 3L, 'liberties': 1L, '199697lord': 1L, 'president': 1L, 'peers': 2L, 'hillingdon': 1L, '2000': 1L, '18th': 1L, 'aunt': 1L, 'parliamentsince': 1L, 'trains': 1L, 'joining': 1L}, {'advisory': 1L, 'titled': 1L, 'agency': 1L, 'partial': 1L, 'gold': 1L, 'devote': 1L, 'electionon': 1L, 'trade': 1L, 'produced': 1L, 'facilities': 1L, 'including': 1L, 'unep': 1L, 'threshold': 1L, 'earth': 1L, 'paul': 1L, '1963': 1L, 'july': 1L, 'votes': 3L, 'highest': 1L, 'campaign': 1L, 'candidate': 4L, 'eligible': 1L, 'certification': 1L, 'responsible': 1L, 'councillor': 1L, 'champions': 1L, 'environment': 4L, 'program': 1L, 'citizen': 1L, 'stephen': 1L, 'contestant': 1L, 'centurion': 1L, 'charity': 1L, 'local': 1L, '2010': 3L, 'awareness': 1L, 'advises': 1L, 'wont': 1L, 'municipal': 2L, 'government': 2L, 'powerful': 1L, 'socially': 1L, 'dfait': 1L, 'documentaries': 1L, '2006': 5L, 'partya': 1L, 'advised': 1L, 'schools': 1L, 'air': 2L, 'practicesfrom': 1L, 'prime': 1L, '4730': 1L, 'committees': 2L, 'elected': 1L, 'university': 2L, '4134': 1L, 'leader': 2L, 'excellence': 1L, 'consultant': 1L, 'sustainable': 4L, 'served': 4L, 'works': 1L, 'endorsed': 1L, 'round': 1L, 'programme': 1L, 'reelection': 2L, 'olympic': 1L, 'cost': 1L, 'cofounded': 1L, 'energy': 3L, 'society': 1L, 'economic': 1L, 'design': 1L, 'election': 5L, 'chernushenko': 7L, 'resigned': 1L, 'ward': 1L, 'bodieschernushenko': 1L, 'canada': 4L, 'living': 1L, 'born': 1L, 'campuses': 1L, 'federal': 3L, 'nonprofit': 1L, 'multimedia': 1L, 'foreign': 1L, 'organizations': 1L, 'public': 2L, 'written': 1L, 'won': 1L, 'health': 1L, 'capital': 1L, 'international': 5L, 'receiving': 1L, 'integrated': 1L, 'business': 1L, 'activity': 1L, 'leadership': 2L, 'pursuit': 1L, 'groups': 1L, 'dewar': 1L, 'ontario': 2L, 'november': 1L, 'change': 2L, 'panel': 1L, 'received': 1L, 'great': 1L, 'benefits': 1L, 'boards': 1L, 'canadian': 2L, 'david': 1L, 'nrtee': 2L, 'games': 1L, 'social': 1L, 'ndp': 1L, 'adopting': 1L, 'documentary': 2L, 'south': 1L, 'pollution': 1L, 'consulting': 2L, 'cambridge': 1L, 'canadas': 2L, 'deputy': 2L, 'civil': 1L, 'vote': 2L, '20082009chernushenko': 1L, 'private': 2L, '102': 1L, 'accredited': 1L, 'alumnus': 1L, 'alberta': 1L, 'owner': 1L, 'table': 1L, 'electronic': 1L, 'city': 4L, 'management': 2L, 'publication': 1L, '6766': 1L, 'housing': 1L, 'political': 1L, 'relations': 1L, 'sports': 1L, 'commission': 1L, 'bike': 1L, 'passed': 1L, 'films': 1L, 'national': 2L, 'firm': 1L, 'cida': 1L, 'iisdacccunep': 1L, 'climate': 1L, 'filmmaker': 1L, 'policy': 1L, 'finished': 1L, 'minister': 1L, '2014': 2L, 'worked': 1L, 'promote': 1L, 'nonpartisan': 1L, 'appointed': 1L, 'raising': 1L, '1998': 2L, 'count': 1L, '10': 2L, 'politician': 1L, '1994': 1L, '1996': 1L, 'science': 1L, 'elections': 1L, 'nations': 1L, 'project': 1L, 'books': 1L, 'newspaper': 1L, 'launched': 1L, 'lightly': 1L, 'ran': 3L, 'losing': 1L, 'general': 1L, 'sport': 2L, 'calgary': 1L, 'council': 1L, 'vicechair': 1L, 'physical': 1L, 'affairs': 1L, 'expenditures': 1L, 'engages': 1L, 'harper': 1L, 'make': 1L, '2013chernushenko': 1L, 'graduate': 1L, 'member': 1L, 'leed': 1L, '2001': 2L, 'speaker': 1L, 'fourth': 2L, 'department': 1L, 'party': 6L, 'events': 1L, 'economy': 1L, 'development': 1L, '8': 1L, '2004': 3L, 'centre': 2L, 'june': 1L, 'director': 1L, 'sustainability': 1L, 'running': 3L, 'united': 1L, 'cooperativehe': 1L, '2008': 1L, 'queens': 1L, 'building': 1L, 'reimbursement': 1L, 'democratic': 1L, 'sectors': 1L, 'environmental': 3L, 'communities': 1L, 'ottawa': 8L, '2003': 1L, 'practices': 2L, 'green': 8L, '2007': 1L, 'clean': 1L, 'time': 1L, 'professional': 2L, 'senior': 1L, '2009': 1L, 'athletes': 1L, 'order': 1L, 'greening': 2L}, {'stoner': 1L, 'shot': 1L, 'german': 1L, 'produced': 1L, 'including': 1L, 'based': 1L, 'lo': 1L, 'josh': 1L, 'main': 1L, 'truckfighters': 3L, '2012': 1L, 'sound': 1L, 'bands': 1L, 'documentaries': 1L, 'band': 1L, '84minute': 1L, 'unique': 1L, 'atmospheres': 1L, 'artist': 1L, 'common': 2L, 'rock': 2L, 'release': 1L, 'works': 1L, 'set': 1L, 'people': 1L, 'design': 1L, 'thirteen': 1L, 'homme': 1L, 'fu': 1L, 'creative': 2L, 'content': 1L, 'attracted': 2L, 'fans': 1L, 'internet': 1L, 'contributes': 1L, 'seeks': 1L, 'berlinduring': 1L, 'audiovisual': 1L, 'attention': 2L, 'combines': 1L, 'extraordinary': 1L, 'genre': 1L, 'generate': 1L, 'study': 1L, 'musicians': 1L, 'documentary': 2L, 'childhood': 1L, 'subcultures': 1L, 'electronic': 1L, 'story': 1L, 'guest': 1L, 'due': 1L, 'desert': 2L, 'joerg': 1L, 'camera': 1L, 'music': 3L, 'editor': 1L, 'films': 2L, 'photographing': 1L, 'started': 1L, 'gap': 1L, 'designerartist': 1L, 'graphic': 2L, 'illustrator': 1L, 'fuzzomentary': 1L, 'vhs': 1L, 'project': 1L, 'stories': 1L, 'influence': 1L, 'topic': 1L, 'societyhe': 1L, 'exist': 1L, 'film': 3L, 'swedish': 1L, 'genres': 1L, 'media': 1L, 'feature': 1L, 'underground': 1L, 'development': 1L, 'elements': 1L, 'explores': 1L, 'unconventional': 1L, 'appearances': 1L, 'trailers': 1L, 'manchu': 1L, 'steineck': 4L, 'filmmaker': 1L, 'friends': 1L, 'parallel': 1L, 'short': 1L, 'age': 1L, 'fictional': 1L, 'musical': 2L, 'edge': 1L, '2006': 1L, 'time': 2L, 'painting': 1L, 'drawing': 1L}, {'focus': 1L, 'manchester': 1L, 'research': 4L, 'issues': 1L, 'previous': 1L, 'character': 1L, 'young': 1L, 'including': 1L, 'degrees': 1L, '2012': 1L, 'kingdom': 1L, 'merton': 1L, 'pocket': 1L, 'oxford': 2L, 'ewtn': 1L, 'prominent': 1L, 'louis': 1L, 'university': 3L, 'identified': 1L, 'herald': 1L, 'priest': 1L, 'cognition': 1L, 'moral': 1L, 'apologia': 1L, 'england': 1L, 'diocese': 1L, 'energy': 1L, 'birmingham': 1L, 'born': 1L, 'books': 1L, 'college': 2L, 'perspective': 1L, 'scientific': 1L, 'delphi': 1L, 'contributed': 1L, 'coauthor': 2L, 'religion': 1L, 'written': 1L, 'experiment': 1L, 'credo': 1L, 'perception': 1L, 'august': 1L, 'degree': 1L, 'virtues': 1L, 'ramsey': 1L, 'formation': 1L, 'gregorian': 1L, 'brighton': 1L, 'director': 1L, 'institute': 2L, 'social': 1L, 'secondperson': 2L, 'accounts': 1L, 'ian': 1L, 'pinsent': 2L, 'bbc': 1L, 'tutor': 1L, 'lumen': 1L, 'saint': 1L, 'faith': 1L, 'andrew': 1L, 'evangelium': 1L, 'arundel': 1L, 'present': 1L, 'insights': 1L, 'pontifical': 1L, 'collaborationfr': 1L, '19': 1L, 'science': 2L, 'cern': 1L, 'publications': 2L, 'fellow': 1L, 'high': 1L, 'autism': 1L, 'routledge': 1L, 'catholic': 3L, 'united': 1L, 'interviewed': 1L, 'media': 1L, '1966': 1L, 'maryvale': 1L, 'member': 2L, 'application': 1L, 'book': 1L, 'fr': 1L, 'centre': 1L, 'philosophy': 2L, 'aquinass': 1L, 'phd': 1L, 'gifts': 1L, 'harris': 1L, 'faculty': 1L, 'ethics': 1L, 'class': 1L, 'recent': 1L, 'thirtyone': 1L, 'theology': 2L, 'academic': 1L, 'rome': 1L, 'catechetical': 1L, 'physics': 3L, 'dphil': 1L}, {'emulate': 1L, '1953called': 1L, 'retired': 1L, 'outstanding': 2L, '1952': 2L, 'centre': 3L, 'meath': 1L, 'years': 2L, 'county': 1L, '1950swith': 1L, 'selection': 1L, 'beaten': 1L, 'field': 1L, 'managed': 1L, 'captain': 1L, 'xv': 1L, 'fame': 1L, 'agonising': 1L, 'blue': 1L, 'finalhe': 1L, '1949': 1L, 'famous': 2L, 'gaelic': 1L, 'regarded': 1L, 'selected': 2L, 'leinster': 4L, 'due': 1L, 'winning': 1L, 'senior': 2L, 'suffered': 1L, 'won': 1L, 'millennium': 1L, 'gaa': 1L, 'widely': 1L, '6': 1L, 'railway': 1L, 'tribute': 1L, 'recurring': 1L, 'final': 2L, 'medals': 1L, 'paddy': 2L, 'province': 1L, 'narrowly': 1L, 'play': 1L, 'championship': 1L, 'ireland': 2L, 'dunnes': 1L, 'club': 2L, 'greatness': 1L, 'park': 3L, 'laois': 8L, 'back': 4L, 'browne': 1L, '1954': 2L, 'white': 1L, '1951': 1L, 'rest': 1L, '1953': 2L, 'half': 2L, 'consecutive': 1L, '1959': 1L, 'hall': 1L, 'problema': 1L, 'football': 6L, 'dunne': 2L, '59': 1L, 'inducted': 1L, 'player': 2L, 'performances': 1L, 'cup': 1L, 'defeat': 1L, 'players': 1L, 'laoishe': 1L, 'titles': 1L, 'backin': 1L, 'played': 3L, 'team': 4L, 'position': 1L, '2008': 1L, 'colm': 1L, 'featdunne': 1L, 'jersey': 2L, 'lasting': 1L}, {'dance': 2L, 'commissions': 1L, 'ensemblehe': 1L, 'sofia': 1L, 'manager': 1L, 'ergon': 1L, 'unionnaxos': 1L, 'group': 1L, 'ensembles': 1L, 'production': 2L, 'companyhis': 1L, 'include': 2L, 'activities': 2L, 'founding': 1L, 'documentaries': 1L, 'cultural': 1L, 'mouzas': 1L, 'schools': 1L, 'channelshe': 1L, 'advanced': 1L, 'athenssince': 1L, 'runs': 1L, 'anax': 1L, 'haris': 1L, 'michos': 1L, 'works': 1L, 'dimitris': 1L, 'programme': 1L, 'olympic': 1L, 'alexandros': 1L, 'titled': 1L, 'committee': 1L, 'choreographer': 1L, 'series': 1L, 'born': 1L, 'productions': 1L, 'papageno': 1L, 'home': 1L, 'dawn': 1L, 'vironas': 1L, 'organizing': 1L, 'composers': 1L, 'imagerelated': 1L, 'section': 1L, 'orchestra': 1L, 'label': 1L, 'collaborated': 1L, 'written': 1L, 'xanthoudakis': 1L, 'theory': 1L, 'philharmonic': 1L, 'kamarotos': 1L, 'imaginary': 1L, 'teaches': 1L, 'received': 1L, 'konstantinos': 1L, 'days': 1L, 'games': 1L, 'lathos': 1L, 'composed': 2L, 'cd': 2L, 'composer': 1L, 'electronic': 1L, 'orchestrashe': 1L, 'management': 1L, 'top': 1L, 'athens': 2L, 'commission': 1L, 'music': 9L, 'films': 1L, 'board': 1L, 'kinissi': 1L, 'releases': 1L, 'orchestral': 2L, 'company': 1L, 'released': 1L, 'organizations': 1L, 'television': 2L, '1998': 1L, 'project': 1L, 'calamity': 1L, 'trisha': 1L, 'studied': 1L, 'videos': 1L, '2003in': 1L, 'performed': 1L, 'technology': 1L, 'film': 2L, 'media': 1L, 'commercials': 1L, '1962': 1L, 'member': 2L, 'till': 1L, 'projects': 1L, 'composition': 1L, 'european': 1L, 'antoniou': 1L, 'theodore': 1L, 'director': 1L, 'important': 1L, 'recent': 1L, 'short': 1L, 'greek': 5L, 'directors': 1L, 'edge': 1L, 'artistic': 1L, '2004': 2L, 'professional': 2L, 'airesis': 1L, 'corporate': 1L, 'original': 2L, 'left': 1L}, {'restore': 1L, 'quoted': 1L, 'schoolboard': 1L, '19681995': 1L, 'results': 1L, 'unofficial': 1L, 'held': 1L, 'campbell': 3L, 'mason': 1L, '2996': 1L, 'votes': 1L, 'retirement': 1L, 'thinking': 1L, 'board': 1L, 'stephen': 1L, 'darwin': 1L, 'scheduled': 1L, 'march': 1L, 'incumbent': 1L, 'assistant': 1L, 'school': 2L, 'kitzmiller': 1L, 'closely': 1L, '1995': 1L, 'day': 1L, 'articles': 1L, 'rhetoric': 2L, 'showed': 1L, 'skills': 1L, 'angus': 1L, 'university': 2L, 'debating': 1L, 'public': 2L, 'communications': 2L, 'served': 1L, 'depositionin': 1L, 'people': 2L, 'dealing': 1L, 'seat': 1L, 'culture': 2L, 'defense': 1L, 'design': 3L, 'election': 1L, 'portland': 1L, 'witness': 1L, 'ways': 1L, 'conservative': 1L, 'critical': 1L, 'international': 1L, '1406': 1L, 'discovery': 1L, 'disclose': 1L, 'edited': 1L, 'christian': 1L, 'transparency': 1L, 'darwinist': 1L, 'associate': 1L, 'journal': 1L, 'slated': 1L, 'demonizing': 1L, 'november': 1L, 'meyer': 1L, 'engage': 1L, 'district': 1L, 'institute': 1L, 'study': 1L, 'darwinism': 2L, '1942': 1L, 'american': 1L, 'promotion': 1L, 'retired': 1L, 'glenn': 1L, 'designcampbell': 1L, 'county': 1L, 'trust': 1L, 'establish': 1L, 'considers': 1L, 'society': 2L, 'usa': 1L, 'area': 1L, '2': 1L, 'interest': 1L, '6': 1L, 'john': 2L, 'north': 1L, '6806': 1L, 'offered': 1L, 'oregon': 1L, 'memphis': 1L, 'serves': 1L, '10': 1L, 'tank': 1L, 'washington': 2L, 'born': 1L, 'science': 2L, 'landram': 1L, 'curricula': 1L, 'withdrew': 1L, 'dedicated': 1L, 'links': 1L, 'stated': 1L, 'ran': 1L, 'telephone': 1L, 'fellow': 2L, 'education': 1L, 'id': 1L, 'information': 1L, 'trial': 1L, 'ideas': 1L, 'branch': 1L, 'interview': 1L, 'intelligent': 2L, 'improve': 1L, 'students': 1L, 'june': 1L, 'collection': 1L, 'affairscampbell': 1L, 'services': 1L, 'center': 2L, 'professor': 3L, 'defeating': 1L, 'complexity': 1L, '3194': 1L, '2007': 2L, '2005': 2L, 'professional': 1L, 'dover': 1L}, {'origin': 1L, 'create': 1L, 'childrens': 1L, 'increasingly': 1L, 'suburban': 4L, 'careerhe': 1L, 'scene': 1L, 'produced': 1L, 'edition': 1L, 'decided': 1L, 'video': 1L, 'performed': 1L, 'band': 9L, 'rejoined': 1L, 'songs': 1L, 'cowriting': 1L, 'singing': 2L, 'ep': 2L, '2002': 2L, 'nights': 1L, 'legends': 4L, 'lead': 2L, 'dallas': 1L, 'bears': 1L, 'rose': 1L, 'hospital': 1L, 'recorded': 1L, '2000': 1L, 'tim': 4L, 'aaron': 1L, 'ska': 1L, 'remixchris': 1L, 'rerecorded': 1L, 'orange': 1L, 'thirdwave': 1L, 'tribute': 1L, 'vince': 1L, 'supporting': 1L, 'direction': 1L, 'maurer': 2L, 'reportedly': 1L, 'song': 1L, 'desperate': 1L, 'compilation': 2L, 'selftitled': 1L, 'early': 1L, 'albumchris': 1L, 'tracks': 1L, 'tint': 1L, 'chris': 3L, 'walker': 1L, 'cook': 1L, 'world': 1L, 'directions': 1L, 'released': 1L, 'care': 1L, 'county': 1L, 'singer': 2L, 'dissatisfied': 1L, 'credits': 1L, 'bertram': 1L, 'compilations': 1L, '20002002': 1L, 'official': 1L, 'cover': 1L, 'joined': 1L, 'vocal': 1L, 'musical': 1L, 'recording': 2L, 'pursue': 1L, 'benefit': 1L, '2001': 1L, 'replaced': 1L, 'ephe': 1L, 'acting': 1L, 'batstone': 2L, 'found': 2L, 'replacement': 1L, 'gummi': 1L, 'taking': 1L, 'unreleased': 1L, 'left': 2L}, {'thomas': 6L, 'managed': 1L, '200506': 1L, 'priestland': 2L, 'including': 2L, 'converting': 1L, 'previous': 1L, 'scoring': 1L, '25': 2L, '23': 1L, 'bench': 1L, 'penalty': 1L, 'stephen': 1L, 'wales': 1L, 'footballer': 1L, 'friendly': 1L, '2012': 1L, 'cornish': 1L, 'return': 1L, 'regional': 1L, 'game': 2L, 'made': 6L, 'world': 1L, 'bringing': 1L, '200809': 1L, 'lost': 1L, 'positions': 1L, 'debut': 1L, 'rfc': 1L, 'team': 1L, 'fullbackthomas': 1L, 'side': 2L, 'rhys': 1L, '200405': 1L, 'signing': 1L, 'pirates': 1L, 'national': 1L, 'born': 1L, 'clubs': 1L, '110': 1L, 'ceiron': 1L, 'llanellibased': 1L, 'favour': 1L, 'rival': 1L, 'won': 1L, 'falling': 1L, 'llanelli': 2L, 'leeds': 2L, 'league': 3L, 'rugby': 3L, 'career': 1L, 'starts': 1L, 'region': 1L, 'cup': 1L, 'april': 2L, 'resulting': 1L, 'barry': 1L, 'duty': 1L, 'leaguehowever': 1L, 'pointsthomas': 1L, 'number': 1L, '200708': 1L, 'total': 1L, 'magners': 3L, '1983': 1L, 'union': 1L, 'transfer': 1L, 'france': 1L, 'eleven': 1L, 'duties': 1L, 'sharing': 1L, 'season': 4L, 'scarlets': 4L, 'hold': 1L, 'stoddart': 1L, '10': 1L, 'berth': 1L, 'october': 1L, '14': 1L, '18': 1L, 'appearance': 2L, 'ives': 1L, 'morgan': 1L, 'making': 1L, '200304': 2L, 'months': 1L, 'played': 2L, 'december': 1L, '200607': 1L, 'secondfiddle': 1L, 'place': 1L, '950': 1L, 'began': 2L, 'fullback': 1L, 'majority': 1L, '2006': 1L, 'wing': 1L, 'scored': 2L, 'play': 1L, 'welsh': 1L, 'appearances': 5L, '2005': 1L, 'june': 2L, 'carnegie': 2L, 'slovenia': 1L, 'regular': 2L, 'jones': 3L, 'celtic': 1L, 'spent': 2L, 'st': 1L, '2003': 1L, 'points': 1L, 'davies': 1L, '2007': 1L, 'time': 2L, 'position': 1L, '2008': 1L, '2009': 2L, 'starting': 1L, 'playing': 3L, 'flyhalf': 4L}, {'coach': 2L, 'september': 1L, 'move': 1L, 'mistaken': 1L, 'years': 1L, 'partnered': 1L, 'bright': 1L, 'pitch': 1L, 'november': 1L, 'japan': 1L, 'enjoyed': 1L, 'scoring': 1L, 'baya': 1L, 'earned': 4L, 'swansong': 1L, 'jan': 1L, 'countrys': 1L, 'finally': 1L, 'permanent': 1L, 'struck': 1L, 'team': 4L, 'match': 2L, 'real': 1L, 'division': 1L, 'hit': 1L, 'returned': 1L, 'mehdi': 1L, 'distance': 1L, 'matches': 2L, 'showing': 1L, 'stop': 1L, 'account': 1L, 'nation': 1L, 'jendouba': 1L, 'fallout': 1L, 'tournamentthis': 1L, 'breaka': 1L, 'world': 4L, '199798': 1L, 'impressive': 1L, 'success': 1L, 'level': 1L, 'henri': 1L, 'list': 1L, 'joined': 1L, 'teams': 1L, 'singularly': 1L, 'bab': 1L, 'recall': 1L, 'quick': 1L, 'found': 1L, 'side': 3L, 'semifinal': 1L, 'jedid': 1L, 'olympic': 1L, 'england': 1L, 'national': 4L, 'tunisian': 2L, 'back': 1L, 'born': 1L, 'titles': 1L, 'barren': 1L, 'sellimis': 1L, 'year': 1L, 'callup': 2L, 'sport': 1L, 'sellimi': 7L, 'ligue': 2L, 'lead': 1L, 'zoubeir': 1L, 'clocked': 1L, 'kind': 1L, 'competitions': 1L, 'fans': 1L, 'discretion': 1L, 'international': 3L, 'movement': 1L, 'limelight': 1L, 'korea': 1L, 'recently': 1L, 'missing': 1L, 'promising': 1L, 'drew': 1L, 'french': 1L, 'put': 1L, 'picking': 1L, 'firstclass': 1L, 'league': 1L, 'goalscoring': 1L, 'carried': 1L, 'wayhis': 1L, 'dubbed': 1L, 'country': 1L, '31': 1L, 'cup': 7L, 'wrong': 1L, 'distinguished': 1L, 'players': 2L, 'place': 1L, 'freiburg': 2L, 'promotion': 1L, 'replacement': 1L, 'settled': 1L, 'south': 1L, 'retired': 1L, 'frenchmans': 1L, 'headed': 1L, 'tunisia': 3L, 'win': 1L, 'africa': 1L, 'number': 1L, 'marked': 1L, 'brought': 1L, 'lung': 1L, 'long': 2L, 'yearstunisians': 1L, 'spanish': 1L, 'proved': 1L, 'spark': 1L, 'belt': 1L, '1996': 2L, 'district': 1L, 'eleven': 1L, 'transfer': 1L, 'creativity': 1L, 'africain': 2L, 'france': 1L, 'start': 1L, 'time': 2L, 'nantes': 3L, 'final': 1L, 'romaniabundesliga': 1L, 'head': 1L, 'tournament': 3L, 'form': 3L, 'club': 4L, 'season': 3L, 'striker': 1L, 'goals': 2L, 'child': 1L, 'atlanta': 1L, 'true': 1L, 'goal': 1L, 'talented': 1L, 'football': 3L, 'internationals': 1L, '1993': 1L, 'grew': 1L, '14': 1L, '16': 1L, '1998': 1L, 'cap': 1L, 'nations': 2L, 'pace': 1L, 'atlantique': 1L, 'determined': 1L, 'tunis': 2L, 'achieve': 1L, 'mali': 1L, '19992000': 1L, 'history': 1L, '30': 1L, 'benslimane': 1L, 'coupled': 1L, 'household': 1L, 'premier': 1L, 'turned': 1L, 'life': 1L, 'fellow': 1L, 'disappointing': 2L, 'player': 2L, 'carved': 1L, 'home': 1L, 'bundesligas': 1L, 'arabic': 1L, 'surge': 1L, 'failed': 1L, 'strength': 1L, 'winter': 1L, 'friendlies': 1L, 'skillful': 1L, 'ammar': 1L, 'stayed': 1L, '1': 2L, 'squad': 1L, 'virtually': 1L, 'widely': 1L, 'finding': 1L, 'performance': 1L, 'zambia': 1L, 'gamble': 1L, '10': 1L, 'gaining': 1L, 'ball': 1L, 'games': 1L, 'appearances': 1L, 'detractors': 1L, 'adel': 2L, 'modest': 1L, 'fc': 1L, 'germany': 1L, 'drought': 1L, 'finals': 1L, 'inspiration': 1L, 'period': 1L, 'purchase': 1L, 'shortly': 2L, '1978': 1L, 'considered': 2L, 'performances': 1L, 'age': 2L, 'steady': 1L, '1972': 1L, '2002': 2L, '2001': 1L, 'souayah': 1L, 'african': 3L, 'anchorman': 1L, 'professional': 1L, 'michel': 1L, 'left': 1L}, {'essay': 1L, 'summer': 1L, 'show': 2L, 'operas': 1L, 'charles': 1L, 'domestic': 1L, 'years': 1L, 'produced': 1L, 'musicals': 2L, 'controversial': 1L, 'queer': 1L, 'somerville': 1L, 'soloways': 3L, 'bunch': 1L, 'comedic': 1L, 'hamletta': 1L, 'womans': 1L, 'writer': 1L, '28': 1L, 'rosenthal': 1L, 'betsy': 2L, 'program': 1L, 'parodied': 1L, 'dad': 1L, 'songwriting': 1L, 'march': 1L, 'university': 1L, 'song': 3L, 'couple': 1L, 'continues': 1L, 'aizley': 2L, 'earnest': 1L, 'falcon': 1L, 'passim': 1L, 'curtis': 1L, 'minimalist': 1L, 'school': 1L, 'mothers': 1L, 'conceive': 1L, 'performing': 1L, 'venue': 1L, 'benefit': 1L, 'rock': 1L, 'works': 1L, 'expartner': 1L, 'wrote': 2L, 'respond': 1L, 'stereotype': 1L, 'solo': 2L, 'efforts': 1L, 'creation': 1L, 'jennifer': 1L, 'born': 2L, 'decided': 1L, 'musicians': 1L, 'forthcoming': 1L, 'folk': 4L, 'album': 1L, 'homefront': 1L, 'soloway': 9L, 'catie': 1L, 'miss': 2L, 'tales': 1L, 'artificial': 1L, 'creative': 1L, 'written': 1L, 'features': 1L, 'bobbies': 1L, 'principal': 1L, 'shows': 1L, 'edited': 1L, 'led': 1L, 'compilation': 1L, 'careerafter': 1L, 'notable': 1L, 'jill': 1L, 'active': 1L, 'based': 1L, 'carol': 1L, 'refers': 1L, 'lesbo': 1L, 'faith': 3L, 'sister': 1L, 'river': 1L, 'daughter': 1L, 'norbert': 1L, 'country': 1L, 'studied': 1L, 'harlyn': 1L, 'leaving': 1L, 'tour': 1L, 'journey': 2L, 'signature': 1L, 'real': 1L, 'improv': 1L, 'wheels': 1L, 'womens': 1L, 'book': 2L, 'beany': 1L, 'revere': 1L, 'cambridge': 1L, 'childrens': 1L, 'evans': 1L, 'potter': 1L, 'scene': 1L, 'jesus': 1L, 'crisissoloways': 1L, 'featured': 3L, 'open': 1L, 'city': 2L, 'arts': 1L, 'ridge': 1L, 'area': 1L, 'creator': 1L, 'lone': 1L, 'music': 3L, 'debbie': 1L, 'statement': 1L, 'series': 1L, 'indiana': 1L, 'hollywood': 2L, 'humorless': 1L, 'separated': 1L, 'life': 1L, 'club': 1L, 'musician': 2L, 'training': 1L, 'larger': 1L, 'child': 1L, 'producing': 1L, 'buying': 1L, 'boyfriend': 1L, '1990': 1L, 'television': 2L, '1994': 1L, 'pursue': 1L, 'work': 2L, 'sexuality': 1L, 'tweaking': 1L, 'folkrock': 2L, 'loves': 1L, 'regularly': 1L, 'performer': 1L, 'boston': 2L, 'moved': 2L, 'mike': 1L, 'couples': 1L, 'tom': 1L, 'nonbiological': 1L, 'performed': 2L, 'violence': 1L, 'partner': 1L, 'nights': 1L, 'heather': 1L, 'anthology': 1L, '1964': 1L, 'departments': 1L, 'began': 1L, 'american': 1L, 'started': 2L, 'kimballsoloway': 1L, 'interested': 1L, 'insemination': 1L, 'toured': 1L, 'comedy': 1L, 'entitled': 1L, 'briefly': 1L, 'harrie': 1L, 'collaboration': 1L, 'mommies': 2L, 'director': 1L, 'action': 1L, 'produce': 1L, 'massachusetts': 2L, 'sisters': 2L, 'america': 2L, 'lesbian': 1L, 'man': 1L, 'theater': 3L, 'brady': 1L, 'band': 1L, 'camp': 1L, 'spent': 1L, 'premiered': 1L, 'musical': 1L, '2002': 1L, 'perform': 1L, '2000': 1L, 'mother': 1L, 'title': 1L, 'dover': 1L, 'original': 1L, 'songs': 1L}, {'thomas': 1L, 'protocol': 1L, 'nihilson': 1L, 'steve': 1L, 'including': 1L, 'gb': 1L, 'computation': 1L, 'queer': 1L, 'cold': 1L, 'issues': 1L, 'internationally': 1L, 'nicoletta': 1L, 'josh': 1L, 'editors': 1L, 'writing': 1L, 'deke': 2L, 'technologywhile': 1L, 'program': 3L, 'yoyo': 1L, 'activities': 1L, 'garden': 1L, 'angelesbased': 1L, 'beat': 1L, 'bands': 1L, 'rise': 1L, 'coast': 1L, 'early': 1L, 'band': 1L, 'hands': 1L, 'stehlik': 1L, 'zine': 2L, 'artist': 1L, 'university': 1L, 'irvines': 1L, 'donna': 1L, 'science': 1L, 'found': 1L, 'movement': 1L, 'wrote': 1L, 'gang': 1L, 'calarts': 1L, 'creator': 1L, 'homocore': 3L, 'born': 1L, 'computer': 1L, 'implemented': 2L, 'organizing': 1L, 'ultimately': 1L, 'network': 1L, 'coeditor': 1L, 'daniel': 2L, 'dresch': 1L, 'provider': 1L, 'issue': 1L, 'tlgnet': 1L, 'shows': 1L, 'abbott': 1L, 'led': 1L, 'creating': 2L, 'maintains': 1L, 'jennings': 5L, 'regional': 1L, 'california': 2L, 'earliest': 1L, 'publisher': 1L, 'comrade': 1L, 'kids': 1L, 'boards': 1L, 'resides': 1L, 'influential': 2L, 'punk': 1L, 'fidonet': 2L, 'angeles': 1L, 'informal': 1L, 'fugazi': 1L, 'musicians': 1L, 'europejennings': 1L, 'incorporated': 1L, '512': 1L, 'south': 1L, 'software': 1L, 'named': 1L, 'presence': 1L, 'appeared': 1L, 'platformsaside': 1L, 'system': 1L, 'featured': 1L, 'magazines': 1L, 'message': 1L, 'rarely': 1L, 'portable': 1L, 'arts': 1L, 'networking': 2L, 'service': 1L, 'bios': 2L, 'west': 1L, 'create': 1L, 'arms': 1L, '1988': 1L, 'los': 2L, 'tom': 1L, 'films': 1L, 'war': 1L, 'authored': 1L, 'lived': 1L, 'north': 1L, 'zines': 2L, 'instrumental': 1L, 'larry': 1L, 'authors': 1L, 'technician': 2L, 'technologies': 1L, 'protocols': 1L, '1991': 1L, 'works': 1L, 'multiplicity': 1L, 'originally': 1L, 'apostles': 1L, 'bbses': 1L, 'publications': 1L, 'jds': 2L, 'san': 1L, 'ran': 1L, 'boston': 1L, 'engineering': 1L, 'performed': 1L, 'file': 1L, 'partner': 1L, 'archive': 1L, 'livermore': 1L, 'built': 1L, 'graduate': 1L, 'writers': 1L, 'fido': 1L, 'popularizing': 1L, 'francisco': 1L, 'phoenix': 1L, 'internet': 2L, 'wired': 1L, 'massachusetts': 1L, 'faculty': 1L, 'arttechnology': 1L, 'america': 2L, 'pages': 1L, 'jones': 1L, '1955': 1L, 'happening': 1L, 'queercore': 4L, 'bulletin': 1L}, {'leagues': 1L, 'coach': 1L, 'minors': 3L, '1960': 1L, 'edmonton': 1L, 'defensiveoriented': 1L, 'seals': 1L, 'playoffs': 2L, 'hornets': 1L, 'line': 2L, 'winger': 1L, '20': 1L, '23': 1L, 'point': 1L, '3': 1L, 'bench': 1L, 'coaching': 2L, 'black': 2L, 'hockey': 4L, 'alberta': 1L, 'team': 1L, '196970': 1L, 'early': 1L, '1954': 1L, '1951': 1L, '1953': 1L, '1952': 1L, 'lethbridge': 1L, 'bronco': 1L, 'wings': 4L, 'capitals': 1L, 'detroit': 4L, 'flyers': 3L, 'found': 1L, 'finishing': 1L, 'round': 1L, 'grouping': 1L, 'signing': 1L, 'fired': 2L, 'back': 1L, 'born': 1L, 'quebec': 1L, 'year': 2L, '1929': 1L, 'odd': 1L, 'victor': 1L, 'crown1in': 1L, 'chicago': 3L, 'sparingly': 1L, 'recorded': 1L, 'ice': 1L, 'participants': 1L, 'won': 1L, 'captured': 1L, 'red': 3L, 'bucyk': 1L, 'led': 1L, 'toiling': 1L, 'backtoback': 1L, 'job': 2L, 'assists': 1L, 'california': 1L, 'settling': 1L, 'league': 2L, 'instant': 1L, 'canadian': 1L, 'career': 4L, 'cup': 3L, 'players': 1L, 'american': 1L, 'ancestry': 1L, 'games': 2L, 'traded': 3L, 'golden': 1L, 'retired': 1L, 'presence': 1L, 'nhl': 4L, 'philadelphia': 1L, 'coaching4': 1L, 'formidable': 1L, '68': 1L, 'bruins': 2L, '254': 1L, 'postseason': 1L, 'horvath': 1L, 'games2': 1L, 'hawks': 2L, 'management': 1L, 'due': 1L, 'offensiverich': 1L, 'mark': 1L, '183': 1L, 'forward': 1L, 'uke': 1L, 'john': 1L, 'canucks': 1L, 'head': 2L, 'stylistic': 1L, 'pittsburgh': 1L, 'season': 4L, 'offered': 1L, 'earned': 1L, 'finished': 1L, 'goals': 1L, 'calder': 1L, 'eliminated': 1L, 'junior': 2L, 'dubbed': 1L, 'twoway': 1L, 'history': 1L, 'losses': 1L, '745': 1L, 'johnny': 1L, 'played': 4L, 'boston': 2L, 'moved': 1L, 'high': 1L, 'single': 1L, '197071': 1L, 'stanley': 2L, 'aces': 1L, 'viewed': 1L, 'native': 1L, 'goal': 1L, 'retiring': 1L, '42': 1L, '1961': 1L, '1963': 1L, 'club': 1L, 'vancouver': 1L, 'physical': 1L, 'conflict': 1L, 'difficult': 1L, 'scored': 1L, 'indianapolis': 1L, 'ukrainian': 1L, 'reach': 1L, 'stasiuk': 11L, 'regular': 1L, 'significant': 1L, 'position': 1L, 'seasons': 1L, '195758': 1L, 'finals': 1L, 'man': 1L, '1955': 1L, 'scouting': 1L, 'spent': 3L, 'portion': 1L, 'points': 1L, 'time': 1L, 'professional': 1L, 'chemistry': 1L, 'playing': 1L, 'left': 2L}, {'yearshe': 1L, 'radio': 1L, 'decisions': 1L, 'flynnin': 1L, 'based': 1L, 'writes': 1L, 'writing': 1L, 'program': 1L, 'local': 1L, '2012': 3L, 'regularly': 2L, 'australia': 2L, 'founding': 1L, 'early': 1L, 'made': 1L, 'blogging': 1L, 'articles': 1L, 'january': 2L, 'wednesday': 1L, 'journalist': 1L, 'team': 1L, 'wrote': 1L, 'geek': 1L, 'born': 1L, 'titles': 1L, 'corporations': 1L, 'wire': 1L, 'searchcio': 1L, 'current': 1L, 'commentator': 1L, 'shows': 1L, 'focuses': 1L, 'run': 1L, 'business': 2L, 'members': 1L, 'news': 1L, 'caruana': 3L, 'david': 1L, 'melbourne': 3L, 'april': 1L, 'magazine': 2L, 'freelance': 2L, 'executives': 1L, 'appeared': 1L, 'contributor': 1L, 'apc': 1L, 'macworld': 1L, 'spoke': 1L, 'start': 1L, 'addition': 1L, 'opportunity': 1L, 'commission': 1L, '2': 1L, 'editor': 3L, 'convention': 1L, 'techtarget': 1L, 'australian': 3L, 'journo': 1L, 'influencershe': 1L, 'club': 1L, 'broadcast': 1L, 'part': 1L, 'review': 1L, 'october': 1L, '2011': 2L, 'pc': 1L, 'air': 1L, 'reviews': 1L, 'publications': 1L, 'launched': 1L, 'raf': 1L, 'pocket': 1L, 'topic': 1L, 'au': 1L, 'march': 1L, 'technology': 5L, 'anz': 1L, 'affairs': 1L, '1968': 1L, 'media': 1L, 'epsteins': 1L, 'write': 1L, 'successful': 1L, 'speaks': 1L, 'events': 1L, '774': 1L, 'product': 1L, 'advice': 1L, 'nationally': 1L, 'regular': 2L, 'segment': 1L, 'thoughts': 1L, 'anthony': 1L, 'age': 1L, 'drive': 1L, 'original': 1L, 'chief': 1L, 'broadcasting': 2L, '330pmsince': 1L, 'senior': 1L, 'section': 1L}, {'office': 1L, 'issued': 1L, 'islay': 1L, 'centralized': 1L, 'years': 1L, 'themes': 1L, 'london': 2L, 'controversial': 1L, 'children': 1L, 'aldingtontolstoy': 1L, 'staff': 1L, 'founder': 1L, 'concerned': 3L, 'april': 1L, 'royal': 1L, 'ele': 1L, 'heritage': 1L, 'lord': 1L, 'thousands': 1L, 'aspects': 1L, 'norse': 1L, 'brigadier': 1L, 'hebridean': 2L, 'exdeputy': 1L, 'communities': 1L, 'ngos': 1L, 'founded': 1L, 'russia': 1L, 'journalist': 1L, 'works': 1L, 'refugees': 1L, 'apparentlyvirtuous': 1L, 'view': 1L, 'people': 1L, 'back': 1L, 'society': 1L, 'books': 2L, 'operation': 1L, 'delivered': 1L, 'assisted': 1L, 'conservative': 1L, 'written': 1L, 'tens': 1L, 'lecture': 1L, 'birds': 1L, 'public': 1L, 'historical': 1L, 'defend': 1L, 'dictators': 1L, 'protection': 1L, 'fifteen': 1L, 'forum': 1L, 'ministry': 1L, 'island': 1L, 'british': 1L, 'foreign': 1L, 'trial': 2L, 'place': 1L, 'west': 1L, 'organisation': 2L, 'south': 1L, 'libel': 1L, 'point': 1L, 'africa': 1L, 'scottish': 2L, '1945': 2L, 'cossack': 1L, 'isles': 2L, 'ian': 1L, 'army': 1L, 'illegal': 1L, '1989': 1L, '6': 1L, 'defensemitchell': 1L, 'lived': 1L, 'north': 1L, 'moscow': 2L, 'aldington': 1L, 'broadcast': 1L, 'environmental': 1L, 'part': 1L, 'lives': 1L, 'realms': 1L, 'yugoslav': 1L, 'grew': 1L, 'places': 1L, 'stalin': 1L, 'cost': 1L, 'behavior': 1L, 'voice': 1L, 'mitchell': 3L, 'called': 2L, 'imposts': 1L, 'bureaucracymitchell': 1L, 'critic': 1L, 'orders': 1L, 'compared': 1L, 'author': 3L, 'nazismitchell': 1L, 'scotland': 2L, 'damage': 1L, 'handed': 1L, 'book': 2L, 'chairman': 1L, 'party': 1L, 'illegally': 1L, 'voyage': 2L, 'director': 1L, 'claims': 2L, 'natural': 1L, 'reputation': 1L, '2007': 1L, 'perjured': 1L, 'rural': 2L, 'operate': 1L, 'tito': 1L, 'bodies': 1L}, {'albion': 1L, 'coach': 1L, 'managed': 1L, 'athletic': 1L, 'argyle': 1L, 'month': 1L, 'steve': 1L, 'manager': 2L, 'nephew': 1L, 'scoring': 1L, '21': 1L, 'threemonth': 1L, 'wes': 1L, 'september': 1L, 'coaching': 1L, 'rejoined': 2L, 'soccer': 1L, 'footballer': 1L, '11': 1L, 'brighton': 1L, 'march': 1L, 'returning': 1L, 'hodges': 1L, 'musker': 1L, 'break': 1L, 'torquay': 7L, 'immediately': 1L, 'minute': 1L, 'liskeard': 1L, 'february': 2L, 'clevedon': 1L, 'january': 1L, 'debut': 1L, 'joined': 1L, 'serves': 1L, 'mccall': 1L, 'side': 2L, 'plainmoor': 1L, '2004on': 1L, 'england': 2L, 'villa': 1L, 'peripheral': 1L, 'back': 1L, 'born': 2L, 'eddie': 1L, 'joyces': 1L, 'sean': 1L, 'tauntons': 1L, 'terms': 1L, 'substitute': 2L, '7': 2L, 'noncontract': 1L, 'august': 3L, 'initially': 1L, 'merthyr': 1L, 'duane': 1L, '1979is': 1L, 'november': 1L, 'pilgrims': 1L, 'bideford': 3L, 'resumed': 1L, 'league': 1L, 'great': 1L, 'career': 2L, '30': 1L, 'contract': 3L, 'trial': 1L, 'american': 1L, 'calgary': 1L, '20072008': 1L, 'saunders': 1L, 'taunton': 2L, 'win': 2L, 'loan': 2L, 'arsenal': 1L, 'leon': 1L, 'represented': 1L, 'hapgood': 2L, 'conference': 1L, 'russell': 1L, 'initial': 1L, 'schoolboyshapgood': 1L, '6': 1L, 'teamin': 1L, 'injury': 1L, 'hapgoodleon': 1L, 'recovered': 1L, 'amateur': 1L, 'club': 1L, 'academy': 1L, 'offered': 1L, 'released': 2L, 'teaming': 1L, 'apprentice': 2L, 'town': 4L, '10': 1L, 'october': 1L, 'join': 2L, '1997': 1L, '1999': 2L, '1998': 1L, 'work': 1L, 'yeovil': 1L, 'signed': 1L, 'final': 1L, 'plymouth': 2L, 'parkhe': 1L, 'uk': 1L, 'played': 1L, 'december': 1L, 'turned': 1L, 'states': 1L, 'player': 2L, 'allowed': 1L, 'north': 1L, 'tydfil': 1L, 'bidefordhe': 1L, 'united': 3L, 'berkhamsted': 1L, 'began': 1L, 'foothills': 1L, 'role': 1L, 'kevin': 1L, 'season': 3L, 'hove': 1L, 'injured': 1L, 'play': 1L, 'extended': 1L, 'onemonth': 1L, 'june': 3L, 'william': 1L, 'fa': 1L, 'coming': 1L, 'vase': 1L, 'expired': 1L, 'subsequently': 2L, '38th': 1L, 'moved': 4L, 'failing': 1L, '2002': 1L, '2003': 1L, '2000': 2L, '2001': 2L, '2007': 2L, 'english': 1L, 'professional': 1L, '2008': 1L, 'starting': 1L, 'playing': 1L, 'left': 2L}, {'giggles': 1L, 'actress': 1L, 'produced': 1L, 'dont': 2L, 'tv': 1L, 'character': 1L, 'young': 1L, 'lets': 1L, '8': 1L, 'costarring': 1L, 'lilly': 1L, '2011': 1L, '2010': 3L, '2013': 1L, 'march': 1L, 'songwriter': 1L, 'records': 1L, 'game': 1L, 'october': 2L, 'dreams': 1L, 'cyberbully': 1L, 'lost': 1L, 'cleaners': 1L, 'dreamosments': 1L, 'debut': 1L, 'morris': 1L, 'channel': 2L, 'rock': 1L, 'gerti': 1L, 'emmy': 1L, 'series': 3L, 'crackle': 1L, 'born': 2L, 'recently': 3L, 'alternativeindie': 1L, 'album': 2L, 'abc': 2L, 'lead': 1L, 'diamondosment': 1L, 'movie': 5L, 'nightmare': 1L, 'recorded': 1L, 'stines': 1L, 'melissa': 1L, 'emily': 1L, 'disney': 2L, '3d': 1L, 'truscott': 1L, 'california': 1L, 'costar': 2L, 'starred': 2L, 'gained': 1L, 'hits': 1L, 'kids': 2L, 'service': 1L, 'island': 1L, 'sitcom': 1L, 'angeles': 1L, 'american': 1L, 'awardnominated': 1L, 'childhood': 1L, 'features': 1L, 'family': 2L, 'pop': 2L, 'mitchel': 1L, 'osment': 1L, 'working': 1L, 'fight': 1L, 'los': 1L, '2': 1L, 'music': 1L, 'stars': 1L, 'films': 1L, 'lovesick': 1L, 'teen': 1L, 'flight': 1L, 'volume': 1L, 'repertoire': 1L, 'jordan': 1L, '2014': 2L, '10': 1L, 'television': 2L, '1992': 1L, 'hour': 1L, 'windup': 1L, '19': 1L, 'expanded': 1L, 'didnt': 1L, 'musso': 1L, 'spy': 2L, 'alongside': 1L, 'single': 2L, 'lifetime': 1L, 'fame': 1L, 'cassie': 1L, 'dadnapped': 1L, 'hannah': 3L, '5': 1L, 'online': 1L, 'daughters': 1L, 'entitled': 1L, 'june': 1L, 'montana': 3L, 'haunting': 1L, 'friends': 1L, 'singer': 1L, 'released': 3L, 'hungry': 1L, 'gabi': 1L, 'original': 2L}, {'selection': 2L, 'shot': 3L, 'fifthhighest': 1L, 'switched': 1L, 'accurate': 1L, 'years': 1L, 'ended': 1L, 'aggressive': 1L, 'gasping': 1L, 'roanoke': 1L, '25': 1L, 'style': 1L, '696': 1L, '21': 1L, 'earned': 1L, 'admission': 1L, 'writer': 1L, 'dickinson': 1L, 'worth': 1L, '201112': 1L, 'division': 2L, 'big': 1L, 'schoola': 1L, 'virginia': 2L, 'game': 1L, '12': 1L, 'world': 1L, 'bit': 1L, 'school': 1L, 'crisp': 1L, 'university': 1L, 'lexington': 1L, '2310': 1L, 'team': 2L, 'alltime': 1L, 'wrote': 1L, 'back': 1L, 'brill': 1L, 'born': 1L, 'wlbill': 1L, 'year': 2L, 'explosive': 1L, 'ability': 1L, 'prolific': 1L, 'jumped': 1L, 'jump': 2L, '195455': 1L, 'fans': 1L, 'score': 1L, 'tripleteamed': 1L, 'shooters': 1L, 'foundation': 1L, 'led': 1L, 'lee': 1L, 'defenses': 1L, 'june': 1L, 'wl': 2L, 'razzledazzle': 1L, '109': 1L, 'baseball': 1L, 'free': 2L, '1935': 1L, 'news': 1L, 'throw': 1L, 'dribbled': 1L, 'generals': 1L, 'standout': 1L, 'career': 3L, 'ncaa': 2L, 'times': 1L, 'american': 1L, 'games': 1L, 'throws': 1L, 'jersey': 2L, 'named': 1L, 'point': 1L, 'washington': 1L, 'guard': 1L, 'total': 1L, 'conference': 2L, 'city': 1L, 'helms': 1L, 'basketball': 2L, 'top': 1L, 'sports': 1L, '730': 1L, 'season': 1L, 'finished': 1L, 'opposing': 1L, 'allsouthern': 1L, '696for954': 1L, 'helped': 1L, 'made': 2L, 'double': 1L, 'straight': 1L, 'air': 1L, 'ballhandling': 1L, 'college': 1L, 'history': 3L, 'played': 4L, 'high': 2L, 'player': 2L, 'native': 1L, 'allamerica': 1L, 'floraflora': 1L, 'flora': 6L, 'located': 1L, 'conclusion': 1L, 'play': 1L, 'ball': 1L, 'floras': 1L, 'price': 1L, 'southern': 1L, 'hand': 2L, 'william': 1L, 'dominick': 1L, 'scorer': 1L, '195758': 2L, 'dom': 2L, 'average': 1L, 'points': 2L, 'time': 1L, 'senior': 1L, 'left': 2L}, {'operations': 1L, 'serving': 1L, 'mexican': 1L, 'lester': 1L, 'divisionborn': 1L, 'postdoctoral': 1L, 'captain': 1L, 'surviving': 1L, 'sciences': 1L, '1943': 1L, '28': 1L, 'aviv': 1L, 'natonsf': 1L, 'rica': 1L, 'division': 1L, 'returned': 1L, 'polytechnic': 1L, 'school': 2L, 'scholar': 2L, 'mathematician': 1L, 'university': 11L, 'hawaii': 1L, 'secretary': 1L, 'mathematical': 2L, 'tel': 1L, 'fair': 1L, 'born': 1L, 'computer': 1L, 'fulbright': 2L, 'obispo': 1L, 'research': 4L, 'state': 1L, 'hill': 1L, 'dubins': 1L, 'theory': 1L, 'free': 1L, 'ranger': 1L, 'appointments': 1L, 'california': 2L, 'york': 1L, 'advisor': 1L, 'luis': 1L, 'phd': 1L, 'institute': 2L, 'residence': 1L, 'study': 1L, 'benfords': 1L, 'american': 1L, 'military': 1L, 'probability': 1L, 'point': 1L, 'berkeley': 1L, 'washington': 1L, 'amsterdam': 1L, 'army': 2L, 'west': 1L, 'mathematics': 3L, '25th': 1L, 'cimat': 1L, 'academy': 2L, 'gttingen': 3L, 'gauss': 1L, 'emeritus': 1L, 'georgia': 2L, 'ma': 1L, 'stanford': 1L, 'work': 2L, 'theories': 1L, 'career': 1L, 'ms': 1L, 'stopping': 1L, 'distinguished': 1L, 'engineers': 1L, 'studied': 1L, 'san': 1L, 'mexico': 1L, 'december': 1L, 'preston': 1L, 'infantry': 1L, 'fellow': 1L, 'states': 1L, 'engineering': 1L, 'technology': 2L, 'united': 1L, '1966': 1L, 'graduate': 1L, 'adjunct': 1L, 'universityhe': 1L, 'electrical': 1L, 'leiden': 1L, 'optimal': 1L, 'temporary': 1L, 'combat': 1L, 'centre': 1L, 'theodore': 1L, 'problems': 1L, 'flatbush': 1L, 'law': 1L, 'class': 1L, 'costa': 1L, 'professor': 5L, 'spent': 1L, 'vietnam': 1L}, {'unified': 1L, 'neopagan': 1L, 'antisemitism': 1L, 'police': 1L, 'personal': 1L, 'workers': 1L, 'lithuania': 2L, 'zionism': 1L, 'citizen': 1L, 'poles': 1L, 'volunteer': 1L, '2011': 1L, 'pending': 1L, '2012': 1L, 'eventually': 1L, 'seized': 1L, 'municipal': 1L, 'moribund': 1L, 'government': 1L, 'nation': 1L, 'made': 1L, 'gyvenimo': 1L, 'paramilitary': 1L, 'married': 1L, 'leave': 1L, 'rituals': 1L, 'iauliai': 2L, 'gervaldas': 3L, 'jews': 1L, 'national': 5L, 'creation': 1L, 'born': 1L, 'computer': 1L, 'preaching': 1L, 'year': 1L, 'gervaldass': 1L, 'defence': 1L, 'partija': 1L, 'legal': 1L, 'globalism': 1L, '3': 1L, 'investigation': 1L, 'refusedin': 1L, 'conditions': 1L, 'leader': 1L, 'movement': 1L, 'lithuanian': 6L, 'led': 1L, 'carried': 1L, 'members': 1L, 'november': 1L, 'win': 1L, 'change': 1L, 'prosecutors': 1L, 'antisemitic': 2L, 'computers': 1L, 'demanded': 1L, 'minorities': 2L, 'april': 2L, 'conducted': 1L, 'logic': 1L, 'hatred': 1L, 'alliance': 2L, 'reasons': 1L, 'radical': 1L, 'municipality': 1L, 'registration': 1L, 'establish': 1L, 'city': 2L, 'murza': 3L, 'basis': 1L, 'political': 1L, 'revive': 1L, 'passed': 1L, 'logikos': 1L, 'life': 1L, 'hard': 1L, 'attacked': 1L, 'attempted': 1L, 'russian': 1L, 'population': 1L, 'colleagues': 1L, '12': 1L, 'politician': 1L, '16': 1L, '19': 1L, '1998': 1L, 'socialist': 2L, 'statementsin': 1L, 'elections': 1L, 'aims': 1L, 'marriage': 1L, 'publications': 1L, 'voice': 1L, 'called': 1L, 'nationalist': 1L, 'december': 1L, 'council': 2L, 'encompass': 1L, 'unbearable': 1L, 'compared': 1L, 'court': 1L, 'russians': 1L, 'zlata': 1L, 'member': 3L, 'unity': 1L, 'rapova': 1L, 'forces': 1L, 'party': 6L, 'nationalistsocialist': 1L, 'plans': 1L, '2005': 2L, 'prosecution': 1L, 'drives': 1L, 'sponsored': 1L, 'lithuanias': 1L, 'neonazi': 1L, '1973': 1L, '2001': 1L, 'time': 1L, 'mindaugas': 5L, 'organization': 1L, 'democratic': 1L, 'gervaldason': 1L}, {'leagues': 1L, 'tomlin': 1L, 'cincinnati': 1L, 'september': 2L, 'years': 1L, 'held': 1L, 'scott': 1L, 'member': 2L, 'expos': 6L, 'denver': 2L, 'bases': 1L, '11': 1L, 'batted': 3L, 'hit': 3L, 'big': 1L, 'end': 1L, '672': 1L, 'early': 1L, 'game': 3L, '1951': 1L, 'hall': 2L, 'association': 1L, 'catcher': 3L, 'appearing': 1L, 'ended': 1L, 'pinch': 1L, 'university': 1L, 'level': 1L, 'doubled': 1L, '16': 1L, 'affiliate': 1L, 'january': 1L, '296': 1L, 'development': 1L, 'pirates': 1L, 'gamesin': 1L, '195': 1L, 'righthanded': 1L, '190': 1L, 'born': 1L, 'kgreece': 1L, 'blues': 1L, '86': 1L, 'rarely': 1L, 'stood': 1L, 'robert': 1L, 'nondrafted': 1L, '7': 1L, 'international': 1L, 'run': 2L, 'free': 1L, 'baseball': 1L, 'triplea': 1L, 'beginning': 1L, 'league': 5L, 'hits': 1L, 'career': 1L, 'days': 1L, 'contract': 1L, 'times': 1L, 'trial': 1L, 'american': 2L, 'games': 5L, 'montreal': 4L, 'reds': 1L, 'major': 2L, 'striking': 1L, 'feet': 1L, 'bats': 1L, 'gary': 1L, 'reached': 1L, 'total': 1L, 'appearancereece': 1L, 'carter': 1L, '1981': 1L, 'bears': 1L, 'top': 1L, 'system': 2L, '6': 1L, 'collected': 2L, 'final': 2L, 'minor': 2L, 'threw': 1L, 'started': 2L, 'season': 3L, '185': 1L, 'pitcher': 1L, 'dave': 1L, 'riverfront': 1L, 'atlanta': 1L, 'memphis': 1L, 'mlb': 4L, 'balls': 1L, 'braves': 1L, 'signed': 2L, 'future': 2L, 'famer': 2L, 'played': 3L, 'pounds': 1L, 'agent': 1L, 'weighed': 1L, 'player': 2L, 'stanford': 1L, 'stint': 1L, 'robinson': 1L, 'stadiumhe': 1L, 'bigleague': 1L, 'reece': 5L, 'april': 1L, '47': 1L, 'rout': 1L, 'atbats': 1L, 'graduate': 1L, '1': 1L, 'pittsburgh': 1L, 'parts': 1L, '5': 1L, 'inch': 1L, 'niekro': 1L, 'scored': 1L, 'farm': 1L, 'june': 1L, 'regular': 1L, 'tall': 1L, 'seasons': 1L, 'singled': 1L, 'bearsin': 1L, 'don': 1L, '1978': 2L, '1975': 1L, 'phil': 1L, '1973': 1L, 'spent': 1L, 'playing': 1L, 'lateseason': 1L, 'doubleheader': 1L, 'relief': 1L, 'professional': 1L, 'careerhigh': 1L, 'spend': 1L, 'hitless': 1L}, {'anglican': 1L, 'writings': 1L, 'contemporary': 1L, 'report': 1L, 'including': 1L, 'death': 4L, 'group': 1L, 'title': 1L, '1947': 1L, 'clergy': 1L, 'degrees': 1L, 'board': 1L, 'cowrote': 1L, 'born': 1L, 'wales': 1L, 'include': 2L, 'mortality': 1L, 'federation': 1L, 'read': 1L, 'leadershipborn': 1L, 'christianityprofessor': 1L, 'symbolism': 1L, 'projects': 1L, 'articles': 1L, 'masters': 1L, 'prize': 1L, 'nottingham': 1L, 'fields': 1L, 'university': 6L, '20002003': 1L, 'large': 1L, 'rituals': 1L, 'common': 1L, 'innerspeech': 1L, 'popular': 1L, 'achieved': 1L, 'globe': 1L, 'authority': 1L, 'society': 2L, 'taught': 1L, 'college': 2L, 'sociology': 1L, 'uppsala': 1L, 'douglas': 1L, 'research': 1L, 'current': 1L, 'religion': 5L, 'sociological': 2L, 'won': 1L, 'attitudes': 1L, 'international': 1L, 'yearhis': 1L, 'recently': 1L, 'belief': 3L, 'degree': 1L, 'anthropology': 2L, 'bachelor': 1L, 'graves': 1L, 'teaches': 2L, 'boards': 1L, 'oxford': 1L, 'involved': 1L, 'study': 3L, 'ritual': 3L, 'british': 3L, 'published': 1L, 'theologyhe': 1L, 'letters': 1L, 'johns': 1L, 'number': 1L, 'durham': 4L, 'undergraduate': 1L, 'purityhe': 1L, 'conference': 2L, 'arts': 1L, 'guest': 1L, 'awarded': 1L, 'master': 1L, 'interests': 1L, 'alastair': 1L, 'funerary': 1L, 'honorary': 1L, 'booksellerdiagram': 1L, '1995': 1L, 'room': 1L, 'surrounding': 1L, 'scandinavian': 1L, 'chads': 1L, 'sweden': 1L, 'editorial': 2L, 'doctorate': 1L, 'beliefs': 1L, 'reusing': 1L, 'history': 2L, 'conferences': 1L, 'modules': 1L, 'expertise': 1L, 'prayer': 1L, 'st': 2L, 'association': 1L, 'cremation': 3L, 'shaw': 1L, 'james': 1L, 'studying': 1L, 'member': 1L, 'book': 1L, 'speaker': 1L, 'chairman': 1L, 'department': 1L, 'encyclopedia': 1L, 'rites': 1L, 'phd': 1L, '19402000': 1L, 'mormonism': 1L, 'identity': 1L, 'oddest': 1L, 'professor': 1L, 'doctor': 1L, 'cover': 1L, 'barcelona': 1L, 'theology': 4L, 'davies': 2L, '2004': 1L, 'senior': 1L, '2003within': 1L}, {'gdr': 2L, 'german': 3L, 'asteroids': 3L, 'resistance': 1L, 'merit': 1L, 'discovered': 2L, 'sources': 1L, 'fighters': 1L, 'human': 1L, 'managers': 1L, 'religious': 1L, 'schmidt': 1L, '3859': 1L, 'lowell': 1L, 'continues': 1L, 'ahnert': 1L, 'choice': 1L, 'famous': 1L, 'cultural': 1L, 'observatory': 3L, 'bande': 1L, 'thuringia': 1L, 'systematically': 1L, '3245': 1L, 'byproduct': 1L, 'small': 1L, 'telescope': 1L, 'achieved': 1L, '3941': 1L, 'related': 1L, 'born': 1L, 'astronomer': 1L, 'examples': 1L, 'year': 1L, 'ribbon': 1L, 'chose': 1L, 'namings': 1L, 'federal': 1L, 'restricted': 1L, 'research': 2L, 'include': 2L, 'wellsubstantiated': 1L, 'honoured': 2L, 'scientists': 1L, 'international': 1L, 'numerous': 1L, 'haydn': 1L, 'scientific': 2L, 'arizonain': 1L, 'asteroid': 1L, 'galaxies': 1L, '1930': 1L, 'spare': 1L, 'khler': 1L, 'tautenburg': 2L, 'search': 1L, 'studied': 1L, 'times': 1L, '519': 1L, 'objects': 1L, 'jensch': 1L, 'retired': 1L, 'community': 1L, 'references': 1L, 'names': 3L, 'freimuthhe': 1L, 'awarded': 1L, 'anderson': 1L, 'horst': 1L, 'iau': 1L, 'amateur': 1L, 'schwarzschild': 1L, '2424': 1L, 'great': 1L, 'interestfreimut': 1L, 'neutral': 1L, 'july': 1L, 'reunification': 1L, 'october': 1L, '1995': 1L, '17': 1L, 'brngen': 4L, 'work': 2L, 'historical': 1L, 'politically': 1L, 'give': 1L, 'topics': 1L, 'prestigious': 1L, 'station': 1L, 'nazi': 1L, 'karl': 1L, 'regime': 1L, 'cross': 1L, 'astronomers': 1L, '3181': 1L, 'geographical': 1L, 'bundesverdienstkreuz': 1L, 'document': 1L, 'composers': 1L, 'wrongly': 1L, 'bowell': 1L, 'germany': 1L, 'suppression': 1L, 'president': 1L, 'mesa': 1L, 'freelancer': 1L, 'considered': 1L, 'freimut': 1L, 'reputation': 1L, '2006': 2L, 'qualities': 1L, 'time': 1L}, {'brahms': 1L, 'german': 1L, 'berkeleyfrom': 1L, 'rector': 1L, 'paul': 2L, 'conservatoire': 1L, 'basel': 4L, '1944': 1L, 'board': 2L, '8': 1L, 'piano': 1L, 'include': 1L, 'heidelberg': 1L, 'gave': 1L, 'cagehe': 1L, 'founding': 1L, 'gdanskbrm': 1L, '1990': 1L, 'de': 3L, 'school': 2L, 'famous': 1L, 'regio': 1L, 'du': 1L, 'association': 1L, 'conservatory': 1L, 'sortisatio': 1L, 'university': 3L, 'argentinahe': 1L, 'choir': 1L, 'chamber': 2L, 'schatt': 1L, 'musique': 1L, 'works': 1L, 'luci': 1L, 'groupe': 1L, 'czech': 1L, '1987': 3L, 'national': 1L, 'pierre': 1L, 'competition': 1L, 'born': 1L, 'college': 1L, 'lucerne': 2L, 'fribourg': 1L, 'musicales': 1L, 'composers': 1L, 'anton': 1L, 'requiem': 1L, 'research': 1L, 'international': 1L, 'lacroix': 1L, 'angelus': 1L, 'jury': 1L, 'philharmonic': 1L, 'klee': 2L, 'jeunesses': 1L, '1984': 1L, 'litteri': 1L, 'california': 1L, 'graduated': 1L, '100': 1L, 'rptiteur': 1L, 'compositions': 1L, 'conducting': 1L, 'institute': 1L, 'studied': 1L, 'april': 1L, 'hokuto': 1L, 'thring': 1L, 'boulez': 1L, 'honor': 1L, 'composed': 1L, 'zentralschweiz': 1L, 'cd': 1L, 'suissebrm': 1L, 'silesius': 1L, 'brm': 1L, 'composer': 2L, 'slovakia': 1L, 'cs': 1L, 'webern': 1L, '2000': 1L, 'city': 1L, 'arts': 1L, 'guest': 2L, 'festival': 3L, 'variously': 1L, 'johannes': 1L, 'cantata': 1L, 'music': 7L, 'master': 2L, 'john': 1L, 'head': 1L, 'musicology': 1L, 'conductor': 3L, 'academy': 2L, 'worked': 2L, 'painter': 1L, '10': 1L, '1999': 2L, 'science': 1L, 'des': 1L, 'classes': 1L, 'ombre': 1L, 'called': 1L, 'composition': 2L, 'concours': 1L, 'pieces': 1L, 'high': 1L, 'council': 1L, 'curtis': 1L, 'influenced': 1L, 'holds': 1L, 'foundationfrom': 1L, 'member': 4L, 'republic': 1L, 'sacred': 1L, 'conductorbrm': 1L, 'ensemble': 1L, 'junge': 1L, 'binningenbasel': 1L, 'aspen': 1L, 'director': 1L, 'regular': 1L, 'president': 1L, 'philharmonie': 1L, 'europenne': 1L, 'pardubice': 1L, '1973': 1L, 'chief': 1L, '2001': 1L, '2006': 2L, 'swiss': 3L}, {'aharon': 2L, 'corps': 1L, 'september': 2L, 'settlements': 1L, 'years': 3L, 'quotes': 1L, 'london': 1L, 'agricultural': 1L, '25': 1L, '27': 1L, 'rosh': 1L, '22': 1L, '1965the': 1L, 'raffray': 1L, '1941': 1L, '1946': 1L, 'young': 1L, 'micronesia': 1L, 'harrow': 1L, 'finally': 1L, 'edward': 1L, 'east': 1L, '2010': 1L, 'kingdom': 1L, 'returned': 1L, 'cuba': 1L, 'sussex': 1L, 'early': 1L, 'wallis': 1L, 'sons': 1L, 'traveled': 1L, '1958': 1L, 'association': 1L, 'chapel': 1L, 'school': 2L, '1997': 1L, 'married': 3L, 'joined': 1L, 'officer': 1L, 'team': 2L, 'barracks': 1L, 'husband': 1L, 'england': 2L, 'ten': 1L, 'intelligence': 1L, 'national': 1L, 'aida': 1L, 'aldrich': 1L, 'born': 1L, 'defense': 1L, 'year': 1L, 'israeli': 2L, 'jackson': 1L, 'turks': 1L, 'record': 1L, 'trainers': 1L, 'freediving': 2L, 'disciplines': 1L, 'foundation': 1L, 'attended': 1L, 'joy': 1L, 'corisande': 1L, 'greatwood': 1L, 'le': 1L, 'taught': 1L, 'members': 1L, 'served': 1L, 'brokerage': 1L, 'teach': 1L, 'mariateresa': 1L, 'nadav': 1L, 'limits': 1L, '1932': 1L, 'changed': 1L, 'shipping': 1L, 'ideology': 1L, 'april': 1L, '1957': 1L, 'zeev': 1L, 'action': 1L, 'settled': 1L, 'childhood': 1L, 'egypt': 1L, 'father': 3L, 'son': 2L, 'regiment': 1L, 'trained': 1L, 'huntemuller': 1L, '1939': 1L, 'institut': 1L, 'weight': 1L, 'met': 1L, 'system': 1L, 'heights': 1L, 'baptised': 1L, 'switzerlandin': 1L, 'died': 2L, 'house': 1L, 'aharons': 2L, 'mary': 2L, 'separated': 1L, 'israel': 2L, 'lived': 1L, 'pinna': 1L, 'moved': 1L, 'train': 1L, 'westbourne': 1L, 'child': 3L, 'hc': 1L, 'instructor': 1L, '1992': 1L, '196768': 1L, 'inducted': 1L, '1998': 1L, 'work': 1L, 'mexicomarcus': 1L, 'sinai': 1L, 'guards': 2L, 'mt': 2L, 'freedivingsolomons': 1L, 'viii': 1L, 'uk': 3L, 'henry': 2L, 'ernest': 4L, 'freedivers': 1L, 'scuba': 1L, 'ferreras': 1L, 'firm': 1L, 'pipin': 1L, 'constant': 1L, 'mexico': 1L, 'caicos': 1L, 'greece': 2L, 'india': 1L, 'spent': 1L, 'middle': 1L, 'partner': 1L, 'communal': 1L, 'united': 1L, '1964': 1L, 'uri': 1L, '1960': 1L, 'ne': 1L, '1962': 1L, 'kirk': 1L, 'forces': 1L, 'rosey': 1L, 'holderborn': 1L, 'golan': 1L, 'francisco': 1L, 'time': 1L, 'student': 1L, 'friends': 1L, 'spence': 1L, 'freediver': 1L, 'eilat': 1L, 'solomons': 10L, 'fathers': 1L, 'wife': 2L, 'pennsylvania': 1L, '1975': 1L, '1973': 1L, 'wellington': 1L, 'ibiza': 1L, '2001': 1L, 'mother': 1L, 'commissioned': 1L, '2008': 1L, 'coldstream': 1L, 'simpson': 6L}, {'rabbi': 4L, 'torah': 1L, 'committee': 1L, 'yael': 1L, 'endowment': 1L, 'medrash': 1L, 'hills': 2L, 'internationally': 1L, 'earned': 1L, 'dick': 1L, 'cheney': 1L, 'young': 1L, 'fund': 1L, 'bush': 1L, 'stephen': 1L, 'mayors': 1L, 'ordained': 1L, 'increased': 3L, 'lakewood': 1L, 'michigan': 1L, 'masters': 1L, 'govoha': 1L, 'congregation': 2L, 'closely': 1L, 'jacob': 2L, 'township': 1L, 'school': 2L, 'scholar': 1L, 'university': 2L, 'beverly': 2L, 'served': 1L, 'webb': 1L, 'expanded': 1L, 'leaders': 1L, 'stern': 1L, 'invocations': 1L, 'cattle': 1L, 'substantially': 1L, 'businessweil': 1L, 'delivered': 1L, 'visiting': 1L, 'public': 1L, 'theological': 1L, 'attended': 1L, 'business': 1L, 'weil': 2L, 'california': 1L, 'term': 1L, 'vice': 1L, 'congregations': 2L, 'resides': 1L, 'country': 1L, 'programming': 1L, 'american': 2L, 'jersey': 1L, 'york': 3L, 'jimmy': 1L, 'synagogues': 1L, 'fundraiser': 1L, 'steven': 1L, '250': 1L, 'administration': 1L, 'george': 1L, 'girls': 1L, 'yeshivat': 1L, 'israel': 4L, '750': 1L, 'families': 2L, 'jewish': 1L, 'park': 1L, 'isaac': 1L, 'kerem': 1L, 'teaneck': 1L, 'worked': 2L, 'grew': 1L, 'advocating': 1L, 'wife': 1L, 'arnold': 1L, 'residence': 1L, 'byavneh': 1L, 'seminary': 1L, 'strongly': 1L, 'yeshiva': 1L, 'high': 1L, 'education': 1L, 'ohr': 1L, 'schwarzenegger': 1L, 'affairs': 1L, 'jerseyin': 1L, 'oak': 1L, 'successful': 1L, 'elchanan': 1L, 'delshad': 1L, 'farm': 1L, 'southern': 1L, 'californiaweil': 1L, 'membership': 2L, 'president': 2L, 'beth': 3L, 'upstate': 1L, 'boys': 1L, 'considered': 1L, 'governor': 1L}, {'train': 1L, 'serving': 1L, 'significantly': 1L, '2007in': 1L, 'statewide': 1L, 'wasnt': 1L, 'thingit': 1L, 'national': 1L, 'executive': 1L, 'houses': 1L, 'heard': 1L, 'single': 1L, 'including': 1L, 'election': 2L, 'committee': 2L, 'gary': 1L, '6925': 1L, 'north': 4L, 'members': 1L, 'increased': 1L, '24': 1L, 'siren': 1L, 'retirement': 1L, 'terms': 1L, 'figure': 1L, 'candidate': 1L, 'chosen': 1L, '3512': 1L, 'description': 1L, 'distracted': 1L, 'political': 1L, 'state': 3L, '1': 1L, 'senate': 1L, 'finally': 1L, 'setting': 1L, 'candidates': 1L, 'board': 1L, 'house': 1L, 'karls': 1L, 'party': 4L, 'learned': 1L, 'emineth': 1L, 'meeting': 1L, '2010': 1L, 'chairman': 5L, 'ken': 1L, 'led': 1L, 'partys': 1L, 'dakota': 4L, 'beltway': 1L, 'successful': 1L, 'office': 1L, 'republicans': 2L, 'pieces': 1L, 'foremost': 1L, 'director': 2L, 'fargo': 1L, 'job': 1L, 'majorities': 1L, 'representative': 1L, 'letter': 1L, 'senator': 1L, 'rolling': 1L, 'july': 2L, 'republican': 5L, '1958': 1L, 'legislature': 1L, 'october': 1L, '2007s': 1L, 'born': 1L, 'station': 1L, 'inside': 1L, 'finance': 2L, 'won': 1L, 'motion': 1L, 'lead': 1L, 'place': 1L, 'victory': 1L, 'time': 1L, 'marginin': 1L, 'wheels': 1L, 'margin': 1L, 'wrote': 1L, 'songs': 1L}, {'kosovo': 1L, 'idealistic': 1L, 'unrest': 1L, 'including': 1L, 'soldiers': 1L, 'worked': 2L, 'issues': 1L, 'based': 1L, 'francegrucza': 1L, 'la': 1L, 'paris': 1L, 'young': 1L, 'haven': 1L, 'veterans': 1L, 'australia': 3L, 'enclave': 1L, 'safe': 1L, 'baghdad': 1L, 'world': 1L, 'documented': 1L, 'unique': 1L, 'pbs': 1L, 'covering': 1L, 'refugees': 1L, 'cynical': 1L, 'pacific': 1L, 'zones': 1L, 'born': 1L, 'individual': 1L, 'entering': 1L, 'year': 1L, 'frontline': 2L, 'afghanistan': 2L, 'network': 1L, 'banff': 1L, 'section': 1L, 'selected': 1L, 'extensively': 1L, 'won': 1L, 'international': 1L, 'cameraman': 1L, 'briefinghe': 1L, 'men': 1L, 'french': 1L, 'yuri': 1L, 'news': 1L, 'iraq': 4L, 'working': 1L, 'canadian': 1L, 'career': 1L, 'emmy': 1L, 'leaving': 1L, 'papua': 1L, 'length': 2L, 'aka': 1L, 'entered': 1L, 'documentary': 6L, 'maker': 1L, 'south': 1L, 'pakistan': 1L, 'named': 1L, 'civil': 1L, 'canal': 1L, 'timothy': 1L, 'platoon': 2L, 'palestinian': 1L, 'festival': 1L, 'west': 1L, 'awarded': 1L, 'territories': 1L, 'films': 1L, 'white': 2L, 'bitter': 1L, 'war': 2L, 'grucza': 4L, 'festivalin': 1L, 'israel': 1L, 'north': 1L, 'released': 1L, 'craft': 1L, 'july': 1L, 'maldavsky': 1L, 'australian': 1L, 'television': 1L, '1999': 1L, 'work': 2L, 'country': 1L, 'kosovan': 1L, 'outstanding': 1L, 'pieces': 1L, 'escaped': 1L, 'film': 5L, 'melbourne': 1L, 'began': 2L, 'feature': 2L, '1': 1L, 'cinematography': 1L, 'hot': 1L, 'docs': 1L, 'conflict': 1L, 'continues': 1L, 'frontlinein': 1L, 'produce': 1L, 'invasion': 1L, 'achievement': 1L, 'kurdish': 1L, 'correspondent': 1L, '1976': 1L, 'spend': 1L, '2002': 1L, '2003': 1L, '2006': 1L, 'repatriated': 1L, '2009': 1L, 'granted': 1L}, {'coach': 3L, 'scientologist': 1L, 'executive': 1L, 'years': 1L, 'founded': 1L, 'facilities': 1L, 'including': 2L, 'world': 1L, 'captain': 1L, 'worked': 1L, 'happiness': 1L, 'position': 1L, 'reverend': 1L, '1946': 1L, 'methodology': 1L, 'association': 2L, '2010': 1L, 'australia': 1L, 'secular': 1L, 'utah': 1L, 'camino': 1L, 'spokespersons': 1L, 'supervise': 1L, 'applying': 1L, '1968': 1L, 'continued': 1L, 'narconon': 1L, 'school': 2L, 'adams': 6L, 'religions': 1L, 'companies': 1L, 'chuck': 1L, 'teams': 1L, 'scholastics': 1L, 'trackandfield': 1L, 'served': 1L, 'el': 1L, 'procareer': 1L, 'national': 3L, '1960s': 1L, 'born': 1L, 'officials': 1L, 'college': 4L, 'doug': 1L, 'encouraged': 1L, 'living': 1L, 'falcons': 1L, 'robert': 1L, 'religion': 1L, 'international': 2L, 'public': 1L, 'steelers': 2L, 'newswriters': 1L, 'drafted': 1L, 'attended': 1L, 'august': 1L, 'scovil': 1L, 'fitness': 1L, 'free': 1L, 'california': 3L, 'members': 1L, 'represented': 1L, 'received': 1L, 'professions': 1L, 'scientology': 8L, 'melbourne': 1L, 'american': 1L, 'nonprofit': 1L, 'stockton': 1L, 'traveled': 1L, 'church': 6L, 'owning': 1L, 'conference': 2L, 'city': 1L, 'basketball': 1L, 'working': 1L, '1988': 1L, 'sports': 1L, 'listed': 1L, 'hollywood': 1L, 'recruited': 1L, 'league': 3L, 'pittsburgh': 2L, 'season': 1L, 'serve': 1L, 'participating': 1L, 'finished': 1L, 'pacific': 1L, 'atlanta': 1L, '2006': 2L, 'applied': 1L, 'organizations': 1L, '15': 1L, 'full': 1L, 'consultant': 1L, 'official': 1L, 'single': 1L, 'signed': 1L, 'programs': 1L, 'san': 2L, 'played': 2L, 'december': 1L, 'agent': 1L, 'mateo': 2L, 'helped': 1L, 'teacherin': 1L, 'held': 1L, 'criminon': 1L, 'offense': 1L, 'education': 1L, 'affairs': 1L, 'end': 1L, 'media': 1L, '1966': 1L, 'member': 2L, 'tight': 1L, 'high': 2L, 'performance': 1L, 'play': 2L, 'redwood': 1L, 'schoolhe': 1L, 'bruce': 1L, 'football': 7L, 'organization': 2L, 'president': 4L, 'bob': 1L, 'noll': 1L, 'center': 1L, 'vice': 4L, '1973': 1L, 'senior': 1L, 'tech': 1L, '2004': 1L, 'professional': 1L, 'subsequently': 1L, '2009': 2L, 'playing': 1L, 'scholarship': 1L}, {'years': 2L, 'roy': 5L, 'interim': 1L, 'including': 1L, 'voteon': 1L, 'mayor': 1L, '26': 1L, '27': 1L, '22': 1L, 'adq': 3L, 'merger': 1L, '29': 1L, 'permanent': 1L, '4': 1L, 'riding': 1L, 'sylvie': 1L, '2012': 3L, 'partys': 1L, 'march': 1L, 'easily': 1L, 'regional': 1L, 'bcancour': 1L, 'quebecroy': 1L, 'politician': 1L, 'du': 1L, 'barreau': 1L, 'february': 1L, '59': 1L, 'admitted': 1L, 'served': 1L, 'universit': 1L, 'reelected': 2L, 'lotbinire': 1L, 'mental': 1L, 'house': 1L, 'national': 2L, 'elected': 1L, 'quebec': 2L, 'lawyer': 1L, 'nowdefunct': 1L, 'declined': 1L, 'canada': 1L, 'tuque': 1L, 'electoral': 1L, 'won': 1L, 'health': 1L, 'leader': 3L, 'announced': 1L, 'assembly': 2L, 'degree': 1L, 'initially': 1L, 'mauricie': 1L, 'gilles': 1L, 'pq': 1L, 'opposition': 1L, 'represented': 1L, 'dumont': 1L, 'arthabaska': 1L, 'candidate': 1L, 'la': 1L, '37': 1L, 'named': 1L, 'deputy': 1L, 'previously': 1L, 'municipality': 1L, 'county': 1L, 'laval': 1L, 'vote': 2L, 'qubec': 2L, 'avenir': 1L, 'november': 1L, '1987': 1L, 'taillon': 1L, 'district': 1L, '2012she': 1L, 'support': 1L, '1988': 1L, 'awarded': 1L, 'qubcois': 1L, 'finished': 2L, 'sharply': 1L, 'jeanguy': 1L, 'worked': 1L, 'appointed': 1L, 'organizations': 1L, 'saintsophiedelvrard': 1L, '12': 1L, '15': 1L, 'born': 1L, '1998': 1L, 'caq': 2L, 'official': 1L, 'coalition': 1L, 'merged': 1L, 'election': 4L, 'voteparti': 1L, 'liberal': 1L, 'year': 1L, 'votein': 1L, 'par': 1L, '1964': 1L, '44': 1L, 'leaderin': 1L, 'member': 2L, 'incumbent': 1L, 'party': 2L, 'resignation': 1L, 'reelection': 1L, 'mario': 1L, 'law': 1L, 'laurent': 1L, 'boissonneault': 1L, '2003': 3L, '2007': 2L, '2008': 1L, '2009': 1L}, {'gq': 1L, 'rob': 1L, 'random': 1L, 'bright': 1L, 'radio': 1L, 'crists': 1L, 'blender': 1L, 'death': 1L, 'true': 1L, 'childrensheffield': 1L, 'folded': 1L, 'young': 1L, 'writing': 1L, 'late': 1L, 'tape': 2L, 'charlottesville': 1L, '2010': 1L, '2013': 1L, 'woman': 1L, 'dj': 1L, 'song': 1L, 'couple': 1L, 'continues': 1L, 'virginia': 1L, 'quest': 1L, 'crist': 1L, 'loss': 1L, 'february': 1L, 'cooler': 1L, 'january': 2L, 'university': 1L, 'married': 1L, 'rituals': 1L, 'journalist': 1L, 'yale': 1L, 'starred': 1L, 'house': 1L, 'excerpt': 1L, 'library': 1L, 'yorksheffields': 1L, 'culture': 1L, 'virginiahis': 1L, 'contributing': 2L, 'version': 1L, 'print': 1L, 'wtju': 1L, 'weekly': 1L, 'issue': 1L, 'duran': 2L, 'publishers': 1L, 'attended': 1L, 'august': 1L, 'sheffield': 3L, 'remarried': 1L, 'met': 2L, 'york': 1L, 'received': 1L, 'stone': 1L, 'mans': 1L, 'prior': 1L, 'magazine': 1L, 'place': 1L, 'discusses': 1L, 'love': 6L, 'pop': 1L, 'featured': 1L, 'journalmost': 1L, 'city': 1L, 'takes': 1L, 'girls': 1L, '2': 1L, 'music': 3L, 'editor': 2L, 'essays': 1L, 'eyes': 1L, 'released': 3L, 'lives': 1L, 'july': 1L, 'spin': 1L, 'karaoke': 1L, '1997': 1L, 'born': 1L, 'reviews': 2L, 'ally': 1L, 'called': 2L, 'rene': 1L, 'boston': 1L, 'life': 1L, 'fellow': 1L, 'talking': 1L, 'station': 1L, 'turn': 1L, 'native': 1L, 'mutual': 1L, 'author': 1L, '1966': 1L, 'american': 1L, 'mix': 2L, 'book': 3L, 'brooklyn': 1L, 'fell': 1L, 'rolling': 1L, 'wife': 2L, '2006': 1L, '2007': 2L, 'time': 1L, '2009': 1L, 'haircutsheffields': 1L}, {'196971': 1L, 'joannides': 1L, 'japan': 2L, 'coordination': 1L, 'devoted': 1L, 'based': 1L, '1995his': 1L, 'paris': 2L, 'organisation': 2L, 'royal': 1L, 'chemistrys': 1L, 'gaylussac': 1L, 'preparationmichel': 1L, '400': 1L, '2014': 1L, 'include': 1L, 'junction': 1L, 'federation': 1L, '2004his': 1L, 'de': 1L, 'famous': 1L, 'solidstate': 1L, 'cracow': 1L, 'emergence': 1L, 'geo': 1L, 'association': 1L, 'societies': 2L, 'processes': 2L, 'electro': 1L, 'prize': 1L, 'approach': 1L, 'assemblies': 1L, 'princeton': 1L, 'culminating': 1L, 'specific': 1L, 'leopoldinain': 1L, 'activity': 1L, 'postdoctoral': 1L, 'university': 3L, 'bucharest': 1L, 'ches': 1L, 'supramolecular': 1L, 'creation': 1L, 'pierre': 1L, 'society': 2L, 'lisbon': 1L, 'techniques': 1L, 'universities': 1L, 'provided': 1L, 'lyon': 2L, 'colloidal': 1L, 'lectureship': 1L, 'contributed': 1L, 'research': 1L, 'iacs': 1L, 'highranking': 1L, 'netherlands': 1L, 'dioxide': 1L, 'causa': 1L, 'international': 3L, 'gassolid': 1L, 'europaea': 1L, 'led': 2L, 'interfacial': 1L, 'opening': 1L, 'interfaces': 1L, 'understanding': 1L, 'pioneered': 1L, 'chemistries': 1L, 'awards': 1L, 'naturforscher': 1L, 'active': 1L, 'improve': 1L, 'isotopes': 1L, 'involved': 1L, 'study': 1L, 'studied': 1L, 'biennial': 1L, 'promotion': 2L, 'studies': 1L, 'romania': 1L, 'humboldt': 1L, 'sklodowskacurie': 1L, 'congresses': 1L, 'europacat': 1L, 'elementary': 1L, 'faraday': 1L, 'awarded': 1L, 'poland': 2L, 'institut': 1L, 'che': 1L, 'france': 3L, 'molecular': 1L, 'vant': 1L, 'liquidsolid': 1L, 'completed': 1L, 'solidsolid': 1L, 'catalyst': 1L, 'cycle': 1L, 'appointed': 1L, 'presidentfounder': 1L, '1993': 1L, 'born': 1L, 'science': 1L, 'der': 1L, 'work': 2L, 'efcats': 1L, 'publications': 1L, 'heterogeneous': 1L, 'doctorate': 1L, 'professor': 2L, 'transition': 1L, 'portugal': 1L, 'vi': 1L, 'von': 1L, 'fellow': 1L, '13th': 1L, 'titanium': 1L, '200004': 1L, 'laboratoryindustrial': 1L, 'physical': 1L, '1968': 1L, 'doctor': 1L, 'member': 2L, 'field': 1L, 'honoris': 1L, 'catalysis': 7L, 'universitaire': 1L, 'european': 1L, 'elements': 1L, 'congress': 1L, 'academies': 1L, 'hoff': 1L, 'sue': 1L, 'akademie': 1L, 'involving': 1L, 'germany': 1L, 'president': 1L, 'marie': 1L, 'journals': 1L, 'probes': 1L, 'largely': 2L, '1975': 1L, 'epr': 1L, 'deutsche': 1L, 'curie': 2L, 'academia': 1L, 'watermediated': 1L, 'position': 1L, 'senior': 1L, 'chemistry': 1L, 'original': 1L, 'michel': 1L}, {'interpretation': 1L, 'including': 2L, 'islam': 1L, 'industries': 2L, 'lateral': 3L, 'literary': 1L, 'neoliberal': 1L, 'cultuur': 1L, '2011': 1L, '2010': 1L, 'founding': 2L, 'doukkali': 1L, 'arab': 1L, 'cultural': 11L, 'association': 1L, 'societies': 2L, 'fields': 1L, 'university': 4L, 'serves': 3L, 'academic': 1L, 'azemmour': 1L, 'vision': 1L, 'en': 1L, 'series': 1L, 'ofand': 1L, 'mediterranean': 1L, 'society': 1L, 'taught': 1L, 'college': 2L, 'lateralhis': 1L, 'columbia': 2L, 'special': 2L, 'ba': 1L, 'network': 1L, 'chicago': 2L, 'culture': 1L, 'legal': 1L, 'mason': 2L, 'critical': 3L, 'sirah': 1L, 'international': 1L, 'issue': 2L, 'edited': 2L, 'modernities2009': 1L, 'theory': 1L, 'associate': 1L, 'journal': 4L, 'muslim': 1L, 'awards': 1L, 'andrews': 1L, 'received': 1L, 'boards': 1L, 'language': 1L, 'landscapes': 1L, 'industry': 1L, 'membership': 1L, 'times': 1L, 'jaafar': 1L, 'american': 2L, 'colloquium': 1L, 'published': 1L, 'studies': 14L, 'scholarshe': 1L, 'appeared': 1L, 'middle': 2L, 'george': 2L, 'forms': 1L, 'law': 1L, 'migratie': 1L, 'editor': 1L, 'cultures': 1L, 'antar': 1L, 'north': 1L, 'eastern': 2L, 'award': 2L, 'includecultural': 1L, 'delta': 1L, 'ma': 1L, 'marquis': 1L, 'born': 1L, 'consultant': 1L, 'work': 1L, 'reviews': 1L, 'morocco': 3L, 'books': 1L, 'publications': 1L, 'editorial': 1L, '2014arab': 1L, 'aksikas': 2L, 'history': 1L, 'chouaib': 1L, '2002his': 1L, 'interventions': 1L, 'engaged': 1L, 'al': 1L, 'general': 1L, 'states': 1L, 'coordinator': 1L, 'critic': 1L, 'comparative': 1L, 'politics': 2L, 'united': 1L, 'humanities': 1L, 'media': 2L, 'holds': 2L, 'inaugural': 1L, 'scholarly': 1L, 'illinois': 1L, 'member': 1L, 'numerous': 1L, 'widely': 1L, 'akhawayn': 1L, 'phi': 1L, 'literature': 1L, 'lawyers': 1L, 'african': 1L, 'phd': 1L, 'islamic': 2L, 'beta': 1L, 'president': 1L, 'america': 1L, 'journals': 2L, 'sean': 1L, 'purchase': 1L, 'communitybased': 1L, 'johnson': 1L, 'professor': 1L, '1974': 1L, 'includeculture': 1L, 'honor': 1L, '2003': 1L, 'volumes': 1L, 'english': 1L, 'mediaculture': 1L, 'scholarship': 1L}, {'zen': 1L, 'steve': 1L, 'maine': 1L, 'outer': 1L, 'zone': 1L, 'waterville': 1L, 'writer': 1L, 'emphasis': 1L, 'specializing': 1L, 'theme': 1L, 'colby': 1L, 'speaker': 2L, 'circle': 2L, 'local': 1L, '2010': 1L, '2012': 1L, 'compassion': 1L, 'veganpalooza': 1L, 'vegan': 3L, 'amazon': 1L, '1953': 1L, 'world': 2L, 'societies': 1L, 'carman': 1L, 'masters': 1L, 'progressive': 1L, 'university': 2L, 'debut': 1L, 'science': 1L, 'cofounder': 1L, 'spiritual': 1L, 'classical': 1L, 'born': 1L, 'literature': 1L, 'college': 1L, 'centers': 1L, 'state': 1L, 'international': 2L, 'diethe': 1L, 'korea': 1L, 'august': 1L, 'degree': 2L, '1995': 1L, 'california': 1L, 'berkeley': 1L, 'veganism': 1L, 'spoke': 1L, 'obtained': 1L, 'vegetarian': 2L, 'studied': 1L, 'monk': 1L, 'bestseller': 1L, 'american': 1L, 'context': 1L, 'frequent': 1L, 'church': 1L, 'conference': 2L, 'guest': 1L, '1980': 1L, 'festival': 1L, 'music': 2L, 'north': 1L, 'musician': 1L, 'tuttle': 3L, '1990': 1L, 'made': 1L, 'animals': 1L, 'rights': 2L, 'administrative': 1L, 'judy': 1L, 'bachelors': 1L, 'san': 2L, 'conferences': 1L, 'organized': 2L, 'performed': 1L, 'prayer': 1L, 'education': 1L, 'diego': 1L, 'humanities': 1L, 'peace': 3L, '1': 1L, 'unity': 1L, '1115': 1L, 'harmony': 1L, 'animal': 2L, 'online': 2L, 'events': 1L, 'worldwide': 1L, 'francisco': 1L, 'philosophy': 1L, 'june': 1L, 'diet': 1L, 'phd': 1L, 'prussack': 1L, 'lectured': 1L, 'america': 1L, 'calls': 1L, '1975': 1L, 'author': 1L, 'thought': 1L, 'inspirational': 1L, 'audio': 1L, '8th': 1L}, {'letterman': 1L, 'text': 1L, 'actress': 1L, 'schools': 1L, 'including': 1L, 'chair': 1L, 'concerned': 1L, 'late': 1L, 'theme': 1L, 'explicitly': 1L, 'edmund': 1L, '2014': 2L, 'lacey': 1L, 'songwriting': 1L, 'mainstream': 1L, 'stokers': 1L, 'king': 1L, 'vanessa': 1L, 'jazz': 1L, 'predator': 1L, '1955': 1L, 'depaul': 1L, 'press': 1L, 'world': 1L, 'dr': 1L, 'school': 1L, 'success': 2L, 'artist': 2L, 'january': 1L, 'university': 5L, 'goofy': 1L, 'dallas': 1L, 'die': 1L, 'glendale': 1L, 'virginia': 1L, 'gaining': 1L, 'art': 1L, 'achieved': 1L, 'prizzis': 1L, 'hard': 1L, 'born': 1L, 'taught': 1L, 'college': 2L, 'musician': 1L, 'universities': 1L, 'chicago': 1L, 'movie': 1L, 'state': 4L, 'won': 1L, 'net': 1L, 'shows': 1L, 'foley': 5L, 'dracula': 1L, 'night': 2L, 'california': 1L, 'exhusband': 1L, 'television': 2L, 'guest': 1L, 'stone': 1L, 'working': 2L, 'ministry': 1L, 'career': 1L, 'industry': 1L, 'cagney': 1L, 'experience': 1L, 'foreign': 1L, 'american': 1L, 'grail': 1L, 'published': 1L, 'studies': 1L, 'honor': 1L, 'bram': 1L, 'knots': 1L, 'major': 1L, 'image': 1L, 'primary': 1L, 'cd': 1L, 'featured': 1L, 'dancer': 1L, '1990s': 1L, 'telecommunications': 1L, 'awardwinning': 1L, 'personalities': 1L, 'platoon': 1L, '1989': 1L, 'returns': 1L, 'program': 1L, 'editor': 1L, 'correspondents': 1L, 'films': 1L, 'started': 1L, 'batman': 1L, 'starr': 1L, 'landing': 1L, 'released': 1L, '8': 1L, 'sound': 2L, '1990': 1L, '1993': 1L, 'georgia': 2L, '1999': 1L, 'work': 1L, 'appearance': 1L, 'ament': 4L, 'voice': 1L, 'invited': 1L, 'history': 1L, 'endowed': 1L, 'updated': 1L, '1980s': 1L, 'elsevier': 1L, 'david': 2L, 'film': 2L, 'author': 1L, 'edwin': 1L, 'song': 1L, 'book': 1L, 'academy': 1L, 'entitled': 1L, 'development': 1L, 'ball': 3L, 'columbia': 1L, 'beauty': 1L, 'phd': 1L, 'beast': 1L, 'moving': 1L, 'lent': 1L, 'cuesta': 1L, 'focal': 1L, 'singer': 1L, '1978': 1L, 'professor': 1L, 'noises': 1L, 'academic': 2L, 'mdiv': 1L, '2001': 1L, '2004': 1L, '2009': 1L, 'postproduction': 1L}, {'cincinnati': 1L, 'kickoff': 1L, 'years': 2L, 'logan': 1L, 'enjoyed': 1L, '25': 1L, '1830': 1L, 'winning': 1L, 'xxix': 1L, 'td': 1L, 'kick': 1L, 'wearing': 1L, 'return': 2L, 'records': 1L, '123': 1L, 'longest': 2L, 'hall': 1L, 'sophomore': 2L, 'miami': 1L, 'university': 1L, 'nfl': 1L, 'team': 1L, 'round': 1L, 'added': 1L, 'weighs': 1L, 'xxiii': 1L, 'back': 1L, 'born': 1L, '89': 1L, 'college': 1L, '85': 1L, 'plays': 1L, 'stands': 1L, 'selected': 1L, '3': 1L, '1391': 1L, 'attended': 1L, '1135': 1L, 'redskins': 1L, 'yards': 8L, 'tds': 2L, 'super': 2L, 'mvp': 1L, 'league': 1L, 'career': 1L, 'ncaa': 2L, '49ers': 2L, 'marc': 7L, 'touchdowns': 1L, 'washington': 1L, 'number': 1L, '60': 1L, '63': 1L, 'carry': 1L, '1987': 2L, '1985': 1L, 'rushed': 1L, 'leading': 1L, 'eleven': 1L, 'returns': 1L, 'draft': 1L, 'national': 1L, 'today': 1L, 'successful': 1L, 'bengals': 3L, 'anthony': 1L, 'part': 1L, '228': 1L, '92': 1L, 'junior': 1L, '15': 1L, '1997': 1L, 'scrimmage': 1L, 'kentucky': 2L, 'record': 1L, 'lbs': 1L, 'san': 2L, 'played': 2L, 'averaging': 3L, 'fame': 1L, '1965': 1L, '44': 1L, 'bowl': 4L, 'carries': 1L, '1': 1L, 'setting': 1L, '325': 1L, '9': 1L, 'performance': 1L, 'scored': 1L, 'play': 2L, 'francisco': 2L, 'receptions': 2L, '206': 1L, 'football': 2L, 'running': 1L, 'seasons': 1L, 'nflmarc': 1L, 'dolphins': 1L, 'd1a': 1L, 'reception': 1L, 'american': 1L, 'senior': 1L, 'playing': 1L}, {'serving': 1L, 'rhinos': 1L, 'aleague': 1L, 'coach': 1L, 'scoring': 1L, 'jose': 1L, '26': 1L, 'minnesota': 1L, 'mens': 2L, 'rico': 1L, 'puerto': 1L, 'suffered': 1L, 'soccer': 3L, 'earthquakes': 2L, 'preseason': 2L, 'assistant': 1L, 'michigan': 2L, 'school': 2L, 'game': 1L, 'foot': 1L, 'february': 3L, 'lost': 1L, 'university': 2L, 'stanford': 1L, 'joined': 1L, 'teams': 1L, 'donovan': 1L, 'planning': 1L, 'team': 4L, 'round': 1L, 'born': 1L, 'islanders': 1L, 'silverbacks': 1L, 'thunder': 1L, 'roster': 1L, 'forwardwoolfolk': 1L, 'pioneer': 1L, 'state': 1L, 'drafted': 1L, 'attended': 2L, 'degree': 1L, 'woolfolk': 4L, 'june': 1L, 'free': 1L, 'nscaa': 1L, 'bachelor': 1L, 'graduated': 1L, 'league': 1L, 'superdraft': 1L, '30': 1L, 'american': 2L, 'games': 2L, '1983': 1L, 'leading': 1L, '5th': 1L, 'usl': 1L, '6': 1L, 'urban': 1L, 'pittsburgh': 1L, 'season': 1L, 'released': 1L, 'part': 1L, 'goals': 2L, 'broke': 1L, 'atlanta': 1L, '1997': 1L, '1996': 1L, '18': 1L, 'signed': 2L, 'mls': 1L, 'san': 1L, 'played': 5L, 'december': 1L, 'ann': 1L, 'premier': 1L, 'moved': 1L, 'high': 2L, 'gemini': 1L, 'arbor': 1L, 'rochester': 1L, 'landon': 1L, '1': 1L, 'corey': 1L, 'vancouver': 2L, 'fracture': 1L, 'whitecaps': 1L, '49th': 1L, 'development': 1L, 'riverhounds': 1L, 'time': 1L, 'spot': 1L, 'scorer': 1L, 'stress': 1L, 'dayton': 1L, 'waived': 1L, '2002': 1L, '2003': 1L, '2000': 1L, '2001': 4L, '2006': 2L, '2007': 1L, '2004': 1L, '2005': 1L, 'playing': 1L}, {'colleges': 1L, 'show': 1L, 'years': 1L, 'radio': 1L, 'committee': 1L, 'battle': 1L, 'follow': 1L, 'doctoral': 1L, 'candidate': 1L, 'tv': 1L, 'segments': 1L, 'east': 1L, 'regularly': 1L, 'lowell': 1L, 'zulu': 1L, 'nation': 1L, 'early': 1L, 'lasell': 1L, 'schools': 1L, 'world': 1L, 'areas': 1L, 'worlds': 1L, 'artist': 1L, 'university': 1L, 'rapper': 1L, 'morning': 1L, 'courses': 2L, 'math': 2L, 'including': 1L, 'umasslowell': 1L, 'em': 2L, 'england': 1L, 'albook': 1L, 'college': 3L, 'year': 1L, 'bay': 1L, 'album': 4L, 'unavailable': 1L, 'entertainment': 2L, 'state': 1L, 'won': 1L, 'performs': 1L, 'filled': 1L, 'shows': 1L, 'arts': 1L, 'awards': 1L, 'bs': 1L, 'put': 2L, 'news': 1L, 'teaches': 1L, 'lyrical': 3L, 'received': 1L, 'created': 1L, 'institute': 1L, 'industry': 1L, 'akrobatik': 2L, 'fulltime': 1L, 'competed': 1L, 'invitation': 1L, 'jamn': 1L, 'appeared': 1L, 'win': 1L, 'northeastern': 2L, 'venues': 1L, 'highly': 1L, 'primarily': 2L, '82013': 1L, '1990s': 1L, 'bostonhe': 1L, 'rated': 1L, 'sports': 1L, 'mathematics': 1L, 'freestyle': 1L, 'curriculum': 1L, 'part': 2L, 'television': 1L, 'movies': 1L, 'ms': 1L, 'hip': 3L, 'boston': 1L, 'universal': 1L, 'fellow': 1L, 'supremacy': 1L, 'shame': 2L, 'rap': 1L, 'perform': 1L, 'mic': 1L, 'mid': 1L, 'battles': 1L, 'adjunct': 1L, 'book': 2L, 'hop': 3L, 'nyc': 1L, 'speaks': 1L, 'entitled': 1L, 'lecturer': 1L, 'universities': 1L, '617live': 1L, 'infiniti': 1L, 'massachusetts': 2L, 'coast': 1L, 'finals': 1L, 'parttime': 1L, 'programs': 1L, 'professor': 2L, '945': 1L, 'daily': 1L, 'mass': 1L, '2005': 1L, 'occasion': 1L, 'latest': 1L}, {'sector': 1L, 'limited': 1L, '2006apart': 1L, 'chinese': 3L, 'xuan': 2L, 'actress': 1L, 'month': 1L, 'july': 2L, 'happiness': 1L, 'group': 1L, 'producer': 1L, 'winning': 1L, 'production': 1L, 'rich': 2L, 'skies': 1L, 'evening': 1L, 'ye': 6L, 'school': 1L, 'famous': 2L, 'pageant': 1L, 'cctvshe': 1L, 'accepted': 1L, 'association': 1L, 'mcin': 1L, 'february': 1L, 'roles': 1L, 'lost': 1L, 'hengdian': 1L, 'dramas': 1L, 'pursue': 2L, '1998': 1L, 'starred': 1L, 'triumph': 1L, 'olympic': 1L, 'titled': 1L, 'fair': 1L, 'series': 1L, 'competition': 1L, 'born': 1L, 'productions': 1L, 'college': 1L, 'special': 1L, 'tvb': 4L, 'graduating': 1L, 'tvbs': 1L, 'chamber': 1L, 'movie': 2L, 'acting': 1L, 'won': 2L, 'lue': 1L, 'icableye': 1L, 'mandarin': 1L, 'international': 3L, 'attended': 1L, 'ruo': 1L, 'reporter': 1L, 'loveye': 1L, 'eternal': 1L, 'host': 1L, 'china': 1L, 'immigrated': 1L, 'shui': 1L, 'onsite': 1L, 'talent': 1L, 'restaurant': 1L, 'career': 2L, 'industry': 1L, 'contract': 2L, 'atv': 1L, 'place': 1L, 'published': 1L, 'botany': 1L, 'student': 1L, 'number': 1L, 'owner': 2L, 'miss': 2L, 'management': 1L, '1980': 1L, 'leading': 1L, 'athens': 1L, 'careerye': 1L, 'exposure': 1L, 'offered': 1L, 'shang': 1L, 'broadcast': 1L, 'worked': 1L, '10': 1L, 'television': 1L, 'john': 1L, '14': 1L, 'mc': 1L, '1999': 3L, 'science': 1L, 'signed': 2L, 'midautumn': 1L, 'gong': 1L, 'bohai': 1L, 'sushi': 1L, 'moved': 1L, 'states': 1L, 'engineering': 1L, 'cantonese': 1L, 'film': 1L, 'autobiography': 1L, 'united': 1L, 'high': 1L, 'chairman': 1L, 'games': 1L, 'wellesley': 1L, 'shan': 1L, 'company': 1L, 'industryin': 1L, 'english': 1L, 'june': 1L, 'additionally': 1L, 'president': 1L, 'dewey': 1L, 'michelle': 2L, 'vice': 1L, 'age': 1L, 'entertainment': 1L, 'studioszhejiang': 1L, 'fluent': 1L, '2004': 1L, '2005': 2L, 'scholarship': 1L, 'left': 3L}, {'issued': 1L, 'woody': 1L, 'young': 1L, 'circumstances': 2L, 'brown': 1L, 'childpornography': 1L, 'minded': 1L, 'advised': 1L, 'school': 1L, 'compassionate': 1L, 'michael': 2L, 'yale': 3L, 'prevent': 1L, 'rate': 1L, 'lawyer': 1L, 'section': 1L, 'version': 1L, 'himchatigny': 1L, 'appeal': 3L, 'full': 1L, 'clerk': 1L, 'cocounsel': 1L, 'understanding': 1L, 'minor': 1L, 'strong': 2L, 'prosecutors': 2L, 'study': 1L, 'conti': 1L, 'action': 1L, 'opinion': 1L, 'dutyrequired': 1L, 'makes': 1L, 'punishment': 1L, 'appropriately': 1L, 'taunton': 1L, 'sadism': 1L, 'standing': 1L, 'proceed': 1L, 'chatigny': 16L, 'examination': 1L, 'defendant': 1L, 'abusing': 1L, 'award': 1L, 'connecticut': 7L, 'cases': 1L, 'behalf': 1L, 'women': 1L, 'ma': 1L, '1994': 5L, 'rights': 2L, '1998': 1L, 'ohara': 1L, 'advocacy': 1L, 'stated': 1L, 'december': 1L, 'states': 5L, 'unbiased': 1L, 'minimum': 1L, 'council': 2L, 'allens': 1L, 'united': 3L, 'court': 12L, 'dismissed': 3L, 'sic': 1L, 'fourth': 1L, 'de': 3L, 'plans': 1L, 'impartial': 1L, '2008he': 1L, 'sentencing': 2L, 'president': 2L, 'appealed': 1L, 'law': 6L, 'nomination': 5L, 'eighth': 1L, 'light': 1L, 'departure': 2L, 'chief': 1L, 'agenda': 1L, 'subsequently': 1L, 'order': 1L, 'executed': 1L, 'september': 3L, 'years': 2L, 'attitude': 1L, 'committee': 7L, '20052006': 1L, 'cold': 1L, 'warren': 1L, '1': 1L, '26': 2L, '28': 1L, '29': 1L, 'criminal': 2L, '2010': 4L, 'motivated': 1L, 'practice': 1L, 'newman': 1L, 'qualified': 2L, 'half': 1L, 'inception': 1L, 'republican': 1L, 'association': 1L, 'attorneys': 1L, 'james': 1L, 'university': 3L, 'reasonable': 2L, 'fitness': 2L, 'found': 3L, 'upward': 1L, 'neil': 1L, 'mental': 1L, 'house': 1L, 'crimes': 1L, 'challenges': 1L, 'suzanne': 1L, 'sexual': 2L, '20059': 1L, 'dismissal': 1L, 'waive': 2L, 'investigation': 1L, 'shows': 1L, 'perception': 1L, 'dealt': 1L, 'threatened': 1L, 'delegates': 1L, 'california': 1L, 'thrust': 1L, 'longrange': 1L, 'language': 1L, 'times': 1L, 'american': 1L, '19801981judge': 1L, 'place': 1L, 'circuit': 5L, 'ruination': 1L, 'appeals': 3L, 'velde': 2L, 'date': 1L, 'stonewalledof': 1L, 'vote': 1L, 'city': 1L, 'district': 8L, 'girls': 1L, '2': 1L, 'georgetown': 2L, '2006judge': 1L, 'appointees': 1L, 'centered': 1L, 'reversed': 2L, 'serve': 1L, 'vacated': 1L, 'jovin': 1L, 'july': 1L, 'haven': 1L, 'obama': 1L, '10': 1L, '12': 1L, '15': 1L, '16': 1L, '1978': 1L, 'veldes': 1L, 'outstanding': 1L, 'chatignys': 6L, 'sentences': 2L, 'allen': 1L, 'megans': 1L, 'note': 1L, 'recommended': 1L, 'appellate': 1L, 'bruce': 1L, 'involving': 1L, 'letter': 2L, 'prisoner': 1L, 'approved': 1L, 'professor': 1L, 'rating': 1L, 'violation': 1L, 'nominated': 2L, 'considerationopposition': 1L, 'judges': 3L, 'northern': 1L, 'justice': 1L, '3': 1L, 'penalty': 1L, 'failed': 1L, 'sued': 1L, 'assistant': 1L, 'samuel': 1L, 'prohibition': 1L, 'killers': 1L, 'bar': 2L, 'wrote': 3L, 'view': 1L, 'seventeen': 1L, 'set': 1L, 'aspect': 1L, 'fair': 2L, 'national': 1L, 'committed': 1L, 'seat': 2L, 'elected': 1L, 'close': 1L, 'probable': 1L, 'federal': 9L, 'favor': 1L, 'state': 2L, 'enumerated': 1L, 'august': 1L, 'attention': 1L, 'competent': 2L, 'cabranes': 1L, 'jon': 1L, 'received': 3L, 'license': 1L, 'career': 1L, 'april': 1L, 'grounds': 1L, 'duty': 1L, 'partyline': 1L, '2nd': 1L, 'jd': 1L, 'unusual': 2L, 'commission': 2L, 'temperatein': 1L, 'temperament': 1L, 'worked': 1L, 'present': 1L, 'case': 7L, 'publicly': 1L, 'developing': 1L, 'judicial': 5L, 'bill': 1L, 'editorial': 1L, 'elaborate': 1L, 'sentencings': 1L, 'bias': 1L, '440some': 1L, 'claimed': 1L, 'march': 2L, 'confirmed': 1L, 'sensitive': 1L, 'potentially': 1L, 'lenient': 1L, 'restraint': 1L, 'director': 1L, 'average': 1L, 'misconductin': 1L, 'student': 1L, 'complained': 1L, 'center': 2L, 'eighttime': 1L, 'charges': 1L, 'forceful': 1L, '1973': 1L, 'analysis': 1L, 'person': 1L, 'solve': 1L, 'claims': 3L, 'stating': 1L, 'left': 1L, 'opinions': 1L, 'sentence': 2L, '24page': 1L, 'executive': 1L, 'actions': 2L, 'victimsupport': 1L, 'judge': 24L, 'questions': 1L, 'facts': 1L, 'jose': 1L, 'death': 4L, 'candidate': 1L, 'bench': 2L, 'barack': 1L, '4': 1L, 'ross': 6L, 'associations': 1L, 'complaint': 2L, 'victims': 1L, 'government': 1L, 'judiciary': 6L, 'matters': 1L, 'supervisory': 1L, 'execution': 1L, 'imposed': 1L, 'steps': 1L, 'offenders': 1L, 'served': 5L, 'downward': 1L, 'disorder': 1L, 'amendment': 1L, 'shed': 1L, 'senate': 4L, 'tempered': 1L, 'born': 1L, '117': 1L, 'provided': 1L, 'proceeding': 1L, 'decision': 1L, '12page': 1L, 'unsuccessfully': 1L, 'murderer': 2L, 'prosecution': 1L, 'journal': 1L, 'pressure': 1L, 'departures': 1L, 'relating': 1L, 'gained': 1L, 'ensure': 1L, 'efforts': 1L, 'allowing': 2L, 'clinton': 1L, 'childrens': 2L, 'rosss': 1L, 'civil': 1L, 'washington': 1L, 'attorney': 2L, 'determine': 1L, 'discharge': 2L, 'defendants': 1L, 'van': 3L, '1980': 1L, 'support': 1L, 'long': 1L, 'awarded': 1L, 'editor': 1L, 'call': 1L, 'delayed': 1L, 'tasked': 1L, 'courts': 1L, 'filed': 3L, 'line': 1L, 'made': 1L, 'record': 2L, 'cruel': 1L, 'unanimous': 1L, 'prosecutor': 1L, 'called': 1L, 'supreme': 1L, 'ab': 1L, 'leaked': 1L, '1952': 1L, 'proven': 1L, '19791980': 1L, 'amendments': 1L, 'stepchild': 1L, '5': 2L, 'reportedly': 1L, 'june': 1L, 'includes': 1L, 'important': 1L, 'registry': 1L, 'authorities': 1L, 'reservation': 1L, 'eginton': 1L, 'fiscal': 1L, 'sexoffender': 1L, 'rule': 2L, '2003': 2L, '2001': 2L, '2006': 1L, '2004': 1L, '2005': 1L, '2009': 1L, 'resolution': 1L, 'robert': 1L}, {'chinese': 6L, 'contemporary': 1L, 'nominated': 1L, 'kong': 1L, 'produced': 1L, 'taiwan': 1L, 'fusing': 1L, 'find': 1L, 'issues': 1L, 'runin': 1L, 'limelight': 1L, '26': 1L, 'rapidly': 1L, 'lyrics': 3L, 'jay': 4L, 'writing': 2L, 'samples': 1L, 'songwriting': 1L, 'rhyme': 1L, 'fusion': 1L, 'grew': 1L, 'covering': 1L, 'january': 1L, 'companies': 1L, 'entrepreneurvincent': 1L, 'popular': 1L, '2000s': 1L, 'vincent': 1L, 'noted': 1L, 'titled': 1L, 'taiwanese': 1L, 'born': 1L, 'melody': 2L, 'album': 1L, 'fang': 6L, 'esp': 1L, 'asia': 1L, 'sung': 1L, '19th': 1L, 'won': 1L, 'passion': 1L, 'decade': 1L, 'rb': 1L, 'contributes': 1L, 'refer': 1L, 'porcelain': 1L, 'rock': 1L, 'style': 3L, 'wu': 1L, 'awards': 1L, 'genre': 1L, 'lyrical': 1L, 'career': 2L, 'discussed': 1L, 'fng': 1L, 'chou': 5L, 'frequent': 1L, 'golden': 1L, 'love': 1L, 'family': 1L, 'lyricist': 2L, 'entrepreneur': 1L, 'references': 1L, 'owner': 1L, 'impressed': 1L, 'yan': 1L, 'music': 2L, 'white': 1L, 'war': 1L, 'form': 1L, 'started': 1L, 'pinyin': 1L, 'company': 1L, 'award': 1L, 'jacky': 1L, 'released': 1L, 'folklore': 1L, 'albums': 1L, 'wide': 1L, 'made': 1L, 'chous': 1L, '1997': 1L, 'work': 2L, 'wnshn': 1L, 'record': 2L, 'making': 1L, 'similar': 1L, 'history': 1L, 'hoping': 1L, 'modern': 2L, 'pulling': 1L, 'fame': 1L, 'hong': 1L, '1969': 1L, 'poetry': 4L, 'majority': 1L, 'blue': 1L, 'literature': 1L, 'singersongwriter': 1L, 'complemented': 1L, 'collaboration': 1L, 'hired': 1L, 'wellfangs': 1L, 'ballads': 1L, 'calls': 1L, 'multigolden': 1L, 'su': 1L, 'musical': 1L, 'traditional': 2L, '2000': 1L, 'hualien': 1L}, {'exclusive': 1L, 'holds': 1L, 'labourhe': 1L, 'money': 1L, 'years': 1L, 'held': 1L, 'lemalu': 1L, 'human': 1L, 'paul': 1L, '21': 1L, '22': 1L, 'auckland': 3L, 'marrying': 1L, 'young': 2L, 'winning': 1L, 'german': 2L, 'inherited': 1L, 'hermann': 2L, 'telefoni': 5L, '2011': 4L, 'boarding': 1L, 'march': 1L, 'government': 1L, 'alesana': 1L, 'practice': 1L, 'february': 1L, 'introduce': 1L, 'early': 1L, 'misa': 3L, '1952': 1L, 'electionretzlaff': 1L, 'postal': 1L, 'tribute': 2L, 'prime': 2L, 'articles': 1L, 'school': 1L, 'falelatai': 1L, 'servant': 1L, 'university': 1L, '1996': 1L, 'joined': 1L, 'public': 1L, 'samoa': 3L, 'observer': 1L, 'seat': 2L, 'born': 1L, 'books': 1L, 'college': 1L, 'election': 2L, 'grandfather': 2L, 'agriculture': 1L, 'paternal': 1L, 'health': 1L, 'falling': 1L, 'leader': 1L, 'run': 1L, 'initially': 1L, 'richest': 1L, 'bachelor': 1L, 'ancestry': 1L, 'twentieth': 1L, 'opposition': 1L, 'kitchen': 1L, 'speeches': 1L, 'country': 1L, 'industry': 1L, 'studied': 1L, 'shipping': 1L, 'thine': 1L, 'published': 2L, 'retain': 1L, 'eti': 1L, 'partyretzlaff': 1L, 'love': 3L, 'deputy': 3L, 'colony': 1L, 'community': 1L, 'son': 1L, 'kings': 1L, 'germanswedishsamoan': 1L, 'standing': 1L, 'story': 1L, '1986in': 1L, 'addition': 1L, 'century': 1L, '1988': 1L, 'educated': 1L, 'fisheries': 1L, 'part': 1L, 'minister': 4L, 'true': 1L, 'appointed': 1L, 'poemsin': 1L, '1991': 1L, 'commerce': 1L, 'samatau': 1L, 'rights': 1L, 'tofilau': 1L, 'stated': 1L, 'httpwwwsamoaobserverwsindexphpoptioncomcontentviewarticleid31878tributetocatid1latestnewsitemid50': 1L, 'telephone': 1L, 'general': 1L, 'politics': 1L, 'confirmed': 1L, 'resigned': 1L, 'descent': 1L, 'retiring': 1L, 'samoan': 3L, 'forests': 1L, 'role': 1L, 'portfolios': 1L, '9': 1L, 'protection': 1L, 'retzlaff': 3L, 'attorneygeneral': 2L, 'collection': 1L, 'arrived': 1L, 'services': 1L, 'law': 2L, 'zealand': 2L, 'short': 1L, 'theodor': 1L, '2001': 1L, 'position': 1L}, {'developed': 1L, 'paper': 1L, 'radio': 1L, 'aviation': 1L, 'economist': 2L, 'staff': 1L, 'solitary': 1L, 'anglofrench': 1L, 'smith': 1L, 'late': 2L, '4': 1L, 'main': 1L, 'dispute': 1L, 'views': 1L, 'trenchant': 1L, 'television': 1L, 'documentaries': 2L, 'oxford': 1L, 'lady': 1L, 'hall': 1L, 'university': 1L, 'journalism': 1L, 'journalist': 1L, 'meantime': 1L, 'analytical': 1L, '1940s': 1L, 'noted': 1L, 'wrote': 1L, 'programme': 2L, 'spring': 1L, '1960s': 1L, 'critique': 1L, 'expressgoldring': 1L, 'wellfounded': 1L, 'burnet': 1L, 'surprise': 1L, 'weekly': 1L, 'goldring': 4L, 'predicted': 1L, 'edited': 1L, 'noise': 1L, 'business': 2L, '4s': 1L, 'commercial': 1L, 'mcrae': 1L, 'aircraft': 1L, 'disastrous': 1L, 'graduated': 1L, 'column': 1L, 'obe': 1L, 'british': 1L, 'editorship': 1L, 'pollution': 1L, 'economists': 1L, 'deputy': 1L, 'suddenly': 1L, 'rank': 1L, 'presenters': 1L, 'rising': 1L, '1987': 1L, '1998in': 1L, 'andreas': 1L, 'basis': 1L, 'bbc': 2L, 'long': 1L, 'screened': 1L, 'currentaffairs': 1L, 'editor': 3L, 'series': 2L, 'broadcasteran': 1L, 'mary': 2L, 'authored': 1L, 'alastair': 1L, 'turned': 2L, 'wake': 1L, 'sustained': 1L, '1993': 1L, 'made': 1L, 'whittam': 1L, 'flagship': 1L, 'voice': 1L, 'economics': 1L, 'investors': 1L, 'dissent': 1L, 'alongside': 1L, 'moved': 1L, 'concorde': 1L, 'analysis': 1L, 'member': 1L, 'channel': 1L, 'development': 1L, 'staying': 1L, 'norman': 1L, 'margaret': 1L, 'regular': 1L, 'audit': 1L, 'supersonic': 1L, 'correspondent': 1L, 'chronicle': 1L, '1976': 1L, '1974': 1L, 'departure': 1L, 'daily': 1L, 'time': 3L, 'left': 2L}, {'thomas': 1L, 'september': 1L, 'executive': 1L, 'years': 1L, 'alphin': 1L, 'southwestern': 1L, '1942': 1L, 'including': 1L, 'dartmouth': 1L, '2013': 1L, 'carolina': 1L, 'woman': 1L, 'legislators': 1L, 'returning': 1L, 'ceo': 1L, 'reviewshe': 1L, 'masters': 1L, 'historic': 1L, 'community': 1L, 'schools': 1L, 'association': 2L, 'school': 3L, 'scholar': 1L, 'university': 2L, 'stanford': 3L, 'small': 1L, 'served': 1L, 'dean': 4L, 'senate': 1L, 'house': 1L, 'born': 1L, 'college': 2L, 'sloughhouse': 1L, 'senator': 1L, 'giving': 1L, 'representatives': 1L, 'legal': 1L, 'state': 1L, 'porter': 1L, 'assembly': 1L, 'degree': 3L, 'sixth': 1L, 'california': 4L, 'term': 1L, '1982': 1L, 'november': 1L, 'received': 3L, 'schoolsprager': 1L, 'american': 3L, 'focused': 1L, 'editorinchief': 1L, 'family': 1L, 'number': 1L, 'preservation': 1L, 'durham': 1L, 'female': 1L, 'undergraduate': 1L, 'kuchel': 1L, 'ucla': 7L, 'westerberg': 1L, 'north': 1L, 'serve': 1L, 'worked': 1L, 'town': 1L, 'grew': 1L, '14': 1L, '1996': 1L, 'prager': 2L, 'property': 1L, 'history': 3L, 'alumnusalumna': 1L, 'states': 1L, 'provost': 1L, 'trustee': 1L, 'united': 1L, '1964': 1L, 'schoolpreviously': 1L, '1': 1L, 'administrator': 1L, 'sacramento': 2L, 'director': 1L, 'faculty': 1L, 'president': 2L, 'law': 15L, 'practiced': 1L, 'susan': 1L, 'occidental': 1L, 'deans': 1L, 'tenure': 1L, '2008': 1L, 'powe': 1L, 'starting': 1L, 'longest': 1L}, {'mayom': 1L, 'garang': 1L, 'kong': 1L, 'ended': 1L, 'janaigatliek': 1L, 'including': 1L, 'joining': 1L, 'soldiers': 1L, 'group': 1L, 'yoal': 3L, 'liberation': 1L, 'splmanasir': 1L, '8': 1L, 'east': 1L, 'gave': 1L, 'division': 1L, 'made': 1L, 'yohannes': 3L, 'accepted': 1L, 'killed': 1L, 'bank': 1L, 'militiathe': 1L, 'january': 2L, 'sobat': 1L, 'river': 1L, 'upper': 1L, 'declared': 1L, 'matip': 1L, 'people': 1L, 'paulino': 2L, 'retaliation': 1L, 'defense': 1L, 'soldiersthe': 1L, 'riek': 1L, 'sudan': 3L, 'section': 1L, 'george': 1L, 'state': 1L, 'hill': 1L, 'waat': 1L, 'leader': 1L, 'announced': 1L, 'breakaway': 1L, 'august': 1L, 'matiep': 1L, 'men': 1L, '1993the': 1L, 'revenge': 1L, 'akol': 1L, 'difficulty': 1L, 'civilians': 1L, 'based': 1L, 'spla': 2L, 'machar': 1L, 'involved': 1L, '30': 1L, 'splm': 1L, 'nile': 1L, 'called': 2L, 'april': 1L, 'militia': 2L, 'gordon': 1L, 'south': 2L, 'major': 1L, 'alliance': 1L, 'deputy': 1L, 'civil': 2L, 'bath': 3L, 'primarily': 1L, 'jonglei': 1L, 'army': 2L, 'alleged': 1L, 'johannes': 2L, 'attack': 3L, '2': 2L, 'combined': 1L, 'raids': 1L, 'lou': 3L, 'john': 1L, 'war': 2L, 'doleib': 1L, 'ejected': 1L, 'anyanya': 2L, 'athor': 1L, 'part': 1L, 'bul': 1L, 'declaration': 1L, 'commander': 2L, 'considerable': 1L, '1991': 2L, 'divisions': 1L, '12': 1L, '1995': 1L, '1994': 1L, 'jikany': 1L, '19832005in': 1L, 'launched': 1L, 'statea': 1L, 'duar': 1L, 'juba': 1L, 'cattle': 1L, 'general': 1L, 'sudanese': 1L, 'united': 1L, 'rieklater': 1L, 'dengjohannes': 1L, 'forces': 5L, 'peoples': 1L, '2006': 2L, 'nuer': 5L, 'lam': 1L, 'ayod': 1L, 'faction': 2L, 'nasir': 2L, 'governmentsponsored': 1L, '4th': 1L, 'yual': 3L, 'nyayin': 1L, 'mobile': 1L, 'ssdf': 1L, 'ulang': 1L, 'command': 2L, '2005': 1L, 'democratic': 1L, '8th': 1L}, {'subtly': 1L, 'reviewers': 1L, 'moments': 1L, 'timesin': 1L, 'entries': 1L, 'focus': 1L, 'poetry': 1L, 'playful': 1L, 'ended': 1L, 'session': 1L, 'carefully': 1L, 'children': 1L, 'simon': 1L, '20': 1L, 'booksin': 1L, 'writer': 3L, 'father': 1L, 'international': 1L, 'literary': 1L, 'saga': 1L, 'praised': 1L, 'sorrentino': 5L, 'dickinson': 1L, 'bookworld': 1L, 'puerto': 1L, '2010': 1L, 'eugene': 1L, 'impac': 1L, 'proctor': 1L, 'format': 1L, 'fugitives': 1L, 'fairleigh': 1L, 'minna': 1L, 'lethem': 1L, 'christopher': 1L, 'hyperliterary': 1L, 'fall': 2L, 'press': 2L, 'mcsweeneys': 1L, 'innovations': 1L, 'secondary': 1L, 'school': 2L, 'scamssorrentinos': 1L, 'artist': 1L, 'university': 2L, 'longlisted': 1L, 'ivan': 1L, 'bookforum': 1L, 'soft': 1L, 'essential': 1L, 'wrote': 1L, 'mets': 2L, 'conklin': 1L, 'house': 1L, 'national': 1L, 'conjunctions': 1L, 'born': 1L, 'street': 1L, 'college': 1L, 'descriptions': 1L, 'year': 1L, 'novelist': 2L, 'techniques': 1L, 'poke': 1L, 'draws': 1L, 'visiting': 1L, 'riveting': 1L, 'section': 1L, 'publish': 1L, 'otherssorrentino': 1L, '20102011': 1L, 'epic': 1L, 'announced': 1L, 'season': 1L, 'tempura': 2L, 'attention': 1L, 'commercial': 1L, 'story': 1L, 'york': 3L, 'death': 1L, 'unterberg': 1L, 'moviemaking': 1L, 'victoria': 1L, 'dublin': 1L, 'times': 1L, 'angeles': 2L, 'monograph': 1L, 'magazine': 1L, 'incorporated': 1L, 'published': 3L, 'writers': 2L, 'experimental': 1L, 'patty': 1L, 'granta': 1L, 'named': 2L, 'appeared': 1L, 'period': 1L, 'son': 1L, '61': 1L, 'rican': 1L, 'open': 1L, 'city': 2L, 'arts': 2L, 'los': 2L, 'ortiz': 1L, 'structured': 1L, 'satire': 1L, 'fiction': 1L, 'percussion': 1L, 'editor': 1L, 'modernist': 1L, 'series': 1L, 'gilbert': 1L, 'jonathan': 1L, 'treatment': 1L, 'dialogue': 1L, 'playboy': 1L, 'detail': 1L, 'award': 2L, 'echoes': 1L, 'taught': 1L, 'authors': 1L, 'postmodernist': 1L, 'postmodern': 1L, 'sound': 4L, 'account': 1L, 'hearst': 1L, '1995': 1L, 'skull': 1L, 'characterizations': 1L, 'work': 2L, 'recording': 1L, 'titles': 1L, 'vocals': 1L, 'publications': 1L, 'pioneered': 1L, 'boshier': 1L, 'novella': 1L, 'imaginative': 1L, 'liberal': 1L, '2014': 1L, 'lives': 1L, 'pseudonymous': 1L, 'lush': 1L, 'believeniks': 1L, 'deep': 1L, 'reads': 1L, 'partner': 1L, 'forthhis': 1L, 'schustersorrentinos': 1L, 'film': 2L, 'descent': 1L, 'april': 1L, 'trance': 3L, 'finalist': 1L, 'inaugural': 1L, '1963': 1L, 'member': 1L, 'tin': 1L, 'book': 5L, 'derek': 1L, 'widely': 1L, 'esquire': 1L, '2006': 1L, '2007': 2L, 'departures': 1L, 'playback': 1L, 'columbia': 1L, 'intended': 1L, 'collaboration': 1L, 'felt': 1L, '92nd': 1L, 'harris': 1L, 'lists': 1L, 'faculty': 1L, 'revealed': 1L, 'lang': 1L, 'short': 1L, 'center': 1L, '1974': 1L, 'fictional': 1L, 'text': 1L, 'harpers': 1L, '2005': 4L, 'american': 3L, '2009': 1L, 'multitrack': 1L}, {'summer': 1L, 'emerging': 1L, 'words': 1L, 'produced': 1L, 'industrial': 1L, 'radio': 2L, 'world': 1L, 'collegehe': 1L, 'multichannel': 1L, '1': 1L, 'tapecollages': 1L, 'death': 1L, 'writer': 1L, '20012004': 1L, 'broadcasts': 1L, 'tape': 1L, 'east': 1L, 'match': 1L, 'material': 1L, 'early': 1L, 'listening': 1L, 'word': 1L, 'bullshit': 1L, 'bank': 1L, '1994': 1L, 'stereo': 1L, 'whitman': 1L, 'artist': 1L, 'transmission': 1L, 'curator': 1L, 'alexis': 1L, 'repaired': 1L, 'side': 1L, 'lobbies': 1L, 'art': 1L, 'generation': 1L, 'unpublished': 1L, 'authority': 1L, 'born': 1L, 'catalyze': 1L, 'college': 1L, 'mirror': 1L, 'discussions': 2L, 'organizing': 1L, 'goddard': 2L, 'chinas': 1L, 'sun': 1L, 'recorded': 1L, 'version': 2L, 'lecture': 4L, 'installations': 2L, 'possibility': 1L, 'notably': 1L, 'york': 2L, 'lounges': 1L, 'active': 1L, 'panel': 1L, '19992009': 1L, 'studied': 1L, 'concerts': 1L, 'threechannel': 1L, 'raised': 1L, 'lands': 1L, 'spoken': 1L, 'scene': 1L, 'utilized': 1L, 'collages': 1L, 'artists': 2L, '1990s': 1L, 'speak': 1L, 'city': 1L, 'arts': 1L, 'publication': 1L, 'working': 1L, '2': 1L, 'opens': 1L, 'life': 1L, 'airwaves': 1L, 'organized': 1L, 'interviewed': 1L, 'neutral': 1L, 'train': 1L, 'crosssection': 1L, 'producing': 1L, 'sound': 6L, 'practicing': 1L, 'abandoned': 1L, 'convocations': 1L, 'project': 2L, 'design': 1L, 'voice': 1L, 'sculpture': 1L, 'radioplays': 1L, 'atm': 1L, 'ages': 1L, 'deep': 1L, 'strength': 1L, 'democracy': 2L, 'began': 1L, 'poetry': 2L, 'member': 1L, 'book': 1L, 'paj': 1L, 'lectures': 1L, 'free103point9': 1L, 'ecological': 1L, 'moving': 1L, 'blood': 1L, 'included': 1L, 'manifested': 1L, 'ghost': 1L, 'lower': 1L, 'bandshell': 1L, 'performances': 1L, 'bhagat': 1L, '2003': 1L, 'senior': 1L, 'songs': 1L}, {'anglican': 2L, 'responsible': 1L, 'chapters': 1L, 'issues': 2L, 'occupation': 1L, 'forestry': 3L, 'doctoral': 1L, 'auckland': 1L, 'deputy': 1L, 'professorhe': 1L, 'book': 1L, 'degrees': 1L, 'voted': 1L, 'aucklands': 1L, 'employed': 1L, 'include': 1L, 'adviser': 1L, 'campaigned': 1L, 'contracts': 1L, 'capacities': 1L, 'indigenous': 1L, '1992': 1L, 'schoolhis': 1L, 'dar': 1L, 'oxford': 2L, 'rental': 2L, 'formal': 1L, 'articles': 1L, 'scholar': 1L, 'university': 6L, 'whanui': 1L, 'bay': 1L, 'balliol': 1L, 'wrote': 1L, 'whenua': 1L, 'england': 2L, 'manual': 1L, 'national': 1L, 'crown': 2L, 'related': 1L, 'college': 1L, '18641909': 1L, 'es': 1L, 'universities': 1L, 'colonial': 2L, 'contracted': 1L, 'legal': 4L, 'research': 2L, 'numerous': 1L, 'publishers': 1L, 'full': 1L, 'phopatanga': 1L, 'degree': 1L, 'associate': 1L, 'vernon': 1L, 'victoria': 1L, 'wanganui': 1L, '1999he': 1L, 'rhodes': 1L, 'region': 1L, 'puni': 1L, 'david': 1L, 'waitangirelated': 1L, 'qualification': 1L, 'published': 3L, 'churchs': 1L, 'acted': 2L, 'primary': 1L, 'huia': 1L, 'church': 1L, 'respect': 1L, 'trust': 2L, 'undergraduate': 1L, 'tertiary': 1L, 'moriowned': 1L, 'certificate': 1L, 'legislation': 1L, 'diptheolhe': 1L, 'tango': 1L, 'commission': 1L, 'arbitrator': 1L, 'mori': 1L, 'time': 1L, 'synodte': 1L, 'williams': 1L, 'zealand': 5L, 'educated': 1L, 'honorary': 1L, 'solicitor': 1L, 'appointed': 1L, '1991': 1L, 'te': 3L, '1995': 1L, '1994': 1L, 'consultant': 1L, 'kooti': 1L, 'ballb': 1L, 'waitangifrom': 1L, 'barrister': 2L, 'promoted': 1L, 'practising': 1L, 'tanzania': 2L, 'history': 3L, 'kkiri': 1L, 'general': 1L, 'high': 1L, 'analysis': 1L, 'treaty': 2L, 'native': 1L, 'education': 1L, 'court': 2L, 'variety': 1L, '1966': 1L, 'holds': 1L, 'graduate': 1L, 'member': 1L, 'dean': 1L, 'hinota': 1L, 'theology': 1L, 'party': 1L, 'act': 1L, 'qualifications': 1L, 'diploma': 1L, 'phd': 1L, 'faculty': 1L, 'included': 1L, 'salaam': 1L, 'law': 8L, 'hawkes': 1L, 'bcl': 1L, 'land': 3L, 'database': 1L, 'professor': 3L, 'author': 1L, 'aotearoa': 1L, 'wellington': 1L, '1971': 1L, 'collegiate': 1L, 'academic': 1L, '2000': 1L, '2001': 1L, 'volumes': 1L, '2005': 1L}, {'bottega': 1L, 'themes': 1L, 'london': 1L, 'fine': 1L, '1948': 1L, 'konex': 1L, 'earned': 1L, 'paris': 1L, 'father': 1L, 'citizen': 1L, 'teaching': 1L, 'argentina': 2L, 'include': 1L, 'wellknown': 1L, 'argentine': 2L, 'returned': 2L, 'cupola': 1L, 'assistant': 1L, 'reopened': 1L, 'dc': 1L, 'munich': 1L, 'cultural': 1L, '1956': 1L, 'continued': 1L, 'projects': 1L, 'school': 1L, 'exhibiting': 1L, 'prize': 2L, 'galeras': 1L, 'shapes': 1L, 'italian': 1L, 'uruguayan': 1L, 'born': 2L, 'taught': 1L, 'guillermo': 1L, 'honors': 1L, 'contributed': 1L, 'extensively': 1L, 'international': 1L, 'geometric': 1L, '1991roux': 1L, 'york': 1L, 'surrealistic': 1L, 'created': 1L, 'studied': 1L, 'biennial': 1L, 'jujuy': 1L, 'named': 1L, 'sicily': 1L, 'washington': 1L, 'traveled': 1L, 'rouxs': 1L, 'collages': 1L, 'art': 2L, 'city': 1L, 'arts': 1L, '1982': 1L, 'arcade': 1L, 'illustrious': 1L, '1988': 1L, 'workshop': 1L, 'harlequins': 1L, 'travelled': 1L, 'ral': 1L, 'nonnis': 1L, 'life': 1L, 'lived': 1L, 'shopping': 1L, 'award': 1L, 'berlin': 1L, 'worked': 2L, 'highest': 1L, 'painter': 3L, 'illustrator': 1L, '1997': 1L, 'work': 1L, 'relocated': 1L, 'frescoes': 1L, 'decoration': 1L, 'prestigious': 1L, 'xiii': 1L, 'umberto': 1L, '1929': 1L, 'realm': 1L, 'roux': 3L, '1966': 1L, '1967': 1L, '1960': 1L, 'paulo': 1L, 'phillips': 1L, 'actors': 1L, 'buenos': 4L, 'painthe': 1L, 'province': 1L, 'added': 2L, 'collection': 1L, 'restoration': 1L, 'aires': 4L, '1975': 1L, 'pacfico': 1L, 'frescoesroux': 1L, 'rome': 1L, '2007': 1L, 'watercolors': 1L}, {'golf': 2L, 'corps': 1L, 'merit': 1L, 'japan': 1L, 'oldest': 1L, 'children': 1L, '25': 1L, 'avid': 1L, 'retirement': 1L, '20': 1L, 'wed': 1L, '1940': 1L, 'deputy': 2L, '29': 1L, 'ely': 4L, '2015': 1L, '2014': 1L, 'include': 1L, '2011': 1L, 'gave': 1L, 'eventually': 1L, 'australia': 1L, 'march': 1L, 'mountford': 1L, 'world': 1L, 'silver': 1L, 'february': 1L, 'married': 2L, 'logistic': 1L, 'served': 2L, 'legions': 1L, 'born': 2L, 'delray': 1L, 'operated': 1L, 'home': 1L, 'living': 1L, 'golfer': 1L, 'guinea': 1L, '3': 1L, 'turned': 1L, 'jr': 1L, '1933': 1L, 'lieutenant': 2L, '1937': 1L, '100': 2L, 'bronze': 1L, 'meyers': 1L, 'resides': 1L, 'florida': 1L, 'islands': 2L, 'midway': 1L, 'retired': 2L, 'point': 2L, 'rank': 1L, 'son': 1L, 'service': 1L, 'army': 6L, 'west': 2L, '1930s': 1L, 'jane': 1L, 'military': 1L, 'war': 1L, 'awards': 1L, 'stationed': 1L, 'materiel': 1L, 'pittsburgh': 1L, 'academy': 1L, 'helen': 1L, '1911': 1L, 'commander': 1L, '10': 1L, 'jonas': 1L, 'sycamore': 1L, 'states': 4L, 'ross': 1L, 'distinguished': 1L, 'engineers': 1L, 'nursing': 1L, 'december': 1L, 'philippine': 1L, 'general': 3L, 'ii': 1L, 'united': 4L, 'graduate': 2L, 'beach': 1L, 'development': 1L, 'star': 3L, 'frances': 1L, 'william': 1L, 'designed': 1L, 'commanding': 1L, 'medal': 1L, 'died': 1L, 'pennsylvania': 2L, 'age': 1L, 'command': 2L}, {'played': 1L, 'september': 1L, 'years': 1L, 'alzheimers': 1L, 'children': 1L, 'seasonafter': 1L, '27': 1L, 'cup': 1L, '400': 1L, '2014': 1L, 'division': 1L, 'march': 1L, 'express': 1L, 'break': 1L, 'tipton': 2L, 'girlshe': 1L, 'debut': 1L, 'landlord': 1L, 'team': 2L, 'married': 1L, 'england': 2L, 'walsall': 2L, 'house': 1L, 'related': 1L, 'born': 3L, 'year': 1L, 'dudley': 1L, 'fellows': 1L, 'unable': 1L, 'public': 1L, 'scoring': 1L, '1939': 1L, 'beginning': 1L, 'league': 2L, 'career': 2L, '32': 1L, 'staffordshire': 1L, 'diseasehe': 1L, 'wanderers': 1L, 'games': 1L, 'fullback': 1L, 'teenage': 1L, 'wolverhampton': 1L, 'retired': 1L, 'win': 1L, '60': 1L, 'middlesbrough': 1L, 'steven': 1L, 'ian': 1L, '1982': 2L, '196465': 1L, 'union': 1L, 'top': 1L, 'roper': 3L, 'remained': 1L, 'footballerhe': 1L, 'today': 1L, '1950s': 1L, 'club': 2L, 'park': 1L, 'alan': 1L, 'lives': 2L, '10': 1L, '2008references': 1L, 'made': 1L, '1995': 1L, '16': 1L, 'car': 1L, 'signed': 1L, 'youth': 1L, 'making': 1L, 'tiptonhe': 1L, 'claimed': 1L, 'crash': 1L, 'end': 1L, '1964': 1L, '1966': 1L, 'lesley': 2L, 'mid': 1L, '1962': 1L, '1': 1L, 'injured': 1L, 'star': 1L, 'appearances': 1L, 'football': 2L, 'hometown': 1L, 'midlands': 1L, 'sides': 1L, 'suffers': 1L, 'valerie': 1L, 'age': 1L, 'spent': 1L, '1970': 1L, 'retiring': 1L, 'professional': 1L, 'wolves': 1L, 'began': 1L}, {'serving': 1L, 'show': 3L, 'dance': 2L, 'orchestra': 4L, 'move': 1L, 'years': 2L, 'pops': 1L, 'held': 2L, 'campbell': 1L, 'chair': 2L, '1982following': 1L, 'line': 1L, 'weekly': 1L, 'orleans': 3L, 'group': 1L, '23': 1L, 'tv': 1L, 'continued': 1L, 'freelance': 1L, 'instrument': 1L, 'vocalspiano': 1L, 'southland': 1L, 'peanuts': 1L, 'featured': 1L, 'local': 1L, 'carolina': 1L, 'good': 1L, 'victims': 1L, 'big': 1L, 'michigan': 1L, 'jazz': 4L, 'coast': 1L, '1955': 1L, 'band': 7L, '1957': 1L, '1956': 1L, 'jack': 1L, 'consisted': 1L, 'front': 1L, 'world': 1L, 'pier': 1L, 'illinoisafter': 1L, 'school': 1L, 'ended': 1L, 'schools': 1L, 'university': 1L, 'joined': 2L, 'soloist': 1L, 'benefit': 1L, 'saxophone': 1L, 'clarinetist': 1L, 'popular': 1L, 'havens': 4L, 'girard': 1L, 'concert': 2L, 'series': 1L, 'national': 1L, 'pacific': 1L, 'join': 1L, 'born': 1L, 'street': 1L, 'trombone': 3L, '250': 1L, 'interlochen': 1L, 'pete': 1L, 'quincy': 4L, 'lead': 1L, 'labels': 1L, 'hurricane': 1L, 'label': 1L, '3': 1L, 'fountain': 1L, 'girards': 1L, 'led': 1L, 'lawrence': 2L, 'bandsman': 1L, 'tromboneborn': 1L, 'met': 1L, 'job': 1L, 'dixieland': 1L, 'groups': 1L, 'great': 1L, 'talent': 1L, 'recognized': 1L, 'concerts': 1L, 'tour': 1L, '1930': 1L, 'katrinabob': 1L, 'bob': 6L, 'teagardenin': 1L, 'persuaded': 1L, 'zeke': 1L, 'vic': 1L, 'family': 1L, 'appeared': 1L, 'instruments': 1L, 'guard': 1L, 'ralph': 1L, 'crosby': 1L, 'festivals': 1L, 'benny': 1L, 'george': 1L, 'fidelity': 1L, '1985': 1L, '1982': 1L, 'working': 1L, 'west': 1L, 'symphony': 1L, 'music': 1L, 'ringwald': 1L, 'time': 1L, 'formed': 1L, 'war': 1L, 'idol': 1L, 'door': 1L, 'zarchy': 1L, 'musician': 1L, 'landed': 1L, 'lives': 1L, 'albums': 2L, 'trumpetin': 1L, 'bourbon': 1L, 'raising': 1L, '12': 1L, '1995': 1L, '16': 1L, 'dans': 1L, 'record': 1L, 'hirt': 4L, 'cats': 1L, 'piece': 1L, 'welk': 3L, 'money': 1L, '600': 1L, 'played': 2L, 'al': 1L, 'fellow': 1L, 'performed': 1L, 'violin': 1L, 'times': 1L, 'ava': 1L, 'dozen': 1L, 'recorded': 2L, 'studying': 1L, 'began': 1L, '1960': 2L, 'american': 1L, 'stayed': 1L, 'illinois': 3L, 'goodman': 1L, '2005': 1L, 'korean': 1L, 'continues': 1L, 'star': 1L, 'trombonist': 1L, 'musiciansbob': 1L, 'barber': 1L, 'hucko': 1L, 'audio': 1L, 'don': 1L, 'famous': 1L, 'verve': 1L, 'age': 3L, 'camp': 1L, 'lasted': 1L, 'flanagan': 1L, 'musical': 1L, 'nelson': 1L, 'tenure': 1L, 'north': 1L, 'professional': 2L, 'left': 1L, 'playing': 1L, 'scholarship': 1L}, {'weavers': 1L, 'singersongwriter': 1L, 'recorded': 1L, 'queen': 1L, 'london': 1L, 'renewed': 1L, 'backup': 1L, 'tv': 1L, 'breathy': 1L, 'christie': 5L, 'late': 1L, '1930s': 1L, 'votel': 2L, 'sound': 1L, 'dj': 1L, 'song': 1L, 'food': 1L, 'watch': 1L, 'languished': 1L, 'dark': 1L, 'records': 1L, 'cd': 1L, 'lady': 1L, 'hall': 1L, 'appearing': 1L, 'lost': 1L, 'artist': 2L, 'performing': 1L, 'cochrane': 1L, 'chorus': 1L, 'release': 1L, 'weaver': 1L, 'fared': 1L, 'concert': 1L, 'national': 1L, 'donald': 1L, 'billboard': 1L, 'folk': 3L, 'album': 7L, 'project': 1L, 'novelty': 1L, 'label': 1L, 'reminiscent': 1L, 'singles': 1L, 'written': 1L, 'songbirdchristie': 1L, 'hill': 1L, 'bird': 1L, 'filled': 1L, 'august': 1L, 'reaching': 1L, 'compilation': 1L, 'attention': 1L, 'commercial': 2L, 'free': 1L, 'funyuns': 1L, 'snack': 1L, 'vinyl': 1L, 'backed': 1L, '100': 2L, 'received': 1L, 'canadian': 1L, 'players': 1L, 'funky': 1L, 'adapted': 2L, 'unreleased': 1L, 'ladies': 2L, 'love': 3L, 'obscurity': 1L, 'appeared': 1L, 'kazoo': 1L, 'philadelphia': 1L, 'brought': 1L, 'onionflavored': 1L, '63': 1L, 'rpm': 1L, 'brilliantly': 1L, 'guest': 1L, '1980signed': 1L, 'copies': 1L, 'paint': 1L, 'andy': 1L, 'tune': 2L, 'jane': 1L, 'music': 1L, 'john': 1L, 'manchesterbased': 1L, 'minor': 1L, 'spearheaded': 1L, 'copy': 1L, 'spin': 1L, 'peaked': 1L, 'television': 1L, 'turtles': 1L, '19': 1L, 'participated': 1L, 'vocal': 1L, '2010': 1L, 'recording': 1L, 'pennsylvania': 1L, 'pressed': 1L, 'male': 1L, 'single': 1L, 'dropped': 1L, 'hit': 1L, 'onions': 1L, '1966': 2L, 'magazine': 1L, '1': 1L, 'hot': 1L, 'strange': 1L, 'canada': 1L, 'bearded': 1L, 'columbia': 2L, 'elizabeth': 1L, '60s': 1L, 'track': 1L, 'chart': 2L, 'christies': 1L, 'noncommercial': 1L, 'spouse': 1L, 'psychedelic': 1L, 'susan': 1L, 'considered': 1L, 'fallen': 1L, '1970': 1L, '2006': 1L, 'american': 1L, '2008': 1L, 'singersin': 1L, 'original': 1L, 'songs': 1L}, {'precisiontooled': 1L, 'developed': 1L, 'results': 1L, 'quarters': 1L, 'helena': 1L, 'including': 1L, 'apartment': 1L, 'police': 1L, 'deserts': 1L, 'earned': 1L, 'writer': 3L, 'sky': 1L, 'minnesota': 2L, 'include': 1L, 'desire': 1L, 'jake': 1L, 'regional': 1L, 'dell': 1L, 'made': 1L, 'private': 1L, 'stasio': 1L, 'years': 1L, 'mystery': 1L, 'articles': 1L, 'small': 1L, 'husband': 1L, 'set': 2L, 'series': 2L, 'result': 1L, 'diver': 1L, 'techniques': 1L, 'gunn': 5L, 'living': 1L, 'motel': 2L, 'extensively': 1L, 'research': 1L, 'burke': 1L, 'europe': 1L, 'publishers': 1L, 'arizona': 1L, 'southeast': 1L, 'york': 1L, 'path': 1L, 'beginning': 1L, 'marilyn': 1L, 'license': 1L, 'career': 2L, 'times': 1L, 'american': 1L, 'fulltime': 1L, 'published': 1L, 'pilots': 1L, 'raised': 1L, 'family': 1L, 'owned': 1L, 'sailor': 1L, 'directly': 1L, 'sarah': 1L, 'city': 1L, 'harlequin': 1L, 'liveaboard': 1L, 'travelled': 1L, 'mountains': 1L, 'lived': 1L, 'novelsgunn': 1L, 'innkeeper': 1L, 'lives': 1L, 'careful': 1L, 'hines': 1L, 'grew': 1L, 'sailing': 1L, '1999': 1L, 'phillip': 1L, 'rutherford': 1L, 'tucson': 3L, 'scuba': 1L, 'mexico': 1L, 'moved': 2L, 'author': 1L, 'retiring': 1L, 'travel': 2L, 'write': 1L, 'setting': 1L, 'papers': 1L, 'forge': 1L, 'daughters': 1L, 'canada': 1L, 'elizabeth': 1L, 'novels': 1L, 'houseprior': 1L, 'montana': 1L, 'lobby': 1L, 'hiked': 1L, 'procedurals': 1L, 'fictional': 1L, 'cramped': 1L, 'walker': 1L, 'severn': 1L, 'began': 1L}, {'hampton': 2L, 'savannah': 1L, 'sleepy': 1L, 'years': 1L, 'including': 1L, 'fletcher': 1L, 'atlanta': 1L, 'tv': 2L, 'highlights': 1L, 'program': 1L, 'include': 2L, 'viking': 1L, 'means': 1L, 'horror': 1L, 'dc': 2L, '1954': 1L, 'pearson': 1L, 'ghostbusters': 1L, 'sony': 1L, 'smash': 1L, 'school': 1L, 'motorola': 1L, 'popular': 1L, 'noted': 1L, 'realism': 1L, 'warner': 1L, 'clients': 1L, 'england': 1L, 'born': 1L, 'video': 1L, 'nbm': 1L, 'year': 1L, 'mashhe': 1L, 'cocacola': 1L, 'page': 1L, 'bellsouth': 1L, 'network': 1L, 'mcmahon': 1L, 'sequential': 1L, 'fricksfirestone': 1L, 'shows': 1L, 'full': 1L, 'spot': 1L, 'bo': 1L, 'commercial': 1L, 'arts': 2L, 'drew': 1L, 'agencies': 1L, 'york': 1L, 'graduated': 1L, 'legend': 1L, 'extreme': 1L, 'design': 1L, 'times': 1L, 'length': 1L, 'wrote': 1L, 'incarnation': 1L, 'book': 1L, 'johns': 1L, 'washington': 1L, 'period': 1L, 'hollow': 1L, 'art': 2L, 'comic': 1L, 'ad': 1L, 'city': 1L, 'story': 1L, 'publishing': 2L, 'live': 1L, 'medium': 1L, 'painted': 2L, 'batman': 1L, 'uncommon': 1L, 'visual': 1L, 'realms': 1L, 'worked': 1L, '96': 1L, 'graphic': 2L, '15': 1L, 'glory': 1L, 'comics': 2L, 'work': 2L, 'storyboard': 1L, 'uk': 1L, 'college': 1L, 'animated': 1L, 'regularly': 1L, 'bent': 1L, 'artisthe': 1L, 'bros': 1L, 'states': 1L, 'superman': 1L, 'united': 1L, 'develop': 1L, 'commercials': 1L, 'feature': 1L, '40': 1L, 'animation': 1L, 'pizza': 1L, 'fairly': 1L, 'indianapolis': 1L, 'advets': 1L, 'novels': 1L, 'papa': 1L, 'helping': 1L, 'mccannerickson': 1L, 'moving': 1L, 'tundra': 1L, 'cowritten': 1L, 'cartoon': 2L, 'storyboarding': 1L, 'professor': 1L, 'spent': 1L, 'verdilak': 1L, 'original': 1L}, {'german': 1L, 'ordre': 1L, 'contemporary': 1L, 'actress': 1L, 'nicknamed': 1L, 'honours': 1L, 'japan': 1L, 'albums': 1L, 'lettres': 1L, 'la': 1L, 'paris': 2L, 'recognised': 1L, 'september': 1L, 'personality': 1L, 'republics': 1L, 'merit': 2L, 'birth': 1L, 'press': 1L, 'world': 1L, 'day': 1L, 'places': 1L, 'success': 1L, 'artist': 1L, 'officially': 1L, 'officer': 1L, 'fields': 1L, 'popular': 4L, 'officier': 1L, 'rossa': 1L, 'americahaving': 1L, 'triumphed': 1L, 'animals': 1L, 'national': 1L, '1960s': 1L, 'hair': 1L, 'born': 1L, 'greece': 1L, 'omri': 1L, 'theatrical': 1L, 'televised': 1L, 'federal': 1L, 'numerous': 1L, 'red': 1L, 'korea': 1L, 'simultaneously': 1L, 'honour': 1L, 'french': 2L, 'singers': 2L, '1939': 1L, 'abroad': 1L, 'stage': 1L, 'received': 2L, 'enormous': 1L, 'internationally': 1L, 'panther': 1L, 'times': 1L, 'legion': 1L, 'italian': 9L, 'south': 1L, 'names': 1L, 'female': 1L, 'arts': 1L, 'biolcati': 1L, 'personalities': 1L, 'remains': 1L, 'chevalier': 1L, 'due': 1L, 'france': 1L, 'pronunciation': 1L, '2': 1L, 'music': 1L, 'participated': 1L, 'successful': 1L, 'released': 1L, 'berlin': 1L, 'stems': 1L, 'july': 1L, 'highest': 1L, 'spain': 1L, 'goro': 1L, '11': 1L, 'television': 1L, '1995': 1L, '17': 1L, 'milva': 1L, 'des': 2L, 'stature': 1L, 'stages': 1L, 'acclaim': 1L, 'combining': 1L, 'commander': 2L, 'film': 1L, 'native': 1L, 'programmes': 1L, 'italy': 3L, 'republic': 3L, 'events': 1L, '2007': 1L, 'theatre': 1L, 'june': 1L, 'bjolkati': 1L, 'germany': 2L, 'additionally': 1L, 'maria': 2L, 'singer': 1L, 'bestowed': 1L, 'colour': 1L, 'order': 3L, 'rome': 1L, '2006': 1L, 'artistic': 1L, '2009': 1L, 'ilva': 2L, 'musical': 3L, 'fact': 1L}, {'untold': 1L, 'producer': 3L, 'fox': 2L, 'raised': 1L, 'produced': 1L, 'asian': 1L, 'extremities': 1L, 'economist': 1L, 'based': 1L, 'tv': 2L, 'winner': 1L, 'bush': 1L, 'association': 1L, 'cum': 1L, 'include': 2L, 'formosa': 1L, 'michigan': 1L, 'dark': 1L, 'starbucks': 1L, 'presidential': 1L, 'university': 3L, 'manhattan': 1L, 'leave': 1L, 'starred': 1L, 'series': 1L, 'activists': 1L, 'taiwanese': 2L, 'surrounding': 1L, 'decided': 1L, 'entering': 1L, 'dear': 1L, 'er': 1L, 'fulbright': 1L, 'research': 1L, 'waiting': 1L, 'internet': 1L, 'international': 4L, 'independence': 1L, 'ba': 1L, 'writertranslator': 1L, 'lefty': 1L, 'philippinestiao': 1L, 'credits': 2L, 'magna': 1L, 'betrayed': 1L, 'stage': 1L, 'marty': 1L, 'received': 2L, 'central': 1L, 'southeast': 1L, 'career': 1L, 'tlc': 1L, 'american': 1L, 'major': 1L, 'writer': 1L, 'clinton': 1L, 'scene': 1L, 'george': 1L, 'awardwinning': 1L, 'story': 1L, 'management': 1L, 'relations': 1L, 'mencia': 1L, 'entertainmenttiao': 1L, 'hollywood': 1L, 'madtv': 1L, 'transferring': 1L, 'worked': 3L, 'true': 1L, 'ma': 1L, 'room': 1L, 'born': 1L, 'pursue': 1L, 'nations': 1L, 'stories': 1L, 'cello': 1L, 'proof': 1L, 'mind': 1L, 'fellow': 1L, '1980s': 1L, 'cbs': 1L, 'politics': 2L, 'tiao': 2L, 'film': 3L, 'affairs': 1L, 'democracy': 1L, 'administration': 2L, 'feature': 1L, 'actor': 3L, 'field': 1L, 'boom': 2L, 'manila': 1L, 'performance': 1L, 'comedy': 2L, 'events': 1L, 'independent': 1L, 'columbia': 1L, 'theatre': 1L, 'kansas': 1L, 'stan': 1L, 'laude': 1L, 'tufts': 1L, 'quarterlife': 1L, 'short': 1L, '2002': 1L, 'scholarship': 1L}, {'limited': 4L, 'yearprimos': 1L, 'founder': 1L, 'institutional': 1L, 'money': 2L, 'move': 1L, 'domestic': 1L, 'llc': 2L, 'oldest': 1L, 'baldwin': 1L, 'children': 1L, 'partners': 2L, 'hills': 1L, 'acumen': 1L, 'industrys': 1L, 'september': 1L, 'forbes': 1L, 'black': 1L, 'board': 2L, 'developed': 1L, '2013': 1L, '2012': 1L, 'advises': 1L, 'global': 3L, 'march': 1L, 'africanamerican': 1L, 'moms': 1L, 'capital': 7L, '1955': 1L, 'matters': 2L, 'world': 1L, 'investor': 1L, 'newly': 1L, 'listprimo': 1L, 'primo': 7L, 'cofounder': 1L, 'side': 1L, 'quintin': 1L, 'signing': 1L, 'financial': 3L, 'ceo': 1L, 'minorityowned': 3L, 'born': 1L, 'investment': 1L, '1947in': 1L, 'opened': 1L, 'chicago': 1L, 'innovation': 1L, 'international': 1L, 'firms': 2L, 'fundsas': 1L, 'visionary': 1L, 'business': 1L, 'commercial': 1L, 'richest': 1L, 'invest': 1L, 'early': 1L, 'kids': 1L, 'industry': 1L, 'transition': 1L, 'americas': 3L, 'angeles': 1L, 'magazine': 1L, 'ranked': 1L, 'west': 1L, 'south': 1L, 'alliance': 1L, 'companyin': 1L, 'strategic': 1L, 'included': 1L, 'americans': 1L, 'homeless': 1L, 'contributor': 1L, 'management': 2L, 'estate': 4L, 'addition': 1L, 'twenty': 1L, 'top': 1L, 'philanthropy': 1L, 'los': 1L, 'capri': 8L, '404': 1L, 'listed': 1L, 'leadership': 1L, 'markets': 1L, 'firm': 3L, 'urban': 2L, 'african': 1L, 'funds': 1L, 'company': 1L, 'formed': 1L, 'serve': 1L, 'iii': 1L, 'appointed': 1L, 'women': 1L, 'crenshaw': 1L, '14': 1L, 'publicly': 1L, 'mr': 2L, 'primos': 1L, 'renaming': 1L, 'launched': 2L, 'real': 4L, 'saluted': 1L, 'plaza': 1L, 'investors': 1L, 'india': 2L, 'states': 1L, 'malls': 1L, 'purchased': 1L, 'united': 1L, 'nonexecutive': 1L, 'located': 1L, 'chairman': 3L, 'largest': 1L, 'cnbc': 1L, 'regional': 1L, 'shelter': 1L, 'center': 1L, 'director': 1L, 'regular': 1L, 'services': 3L, 'billion': 1L, 'directors': 1L, 'assets': 1L, 'limiteds': 1L, 'mezzanine': 1L, 'indianregistered': 1L, '2000': 1L, '2006': 1L, 'pension': 1L, 'underserved': 1L, 'enterprise': 1L, 'position': 1L, 'overseas': 1L, 'latest': 1L}, {'portraying': 1L, 'catweazle': 1L, 'show': 1L, 'sheltering': 1L, 'displayed': 1L, 'pops': 1L, 'episodes': 1L, 'including': 2L, 'bayldon': 2L, 'paul': 1L, 'envy': 1L, 'based': 1L, 'title': 1L, 'wizard': 1L, 'yorkshire': 1L, 'theme': 1L, 'dramatisation': 1L, 'riding': 1L, 'include': 2L, 'mortality': 1L, 'blott': 1L, 'university': 1L, 'big': 1L, 'watch': 1L, 'television': 6L, 'game': 1L, 'schools': 1L, 'magic': 1L, 'bayldons': 1L, 'january': 1L, 'auld': 1L, 'newtons': 1L, 'organon': 1L, 'dramas': 1L, 'unexpected': 1L, 'series': 6L, 'magnificent': 1L, 'tvs': 1L, 'born': 2L, 'productions': 1L, 'video': 1L, 'turning': 1L, 'programmes': 1L, 'alternative': 1L, 'provided': 1L, 'rex': 1L, 'plays': 1L, 'grandad': 1L, 'hardcastles': 1L, 'tales': 1L, 'boogie': 1L, 'version': 1L, 'shakespeare': 1L, '7': 1L, 'simplicio': 1L, 'porridge': 2L, 'recently': 1L, 'sins': 1L, 'longrunning': 2L, 'royale': 1L, 'guest': 2L, 'casino': 1L, 'british': 1L, '1995bayldon': 1L, 'worzel': 1L, 'leeds': 1L, 'love': 1L, 'childrens': 1L, 'appeared': 1L, 'number': 2L, 'revolution': 1L, 'singing': 1L, 'boyard': 1L, 'open': 1L, 'landscape': 1L, '1986': 1L, '1987': 1L, '1985': 1L, '1983': 1L, 'marc': 1L, 'west': 1L, 'top': 1L, 'bbc': 4L, 'fiction': 1L, 'geoffrey': 1L, 'storm': 1L, 'angelsother': 1L, 'leonard': 1L, 'cops': 1L, 'talents': 1L, 'crowman': 1L, '1960s': 1L, 'doctors': 1L, 'fort': 1L, 'king': 1L, '1993': 1L, 'made': 2L, 'roles': 2L, 'science': 1L, 'appearance': 2L, 'vocal': 1L, 'governoramong': 1L, 'vocals': 1L, '1924': 1L, 'played': 2L, 'rat': 1L, 'bolant': 1L, '1998he': 1L, '197072': 1L, 'pit': 1L, 'film': 3L, 'sir': 1L, 'doctor': 5L, 'deadly': 1L, '1967': 3L, '1961': 1L, 'actor': 1L, 'unexploited': 1L, 'parts': 2L, 'role': 1L, 'creature': 1L, 'play': 1L, 'finish': 1L, 'star': 1L, 'palms': 1L, 'gummidge': 1L, 'appearances': 2L, '1970s': 1L, 'unbound': 1L, 'segment': 1L, 'avengers': 1L, 'recent': 1L, 'episode': 1L, '1979': 2L, 'tricks': 1L, 'caseyin': 1L, '197981': 1L, '1971': 1L, '2007': 1L, '1965': 1L, 'audio': 1L, 'opportunity': 1L, 'playing': 1L}, {'serving': 1L, 'german': 2L, 'years': 1L, 'founded': 1L, 'scientist': 1L, 'computers': 1L, 'chair': 1L, 'ikerbasque': 3L, 'sonoma': 1L, 'web': 2L, 'based': 1L, 'iscience': 2L, 'sciences': 1L, 'privatdozent': 1L, 'young': 1L, 'leibniz': 1L, 'habilitation': 1L, 'prof': 1L, 'founders': 1L, '2013': 1L, '2012': 1L, 'boulder': 1L, 'tests': 1L, 'founding': 1L, 'big': 1L, 'de': 1L, 'honorable': 1L, 'world': 1L, 'dr': 1L, 'uwe': 1L, 'articles': 1L, 'rhetoric': 1L, 'cognition': 1L, 'university': 7L, 'standards': 1L, 'tenured': 1L, 'experiments': 2L, 'switzerland': 1L, 'wrote': 1L, 'methods': 2L, 'zurich': 1L, 'dgof': 1L, 'elected': 1L, 'konstanz': 1L, 'attended': 1L, 'measurement': 1L, '7th': 1L, 'laboratory': 1L, 'universities': 1L, 'psychology': 10L, 'kolleg': 1L, 'research': 4L, 'state': 1L, 'won': 1L, 'scientists': 1L, 'international': 1L, 'method': 1L, 'full': 1L, 'superior': 1L, 'ma': 1L, 'journal': 2L, 'jointly': 1L, 'experimenting': 2L, 'ranked': 1L, 'california': 1L, 'cientificas': 1L, 'affiliated': 2L, 'article': 1L, 'chapter': 1L, 'received': 3L, 'conducting': 2L, 'title': 1L, 'bilbao': 1L, 'american': 1L, 'fulltime': 1L, 'assistant': 1L, 'social': 1L, 'internetbased': 4L, 'experimental': 3L, 'colorado': 1L, 'consejo': 1L, 'venia': 1L, 'jens': 1L, 'scipulfdietrich': 1L, 'private': 1L, 'ulfdietrich': 2L, 'spanish': 1L, 'undergraduate': 1L, 'nonnorth': 1L, 'tbingen': 2L, 'working': 2L, 'basis': 1L, 'remains': 1L, 'journals': 1L, 'top': 1L, 'political': 1L, 'causality': 1L, 'editor': 1L, 'assessment': 1L, 'minor': 1L, 'legendi': 1L, 'award': 2L, 'reips': 6L, 'spain': 2L, 'wide': 1L, '1992': 1L, '1995': 1L, '1994': 1L, '1997': 2L, 'affiliation': 1L, 'science': 3L, 'deusto': 1L, 'matzat': 1L, 'walter': 1L, 'real': 1L, '2014ulfdietrich': 1L, 'defined': 1L, 'cited': 1L, 'general': 1L, 'investigaciones': 1L, 'majored': 1L, 'media': 1L, 'holds': 1L, 'graduate': 1L, 'field': 1L, 'neuroscience': 1L, 'book': 1L, 'online': 2L, 'department': 2L, 'lecturer': 1L, 'methodology': 1L, 'internet': 4L, 'lab': 1L, 'phd': 1L, 'germany': 1L, 'student': 1L, 'faculty': 1L, 'society': 3L, 'president': 1L, 'data': 1L, 'oberassistent': 1L, 'methodologies': 1L, 'professor': 3L, 'spent': 1L, 'psychological': 2L, '2002': 1L, '2004': 1L, '2005': 1L, '2009': 2L}, {'pense': 1L, 'scientist': 1L, 'committee': 1L, 'biologist': 1L, 'issues': 1L, 'ncehr': 1L, 'group': 1L, 'la': 1L, 'codirector': 2L, 'program': 1L, 'screening': 1L, 'division': 1L, 'founding': 1L, 'lambertprofessor': 1L, 'interdisciplinary': 1L, 'camus': 3L, 'de': 6L, 'chercheurs': 1L, 'masters': 1L, 'du': 2L, 'articles': 1L, 'sant': 1L, 'committees': 1L, 'served': 1L, 'universit': 3L, 'works': 1L, 'programme': 1L, 'ethical': 1L, 'en': 1L, 'reference': 1L, 'testing': 1L, 'society': 1L, 'books': 1L, 'quebec': 1L, 'canada': 1L, 'sociology': 1L, 'genetics': 3L, 'network': 1L, 'richard': 1L, 'philosopher': 2L, 'religion': 1L, 'sshrc': 1L, 'medicine': 1L, 'evaluation': 1L, 'fribourg': 1L, 'degree': 1L, 'associate': 1L, 'french': 1L, 'teaches': 1L, 'received': 1L, 'recherche': 1L, 'canadian': 1L, 'vicepresident': 1L, 'interinstitutional': 1L, 'experimental': 1L, 'collge': 2L, 'researcher': 1L, 'laval': 1L, 'qubec': 1L, '1986': 1L, 'mlanon': 4L, '1988': 1L, 'genetic': 1L, 'clinical': 1L, 'authored': 1L, 'gnthiq': 1L, 'bioethicshe': 1L, 'analyse': 1L, 'specialty': 1L, 'frsqprofessor': 1L, 'worked': 1L, 'representing': 1L, 'des': 1L, 'switzerlandprofessor': 1L, 'doctorate': 1L, 'soutien': 1L, 'funded': 2L, 'marcel': 1L, 'fonds': 1L, 'qubecfrsq': 1L, 'bioethics': 3L, 'graduate': 1L, 'member': 3L, 'book': 1L, 'department': 2L, 'albert': 3L, 'philosophy': 2L, 'director': 1L, 'ethics': 4L, 'law': 1L, 'chicoutimi': 2L, 'professor': 1L, 'analysis': 1L, 'thought': 1L, 'researchers': 1L, 'sa': 1L, 'pscche': 1L}, {'operations': 1L, 'surrey': 1L, 'tomorrows': 1L, 'gold': 2L, 'companieswhile': 1L, 'radio': 15L, 'departed': 1L, '24': 1L, 'based': 1L, 'platform': 1L, 'program': 1L, 'listing': 1L, 'computerised': 2L, 'merged': 1L, 'division': 1L, 'format': 1L, 'ceo': 4L, 'joint': 2L, 'kiss': 1L, 'world': 2L, 'day': 1L, 'joined': 2L, 'pirate': 3L, 'journalist': 2L, 'served': 1L, 'programme': 1L, 'set': 1L, 'group': 3L, 'hosted': 2L, 'star': 1L, 'londonafter': 1L, 'investment': 1L, 'network': 1L, 'radioin': 1L, 'fox': 1L, 'research': 1L, 'current': 1L, 'berkshires': 1L, 'eventually': 1L, 'capital': 1L, 'international': 2L, 'consisting': 1L, 'shows': 1L, 'pioneering': 1L, 'eagle': 1L, 'venture': 1L, 'jointly': 1L, '20': 1L, 'hours': 1L, 'growing': 1L, 'concentrate': 1L, 'studio': 1L, 'york': 1L, 'key': 1L, '102': 1L, 'news': 2L, 'technologiesin': 1L, 'working': 1L, 'launch': 6L, 'newspapers': 1L, 'compliance': 1L, 'programming': 1L, 'british': 1L, 'officer': 1L, 'exeter': 1L, 'promoted': 2L, 'uks': 1L, 'innovations': 1L, 'county': 6L, 'services': 1L, 'featured': 1L, 'market': 1L, '1986': 2L, 'awardwinning': 1L, '1984': 1L, 'management': 2L, '1983': 1L, '1980': 1L, 'computing': 1L, 'bbc': 1L, 'system': 1L, 'rcs': 3L, 'plains': 1L, 'station': 4L, 'master': 1L, 'editor': 1L, 'music': 2L, 'white': 1L, 'launching': 1L, 'separated': 1L, 'introducing': 1L, 'head': 1L, 'form': 1L, 'company': 1L, 'cornwall': 1L, 'selector': 1L, 'delta': 1L, 'transitioning': 1L, 'customer': 1L, 'october': 2L, '1995': 1L, 'ukrd': 3L, 'stations': 3L, 'uk': 4L, 'newspaper': 1L, 'fm': 5L, 'taking': 1L, 'launched': 1L, 'control': 1L, '2014': 1L, 'played': 1L, 'moved': 1L, 'mike': 1L, 'breakfast': 1L, 'technology': 1L, '1991': 1L, 'musicscheduling': 1L, 'provincial': 1L, 'manchesters': 1L, 'westcountry': 1L, 'torbay': 1L, 'media': 1L, 'sound': 6L, 'role': 1L, 'chairman': 1L, 'digital': 1L, 'powell': 7L, 'stock': 1L, 'infinity': 3L, 'affairs': 1L, 'automation': 1L, 'director': 1L, 'running': 1L, 'playoutshortly': 1L, 'designed': 1L, 'showpowell': 1L, 'included': 1L, 'president': 2L, 'guildford': 1L, 'devonair': 1L, 'building': 1L, 'vice': 2L, 'headquarters': 1L, '2002': 1L, '964': 1L, 'chief': 1L, '2001': 1L, 'senior': 2L, 'software': 1L}, {'september': 1L, 'belarusian': 2L, 'including': 1L, 'footballers': 1L, 'scoring': 1L, '26': 1L, 'cut': 1L, 'group': 1L, '21': 1L, 'championshipon': 1L, 'earned': 1L, 'toulon': 1L, '4': 1L, 'footballer': 1L, '2010': 2L, 'match': 2L, '2012': 2L, 'belarus': 2L, 'qualifier': 1L, 'matches': 2L, '12': 2L, 'under21': 4L, 'january': 1L, 'debut': 1L, 'latvia': 1L, 'denmark': 1L, 'london': 1L, 'side': 1L, 'national': 1L, 'competition': 1L, 'born': 1L, 'home': 1L, 'plays': 1L, 'missed': 1L, 'selected': 2L, '18': 1L, 'senior': 1L, 'olympics': 1L, 'nominees': 1L, 'august': 1L, 'opening': 1L, 'team': 4L, 'yurchenko': 4L, 'uladzimir': 1L, 'november': 1L, 'stage': 1L, '22': 1L, 'country': 1L, '30': 1L, 'friendly': 2L, 'players': 1L, 'games': 1L, 'u21': 6L, 'qualification': 1L, 'win': 2L, 'netted': 2L, 'austria': 1L, 'yurchanka': 1L, 'withdrawn': 1L, '1989': 1L, '2': 1L, 'injury': 1L, 'participated': 2L, 'salihorskyurchenko': 1L, 'aliaksandr': 1L, 'secured': 1L, 'omanon': 1L, 'part': 3L, 'perepechka': 1L, 'russian': 1L, 'october': 1L, '2011': 4L, 'vasilyevich': 1L, 'final': 1L, 'replaced': 1L, 'pretournament': 1L, 'shakhtyor': 1L, 'tournament': 1L, 'reserves': 1L, 'callup': 1L, 'made': 3L, 'italy': 1L, 'recovery': 1L, 'make': 1L, '43': 1L, 'mogilev': 1L, '1': 1L, 'belarussian': 1L, 'squad': 3L, '9': 1L, 'european': 4L, 'injured': 2L, 'championship': 3L, 'appearances': 1L, 'football': 4L, 'june': 1L, 'preliminary': 1L, 'subsequently': 1L, 'goal': 1L, '2008': 1L, '2009': 2L, 'uefa': 4L}, {'fukui': 1L, 'developed': 1L, 'years': 1L, 'including': 1L, 'albums': 1L, 'scoring': 1L, '21': 1L, 'earthbound': 1L, 'black': 1L, 'smile': 1L, 'piano': 1L, '2010': 1L, 'march': 1L, 'band': 3L, 'game': 5L, 'influenceuematsu': 1L, '1959': 1L, 'organ': 1L, 'keyboards': 1L, 'joined': 1L, 'roth': 1L, 'rock': 2L, 'found': 1L, 'works': 1L, 'concerts': 2L, 'twelve': 1L, 'square': 4L, 'creator': 1L, 'series': 2L, 'japanese': 1L, 'born': 1L, 'titles': 2L, 'video': 5L, 'composers': 1L, 'elton': 1L, 'electronic': 1L, 'label': 1L, 'notably': 1L, 'met': 1L, 'studio': 1L, 'compositions': 1L, 'selftaught': 1L, 'games': 2L, 'tsuyoshi': 1L, 'composed': 1L, 'enix': 2L, 'grammy': 1L, 'sakaguchi': 1L, 'community': 1L, 'fantasy': 5L, 'composer': 1L, 'nobuo': 2L, '1986': 1L, 'awardwinning': 1L, 'famous': 1L, 'mistwalkersoundtracks': 1L, 'papas': 1L, 'eleven': 1L, 'music': 2L, 'biggest': 1L, 'john': 1L, 'final': 5L, 'conductor': 1L, 'company': 1L, 'musician': 1L, 'freelancer': 1L, 'worked': 2L, 'ear': 1L, 'colleagues': 1L, 'kenichiro': 1L, 'arranged': 2L, 'versions': 1L, '18': 1L, 'uematsus': 2L, 'mages': 1L, 'called': 2L, 'played': 2L, 'hironobu': 1L, 'pieces': 1L, 'respected': 1L, 'sekito': 1L, 'performed': 2L, 'arnie': 1L, 'began': 1L, 'majority': 1L, 'uematsu': 3L, 'development': 1L, 'records': 1L, 'scores': 1L, 'released': 1L, 'considered': 1L, 'age': 1L, 'dog': 1L, '2002': 1L, '2004': 1L, 'sakaguchis': 1L, 'playing': 1L, 'left': 1L}, {'focus': 1L, 'yellow': 1L, 'reviewed': 1L, 'imprint': 1L, 'lsu': 1L, 'shoe': 1L, 'griffith': 1L, 'tendency': 1L, 'weekly': 1L, 'writer': 3L, 'distributed': 1L, 'writing': 2L, 'press': 1L, 'mcsweeneys': 1L, 'day': 1L, 'university': 1L, 'debut': 1L, 'michael': 1L, 'morning': 1L, 'man': 1L, 'warner': 2L, 'edited': 1L, 'seagerhe': 1L, 'series': 2L, 'kirkus': 1L, 'allan': 1L, 'born': 2L, 'taught': 1L, 'college': 1L, 'humor': 2L, 'collaborates': 1L, 'creative': 4L, 'future': 1L, 'internet': 1L, 'czar': 1L, 'publishers': 1L, 'dictionary': 1L, 'warners': 1L, 'news': 1L, 'teach': 1L, 'teaches': 1L, 'publishing': 1L, 'great': 1L, 'inspired': 1L, 'american': 2L, 'published': 1L, 'charleston': 2L, 'frequent': 1L, 'tough': 1L, 'previously': 1L, 'northbrook': 1L, '2008currently': 1L, 'contributor': 1L, 'story': 1L, 'publication': 1L, 'working': 1L, 'army': 1L, 'create': 1L, 'tow': 1L, 'fiction': 1L, 'humorous': 1L, 'editor': 2L, 'resulted': 1L, 'guilfoile': 1L, 'uncle': 1L, 'fictionhe': 1L, 'john': 1L, 'stumbling': 1L, 'work': 1L, 'reviews': 1L, 'books': 3L, 'publications': 1L, 'clemson': 2L, 'politically': 1L, 'dedicated': 1L, 'raging': 1L, 'kevin': 1L, 'funny': 1L, 'author': 1L, 'nuts': 1L, 'illinois': 1L, 'book': 1L, 'inquiry': 2L, 'incwarner': 1L, 'fw': 1L, 'students': 1L, 'collection': 1L, 'director': 1L, 'anthologized': 1L, 'student': 1L, 'frequently': 1L, 'america': 1L, 'recent': 1L, 'short': 1L, '1970': 1L, 'chief': 1L, 'sc': 2L}, {'coach': 1L, 'years': 1L, 'illustrated': 1L, 'title': 1L, 'champions': 1L, '543': 1L, 'coaching': 1L, 'surprised': 1L, 'game': 2L, 'lilburn': 1L, 'rebounds': 2L, 'hall': 1L, 'school': 1L, 'sophomore': 1L, 'wooden': 3L, 'university': 1L, 'cofounded': 1L, 'mcinstosh': 1L, 'theological': 1L, 'bruin': 1L, 'national': 2L, 'hard': 1L, 'college': 2L, 'gameyears': 1L, 'doug': 3L, 'nba': 1L, '1965mcintosh': 1L, 'won': 2L, 'woodens': 1L, 'drafted': 1L, 'attended': 1L, 'mcintosh': 5L, 'california': 1L, 'key': 1L, 'anchoring': 1L, 'cornerstone': 1L, 'bible': 1L, 'career': 2L, 'didnt': 1L, '30': 1L, 'angeles': 1L, 'players': 1L, 'magazine': 1L, 'workfollowing': 1L, 'duke': 1L, 'retired': 1L, 'appeared': 1L, 'seasons': 1L, '64': 1L, 'church': 1L, 'contributor': 1L, 'pivot': 1L, 'bruins': 1L, 'basketball': 2L, 'west': 1L, 'ucla': 1L, 'sports': 1L, 'los': 1L, 'draft': 1L, 'john': 2L, 'grabbing': 1L, 'pastor': 1L, 'championships': 1L, 'junior': 2L, 'starter': 2L, '11': 1L, 'georgia': 1L, 'fulfilling': 1L, 'kentucky': 1L, 'future': 1L, 'seminary': 2L, 'minutes': 1L, 'stated': 1L, 'high': 1L, 'player': 1L, 'fame': 1L, '57': 1L, 'dallas': 1L, '1964': 1L, '1965': 1L, '1966': 1L, 'american': 1L, 'potential': 1L, 'lily': 2L, 'scored': 1L, 'play': 2L, 'championship': 1L, 'closest': 1L, 'significant': 1L, '486': 1L, 'center': 1L, 'cover': 1L, 'points': 1L, 'tenure': 1L, 'senior': 1L, 'playing': 1L, 'reserve': 1L}, {'ito': 1L, 'powering': 1L, 'founder': 2L, 'september': 3L, 'executive': 1L, 'named': 1L, 'entrepreneurin': 1L, 'partners': 1L, '22': 1L, 'jeff': 1L, 'exclusively': 1L, 'derdik': 1L, 'citing': 1L, '2014': 1L, 'worth1000': 1L, '2011': 1L, '2010': 1L, 'smart': 1L, '2012': 2L, 'march': 1L, 'ceo': 2L, 'focus': 1L, 'amazon': 1L, 'school': 1L, 'galpert': 1L, 'artist': 1L, 'michael': 1L, 'mit': 1L, 'reid': 1L, 'officer': 1L, 'popular': 1L, 'served': 1L, 'stalling': 1L, 'adobe': 1L, 'acquired': 1L, 'cofounded': 2L, 'born': 1L, 'growth': 2L, 'year': 1L, 'programmer': 1L, 'network': 1L, 'review': 1L, 'multimedia': 3L, 'aviary': 3L, 'creative': 2L, '3': 1L, 'closed': 1L, 'capital': 3L, 'announced': 1L, 'benjamin': 1L, 'edited': 1L, 'chose': 1L, 'business': 1L, 'web': 2L, 'million': 2L, 'notable': 1L, 'mits': 1L, 'tobias': 1L, 'attending': 1L, 'active': 1L, 'joi': 1L, 'spark': 1L, 'peggs': 1L, 'enormous': 1L, 'cardozo': 1L, '3500': 1L, '35': 3L, 'magazine': 1L, 'passing': 1L, 'raised': 1L, 'point': 1L, 'brought': 1L, 'awardwinning': 1L, 'monthly': 1L, 'top': 1L, 'apps': 2L, 'strategy': 1L, 'photoediting': 1L, 'phones': 1L, 'innovators': 1L, 'shifted': 1L, 'direction': 1L, 'hoffman': 1L, 'site': 1L, 'photos': 1L, 'suite': 3L, '15': 1L, '17': 1L, '2013': 1L, 'venture': 2L, 'firm': 1L, 'investors': 1L, 'december': 1L, 'aviarys': 2L, 'israel': 2L, 'linkedin': 1L, 'bezos': 1L, 'avi': 1L, 'partner': 1L, 'technology': 1L, 'built': 1L, 'author': 1L, 'media': 1L, 'application': 3L, 'systemsmuchnick': 1L, 'role': 1L, 'stepped': 1L, 'company': 2L, 'product': 1L, 'thirdparty': 1L, 'users': 1L, 'lab': 1L, 'director': 1L, 'muchnick': 3L, 'walmart': 1L, 'law': 1L, 'consumerfacing': 1L, 'billion': 1L, '1979': 1L, 'mobile': 1L, 'contest': 1L, '2002': 1L, 'chief': 1L, '2007': 1L, 'derdikin': 1L}, {'producer': 1L, 'executive': 1L, 'nominated': 1L, 'years': 1L, 'including': 1L, 'asylum': 1L, 'industries': 2L, 'production': 1L, 'board': 2L, 'include': 1L, '2011': 1L, '2010': 1L, 'government': 1L, 'napiereducated': 1L, '1959': 1L, 'secondary': 1L, 'school': 1L, 'finnish': 1L, 'university': 4L, 'stirling': 1L, 'joined': 2L, 'development': 1L, 'art': 1L, 'edinburgh': 7L, 'national': 1L, 'born': 2L, 'college': 1L, 'year': 1L, 'eu': 1L, 'halfhour': 1L, 'established': 1L, 'estonian': 1L, 'pictures': 1L, 'creative': 5L, 'current': 1L, 'glasgow': 2L, 'led': 1L, 'screen': 4L, 'engage': 1L, 'institute': 2L, 'industry': 1L, 'drama': 2L, 'april': 1L, 'documentary': 2L, 'scottishbafta': 1L, 'garthamlock': 1L, 'scottish': 2L, 'trust': 1L, 'awardwinning': 1L, '1989': 1L, 'workshop': 1L, 'films': 1L, 'entered': 1L, 'academy': 3L, 'company': 1L, 'fellini': 1L, 'appointed': 2L, 'television': 1L, 'made': 1L, '1997': 1L, 'tree': 1L, 'mediafunded': 1L, 'schoolsin': 1L, 'robin': 1L, 'irish': 1L, 'partnership': 1L, 'im': 1L, 'film': 4L, 'affairs': 1L, 'media': 1L, 'liarafter': 1L, 'scotland': 4L, 'skillset': 1L, 'butterfly': 1L, 'independent': 1L, 'fellers': 1L, 'coproducer': 1L, 'collaboration': 1L, 'director': 3L, 'napier': 3L, 'baftanominated': 1L, 'man': 1L, 'macpherson': 1L, 'professor': 1L, '2002': 1L, '2005': 1L, '2008': 1L}, {'krog': 1L, 'indigo': 1L, 'lyrics': 1L, 'similarity': 1L, 'dance': 2L, 'style': 1L, 'writes': 1L, 'lori': 1L, 'piano': 2L, '2011': 1L, 'jazz': 3L, 'watercolor': 1L, 'records': 1L, '1951': 1L, 'moods': 1L, 'silverman': 1L, 'jeanne': 1L, 'school': 1L, 'scholar': 1L, 'university': 2L, 'performing': 1L, 'temple': 1L, 'chamber': 1L, 'vibes': 1L, 'river': 1L, 'wrote': 2L, 'sketches': 1L, 'bill': 1L, 'art': 2L, 'born': 1L, 'taught': 1L, 'college': 1L, 'waldron': 1L, 'standards': 1L, 'composers': 1L, 'pastel': 1L, 'paintings': 1L, 'stages': 1L, 'collaborated': 1L, '3': 1L, 'performs': 1L, 'silvano': 5L, 'leader': 1L, 'shows': 1L, 'europe': 2L, 'solo': 1L, 'recently': 1L, 'lee': 1L, 'degree': 1L, 'attending': 1L, 'joe': 2L, 'underrepresented': 1L, 'beginning': 1L, 'compositions': 1L, 'great': 1L, 'voice': 2L, 'changed': 1L, 'american': 1L, 'husband': 1L, 'karin': 1L, 'frisell': 1L, 'womens': 1L, 'york': 1L, 'sheila': 1L, 'wallkill': 1L, 'researches': 1L, 'cd': 2L, 'featured': 1L, 'werner': 2L, 'composer': 3L, 'singing': 1L, 'empathetic': 1L, 'city': 1L, 'bears': 1L, 'philadelphia': 2L, 'percussion': 2L, 'music': 3L, 'narrator': 1L, 'bachelors': 1L, 'part': 1L, 'jordan': 1L, 'jazzed': 1L, 'women': 1L, 'judi': 1L, 'collegesshe': 1L, 'work': 1L, 'vocal': 1L, 'recording': 1L, 'rutgers': 1L, 'marriage': 1L, '10th': 1L, 'trio': 1L, 'studied': 1L, 'kenny': 2L, 'played': 2L, 'pieces': 1L, 'states': 1L, 'tenor': 1L, 'trumpet': 1L, 'native': 1L, 'united': 1L, 'end': 1L, 'studying': 1L, 'montgomery': 1L, 'ny': 1L, 'toured': 1L, 'pianist': 1L, 'ensemble': 1L, 'dobbins': 1L, 'scored': 1L, 'jsl': 1L, 'flute': 1L, 'songbook': 1L, 'collection': 1L, 'lovano': 2L, 'norwegian': 1L, 'mal': 1L, 'saxophonist': 1L, 'singer': 2L, 'silvanobefore': 1L, 'media': 1L, 'painting': 1L, 'original': 1L, 'wind': 1L, 'songs': 1L}, {'peace': 2L, 'traditions': 1L, 'chinese': 1L, 'german': 1L, 'global': 3L, 'chapters': 1L, 'years': 3L, 'stability': 1L, 'likeverd': 1L, 'philosopher': 1L, 'human': 3L, 'japan': 1L, 'hamburg': 4L, 'impact': 1L, 'doctoral': 1L, 'candidate': 1L, 'title': 1L, 'chosen': 1L, 'dr': 2L, 'concerned': 1L, 'ngo': 1L, '1946': 1L, 'ideal': 1L, 'black': 1L, 'languages': 1L, 'rwanda': 1L, 'parents': 1L, '4': 1L, 'marriage': 1L, 'east': 1L, 'norway': 7L, '2010': 1L, '1991': 1L, 'indonesian': 1L, 'australia': 1L, 'founding': 1L, 'greater': 1L, 'humandhs': 1L, 'means': 1L, 'familiar': 1L, 'practice': 1L, '1993': 1L, 'choice': 2L, 'academics': 1L, 'cultural': 1L, 'grew': 1L, 'background': 1L, 'belgium': 1L, 'world': 2L, 'unique': 1L, 'tutu': 1L, 'advanced': 1L, 'articles': 1L, 'displaced': 1L, 'equality': 5L, 'scholar': 1L, 'founded': 1L, 'level': 1L, 'gender': 1L, 'university': 7L, 'rights': 1L, 'book': 5L, 'inequality': 1L, 'switzerland': 1L, 'evelin': 1L, 'security': 1L, 'wrote': 1L, 'programme': 1L, 'accessible': 1L, 'outstanding': 1L, 'honored': 1L, 'humiliation': 4L, 'med': 1L, 'councils': 1L, 'cairo': 2L, 'japanese': 1L, 'culture': 1L, 'strongest': 1L, 'hameln': 1L, 'election': 1L, 'enemies': 1L, 'dissertation': 1L, 'psychology': 3L, 'deeply': 1L, 'asia': 1L, 'research': 4L, '2009lindner': 1L, 'fellowship': 1L, 'written': 1L, 'health': 1L, 'somalia': 1L, 'cooperation': 1L, 'ac4': 1L, 'medicine': 3L, 'international': 1L, 'enjoys': 1L, 'numerous': 1L, 'decent': 1L, 'europe': 1L, 'core': 1L, 'focuses': 1L, 'foreword': 1L, 'importance': 1L, 'journal': 1L, 'points': 1L, 'french': 1L, 'understanding': 1L, 'sustainable': 1L, 'base': 1L, 'awards': 1L, 'york': 1L, '1954': 1L, 'graduated': 1L, 'affiliated': 3L, 'fluently': 1L, 'kenya': 1L, 'obtained': 1L, 'received': 1L, 'counselor': 1L, 'china': 1L, 'usa': 2L, 'studied': 2L, 'lhomme': 1L, 'paris': 1L, 'american': 1L, 'stand': 1L, 'published': 2L, 'testament': 1L, 'experiences': 1L, 'studies': 1L, 'honor': 1L, 'emotion': 1L, 'rooted': 1L, 'portuguese': 1L, 'egypt': 1L, 'prisoners': 1L, 'africa': 2L, 'number': 1L, 'community': 2L, 'highly': 1L, 'psychological': 1L, 'thailand': 1L, 'message': 2L, 'ethics': 1L, '1984': 2L, 'practitioners': 1L, 'festival': 1L, 'west': 2L, 'locally': 2L, 'france': 1L, 'clinical': 1L, 'heritage': 2L, 'desmond': 1L, 'participated': 1L, '2001': 3L, 'danish': 1L, 'parliament': 1L, 'transdisciplinary': 2L, 'formed': 1L, 'award': 1L, 'part': 1L, 'dagfinn': 1L, 'cultures': 1L, 'universitys': 1L, 'worked': 1L, 'promote': 1L, 'silesia': 1L, 'egyptian': 1L, 'doctorates': 1L, 'high': 1L, '13': 1L, 'main': 2L, 'humiliationher': 1L, '1994': 2L, '1997': 2L, 'born': 1L, '1994she': 1L, 'des': 1L, 'believes': 3L, 'hagtvets': 1L, 'future': 1L, 'familys': 1L, 'time': 2L, 'historical': 1L, 'making': 1L, 'doctorate': 2L, 'psychol': 1L, 'russian': 1L, 'social': 2L, 'transcend': 1L, 'gerda': 1L, 'obstacles': 1L, 'lindner': 3L, 'modern': 1L, 'organized': 1L, 'genocides': 1L, 'globally': 3L, 'middle': 1L, 'lived': 2L, 'dignity': 8L, 'burundi': 1L, 'workin': 1L, 'arabic': 1L, 'spends': 1L, 'sinology': 1L, 'swedish': 1L, 'confirmed': 1L, '1977': 1L, 'anthology': 1L, '2003': 1L, 'oslo': 2L, 'make': 1L, 'holds': 1L, 'bernt': 1L, 'consortium': 1L, 'fllesdalsince': 1L, 'sciences': 2L, 'recommended': 1L, 'maison': 1L, 'hebrewsince': 1L, 'speaks': 1L, 'conflict': 3L, 'european': 1L, 'de': 1L, 'columbia': 1L, 'traumatic': 1L, 'philosophy': 1L, 'dutch': 1L, '3': 2L, 'norwegian': 7L, 'important': 3L, 'germany': 3L, 'president': 1L, 'advocates': 1L, 'law': 1L, 'heidelberg': 1L, 'zealand': 1L, 'individual': 1L, '1978': 1L, 'hierarchical': 1L, 'humanities': 1L, 'psychologist': 1L, 'goetheuniversitt': 1L, 'academic': 1L, 'complexity': 1L, 'reputation': 1L, 'responsibility': 1L, '2007': 1L, 'english': 1L, 'position': 1L, '2008': 1L, '2009': 1L, 'frankfurt': 1L}, {'houston': 1L, 'suny': 2L, 'gold': 8L, 'heavily': 1L, 'years': 3L, 'partnered': 1L, 'including': 1L, 'human': 2L, 'chair': 1L, 'july': 1L, 'knowledge': 1L, 'dividing': 1L, 'duncan': 3L, 'personal': 1L, 'absence': 1L, 'systems': 1L, 'orange': 1L, 'maryland': 5L, 'include': 1L, 'texas': 2L, 'division': 1L, 'returned': 2L, 'klein': 1L, '1990': 1L, 'siuc': 3L, 'assistant': 1L, 'practice': 1L, 'emphasizes': 1L, 'carbondale': 1L, 'world': 1L, 'advanced': 1L, 'articles': 1L, 'school': 5L, 'multimediabased': 1L, 'textbooks': 1L, 'university': 11L, 'joined': 3L, 'leave': 1L, 'brockports': 1L, 'served': 1L, 'works': 1L, 'wrote': 1L, 'dean': 2L, 'mental': 2L, 'cologne': 1L, 'society': 1L, 'taught': 1L, 'college': 5L, '19701974': 1L, 'expert': 1L, 'robert': 1L, 'research': 3L, 'collaborated': 1L, 'umd': 1L, 'state': 1L, 'educationhealth': 1L, 'health': 28L, 'international': 1L, 'evaluation': 2L, 'public': 6L, 'biology': 1L, 'degree': 1L, 'associate': 2L, 'journal': 1L, 'prior': 1L, 'commercially': 1L, 'york': 1L, 'bs': 1L, 'informatics': 1L, 'beginning': 1L, 'seventy': 1L, 'received': 1L, 'training': 1L, 'defense': 1L, 'working': 1L, 'column': 1L, 'completing': 1L, 'earned': 3L, 'david': 1L, 'abledata': 1L, 'american': 1L, 'regular': 1L, 'fulltime': 1L, 'published': 2L, 'promotion': 2L, 'software': 3L, 'cancer': 1L, 'researcher': 1L, 'community': 3L, 'county': 1L, 'initiative': 1L, 'whos': 1L, 'earning': 1L, '1986': 1L, '1984': 1L, 'management': 1L, 'computer': 2L, '1983': 1L, '1980': 3L, 'support': 1L, 'healthquest': 1L, '1988': 1L, '1989': 1L, 'time': 1L, 'dozens': 1L, 'ranging': 1L, 'offering': 1L, 'umds': 1L, 'serve': 1L, 'oregon': 1L, 'brockport': 2L, 'drph': 1L, 'technologies': 1L, 'instructor': 1L, 'organizations': 1L, 'klaus': 1L, '1994': 1L, 'developing': 1L, '1999': 1L, 'science': 2L, 'vice': 1L, 'parkhe': 1L, 'publications': 1L, 'ms': 1L, 'macro': 1L, 'video': 1L, 'doctorate': 1L, 'invited': 1L, 'interactive': 1L, 'computers': 4L, 'computing': 1L, 'pieces': 1L, 'education': 12L, 'technology': 2L, 'summers': 1L, 'educational': 1L, 'specialization': 1L, 'pcbased': 1L, 'began': 1L, '1967': 1L, 'illinois': 2L, 'application': 2L, 'potential': 1L, 'papers': 1L, 'department': 5L, 'performance': 1L, 'reestablish': 1L, 'entitled': 1L, 'park': 2L, 'tenure': 1L, 'southern': 2L, 'lab': 2L, 'phd': 2L, 'director': 3L, 'applications': 2L, 'explored': 1L, 'faculty': 3L, 'services': 1L, 'president': 1L, 'evaluator': 1L, '1969': 1L, 'organization': 1L, '1978': 1L, '1976': 2L, 'professor': 4L, 'spent': 1L, '2002': 1L, '2005': 1L, 'retardation': 1L, 'position': 1L, 'decision': 1L}, {'cenerentola': 1L, 'austrian': 1L, 'rusticana': 1L, 'la': 2L, 'guidance': 1L, '1944': 1L, 'campanello': 1L, 'piano': 1L, 'donizetti': 1L, 'di': 1L, 'munich': 1L, 'trovatore': 1L, '1992': 1L, 'fan': 1L, 'performance': 1L, '1958': 1L, 'georges': 1L, 'litaliana': 1L, 'callas': 1L, 'algeri': 1L, 'opera': 5L, 'lefkada': 1L, 'salzburg': 1L, 'continue': 1L, 'starred': 1L, 'works': 1L, 'carlos': 1L, 'national': 1L, 'aida': 1L, '1980her': 1L, 'born': 2L, 'herbert': 1L, 'rossini': 1L, 'mascagni': 1L, 'sung': 2L, 'state': 2L, 'destino': 1L, 'del': 1L, 'jos': 1L, 'capuleti': 1L, 'stuardashe': 1L, 'notably': 1L, 'concentrate': 1L, 'figaro': 1L, 'november': 1L, 'conservatoire': 1L, 'mezzosopranobaltsa': 1L, 'cos': 1L, 'saintsans': 1L, 'kammersngerin': 1L, 'times': 1L, 'dalila': 1L, 'number': 1L, 'graduated': 1L, 'singing': 1L, 'festival': 1L, 'leading': 1L, 'tutte': 1L, 'athens': 1L, 'cherubino': 1L, 'semiramide': 1L, 'vienna': 2L, 'bellini': 1L, 'forza': 1L, 'travelled': 1L, 'barbiere': 1L, 'verdi': 1L, 'rosenkavalier': 1L, 'bizet': 1L, '19': 1L, 'der': 1L, 'appearance': 1L, 'baltsa': 2L, 'marriage': 1L, 'octavian': 1L, 'carmen': 1L, 'von': 1L, 'duett': 1L, 'prestigious': 1L, 'il': 3L, 'made': 1L, 'film': 1L, '1968': 1L, '1965': 1L, 'began': 1L, 'karajan': 1L, 'cavalleria': 1L, 'samson': 1L, 'regular': 1L, 'moving': 1L, 'maria': 2L, 'siviglia': 1L, 'montecchi': 1L, 'singer': 1L, 'don': 1L, 'mozart': 1L, 'age': 1L, 'carreras': 1L, '1970': 1L, 'greek': 3L, 'studying': 1L, 'scholarship': 1L, 'frankfurt': 1L, 'playing': 2L, 'agnes': 1L}, {'produced': 1L, '10part': 1L, 'tv': 2L, 'failed': 1L, '4': 1L, 'hometown': 1L, 'returned': 1L, 'zagreb': 2L, 'zvonimir': 1L, '199192': 1L, 'screenwriterborn': 1L, 'croatias': 1L, 'primary': 1L, 'secondary': 1L, 'school': 1L, 'submission': 1L, 'university': 1L, 'debut': 1L, 'deals': 1L, 'croatia': 1L, 'popular': 1L, 'grad': 1L, 'croatian': 4L, 'titled': 1L, 'smogovci': 1L, 'national': 1L, 'directing': 2L, 'born': 1L, 'graduating': 1L, 'blacks': 1L, 'partisan': 1L, 'selected': 1L, 'codirected': 1L, 'won': 1L, 'independence': 1L, 'loyola': 1L, 'awards': 2L, 'arena': 1L, 'language': 1L, '1982after': 1L, 'ceasefire': 1L, 'foreign': 1L, 'angeles': 1L, 'juri': 5L, 'golden': 1L, 'childrens': 1L, 'appeared': 1L, '83rd': 1L, 'number': 1L, 'psychological': 1L, 'semester': 1L, 'art': 1L, 'unit': 1L, '1982': 1L, 'army': 1L, 'festival': 1L, 'arms': 1L, 'los': 1L, 'series': 4L, 'films': 1L, 'osijek': 1L, 'war': 2L, 'minor': 1L, 'teenager': 1L, 'shortlist': 1L, 'academy': 4L, 'award': 1L, 'finished': 1L, 'dramatic': 1L, 'goran': 1L, 'directorial': 1L, 'directed': 1L, '1980s': 1L, '1992': 1L, 'critically': 1L, 'roles': 1L, 'pula': 1L, 'final': 1L, 'documentarieshis': 1L, 'marymount': 1L, 'tesla': 1L, 'high': 1L, 'fictional': 1L, 'acclaimed': 1L, 'education': 1L, 'film': 9L, 'drama': 1L, 'nikola': 1L, 'studying': 1L, 'make': 1L, 'feature': 1L, 'department': 1L, 'nepokoreni': 1L, 'june': 1L, 'director': 2L, 'lay': 1L, 'student': 1L, 'cowritten': 1L, 'refuse': 1L, 'short': 1L, '1977': 1L, 'biographical': 1L, 'devi': 2L, 'spent': 1L, '1971': 1L, 'enrolled': 1L, '2009': 2L}, {'interpretation': 1L, 'edmonton': 1L, 'holodomor': 1L, '1970s80s': 1L, 'polish': 1L, '1949': 1L, 'title': 1L, 'late': 1L, '2014in': 1L, 'alberta': 2L, '2012': 1L, 'contention': 1L, 'views': 1L, 'michigan': 2L, 'nationalists': 1L, 'background': 1L, 'mothers': 1L, 'university': 4L, 'detroit': 1L, 'influenced': 1L, 'priest': 1L, 'byzantineslavonic': 1L, 'side': 1L, 'view': 1L, 'challenged': 1L, 'fathers': 1L, 'heated': 1L, '1960s': 1L, 'culture': 1L, 'bandera': 1L, 'taught': 1L, 'stamford': 1L, 'subject': 1L, 'dissertation': 1L, 'increasing': 1L, 'full': 1L, 'ba': 1L, 'habsburg': 1L, 'initially': 1L, 'focused': 1L, 'yushchenko': 1L, 'glorification': 1L, 'ukraine': 4L, 'received': 1L, 'canadian': 1L, 'studied': 1L, 'diaspora': 1L, 'roman': 1L, 'genocide': 1L, 'mixed': 1L, 'italian': 1L, 'studies': 1L, 'retired': 2L, 'shukhevych': 1L, 'political': 1L, 'johnpaul': 1L, 'austria': 1L, 'church': 1L, '1990s': 2L, 'wanted': 1L, 'vocationhimka': 1L, 'historian': 2L, 'due': 1L, 'myths': 1L, 'opposed': 1L, 'basil': 1L, 'interests': 1L, 'north': 1L, 'postmodernism': 1L, 'eastern': 1L, 'connecticut': 1L, 'galicia': 1L, '1992': 1L, 'debates': 1L, 'presidency': 1L, 'born': 1L, 'pursue': 1L, '18': 1L, 'official': 1L, 'holocaust': 2L, 'socialism': 2L, 'historical': 1L, 'himka': 4L, 'seminary': 1L, 'history': 5L, 'iconography': 1L, 'stepan': 1L, 'nationalist': 1L, 'played': 1L, 'defined': 1L, 'nationalism': 1L, 'catholic': 2L, 'marxist': 1L, 'end': 1L, 'academic': 1L, 'radicalization': 1L, 'viktor': 1L, 'methodology': 1L, 'role': 1L, 'sacred': 1L, 'department': 1L, '18671890': 1L, 'ukrainian': 5L, 'phd': 2L, 'slavs': 1L, 'eclecticsince': 1L, 'ethnic': 1L, 'heroes': 1L, 'america': 1L, 'classics': 1L, 'calls': 1L, 'nationalistic': 1L, '1977': 2L, 'professor': 2L, '1971': 1L, 'st': 1L, 'greek': 2L, 'left': 1L}, {'aharon': 1L, 'text': 1L, 'years': 1L, 'verdict': 1L, 'front': 1L, 'attitude': 1L, 'breaching': 1L, 'copyright': 1L, 'writing': 1L, 'late': 1L, 'longoverdue': 1L, '4': 1L, 'decades': 1L, 'photographs': 1L, 'eventually': 1L, 'permission': 1L, 'material': 1L, 'colleagues': 1L, 'early': 1L, '1992': 1L, 'reconstructions': 2L, 'judge': 2L, 'unique': 1L, '1959': 1L, 'scholar': 1L, 'bas': 1L, 'qimrons': 1L, 'university': 2L, 'aggravation': 1L, 'facsimile': 1L, 'team': 3L, 'translated': 1L, 'found': 1L, 'teamduring': 1L, 'dead': 5L, 'edition': 1L, 'decided': 2L, 'sea': 5L, 'dissertation': 1L, 'sue': 1L, 'qumranin': 1L, 'twovolume': 1L, 'research': 1L, 'access': 1L, 'favor': 1L, 'reconstruction': 1L, 'international': 1L, 'fragments': 1L, 'appeal': 1L, 'frustrated': 1L, 'felt': 1L, 'scrolls': 7L, 'barak': 1L, 'dorner': 1L, 'publication': 1L, 'hebrew': 4L, 'language': 1L, 'study': 1L, 'strugnell': 2L, '1970s': 1L, 'shanks': 2L, 'grounds': 1L, 'editorinchief': 1L, 'intellectual': 1L, 'texts': 2L, 'bengurion': 1L, 'strugnells': 1L, 'impossible': 1L, 'jerusalem': 1L, 'ancient': 1L, 'publishing': 1L, 'working': 4L, 'awarded': 1L, 'eleven': 1L, 'upheld': 1L, 'titleqimron': 1L, 'hundred': 2L, 'dalia': 1L, 'israel': 1L, 'biblical': 2L, '4qmmt': 2L, 'completed': 1L, 'highest': 1L, '1980s': 1L, '1993': 1L, 'made': 3L, '1994': 1L, 'society': 2L, 'work': 2L, 'negev': 1L, 'coopted': 1L, 'compensation': 2L, 'property': 1L, 'completing': 1L, 'published': 4L, 'supreme': 1L, 'proprietary': 1L, 'sense': 1L, 'reconstructed': 1L, 'elisha': 1L, 'allowed': 1L, 'hershel': 1L, 'court': 1L, 'cave': 1L, 'generally': 1L, '40': 1L, 'delay': 1L, 'qimron': 6L, 'caseshershel': 1L, 'department': 1L, 'document': 1L, 'difficult': 1L, 'john': 1L, 'halakhic': 2L, 'assist': 1L, 'israeli': 2L, 'phd': 1L, 'letter': 2L, 'included': 1L, 'law': 1L, 'scholars': 3L, 'complained': 1L, '1979': 1L, '1976': 1L, 'professor': 1L, 'original': 1L, 'academic': 1L, '2000': 1L, 'archaeology': 2L, 'researchers': 2L}, {'summer': 2L, 'creation': 1L, 'discovered': 2L, 'oxford': 2L, 'including': 1L, 'endowment': 1L, 'principal': 1L, 'simon': 1L, 'acres': 1L, 'late': 1L, 'indian': 3L, 'degrees': 1L, '196869': 1L, 'return': 2L, 'photography': 1L, 'delhi': 3L, 'virginia': 1L, 'historic': 1L, 'humanities': 2L, 'press': 3L, 'world': 1L, 'dr': 2L, 'day': 1L, 'societies': 1L, 'entire': 1L, 'prize': 1L, 'lost': 1L, 'kennedy': 1L, 'undertaking': 1L, 'university': 4L, 'alice': 1L, 'oppenheimer': 1L, 'weather': 1L, 'architecture': 2L, 'yale': 6L, 'recoup': 1L, 'balliol': 1L, 'trunks': 1L, 'art': 2L, 'woodrow': 1L, 'fellowships': 1L, 'national': 2L, '15000': 1L, 'born': 1L, 'taught': 1L, 'college': 4L, 'empire': 2L, 'herbert': 1L, 'universities': 1L, 'dissertation': 2L, 'material': 1L, 'robert': 1L, 'fulbright': 1L, 'research': 5L, 'fellowship': 1L, 'won': 1L, 'surfaced': 1L, 'learned': 1L, 'order': 1L, 'locate': 1L, 'foundation': 1L, 'airways': 1L, '1931': 1L, 'irvings': 1L, 'architectural': 2L, 'berkeley': 1L, 'activist': 1L, 'article': 2L, 'lawsuit': 1L, 'permitted': 1L, 'scottishcanadian': 1L, 'conducting': 1L, 'luggage': 1L, 'institute': 1L, 'airport': 2L, '1981': 1L, 'british': 3L, 'museums': 1L, 'shipped': 1L, 'airline': 1L, 'davis': 1L, 'studies': 2L, 'honor': 1L, 'cambridge': 1L, 'historians': 1L, 'search': 1L, 'wesleyan': 1L, 'trunk': 2L, 'africa': 1L, '60': 1L, 'grants': 1L, 'news': 1L, 'kings': 1L, 'trust': 1L, 'redo': 1L, 'specializing': 1L, 'awardwinning': 1L, 'story': 1L, '1982': 1L, 'practitioners': 1L, 'basis': 1L, 'leading': 1L, 'visit': 1L, 'memorial': 2L, 'parents': 1L, 'john': 2L, 'trinity': 1L, 'grandest': 1L, 'educated': 1L, 'continents': 1L, 'successful': 1L, 'completed': 1L, 'irving': 8L, 'connecticut': 1L, 'hartford': 3L, 'filed': 1L, '1911': 1L, 'highest': 1L, 'hitchcock': 1L, '16': 1L, 'preparation': 1L, 'foundationdr': 1L, 'mr': 4L, 'accrued': 1L, 'ernest': 1L, 'history': 4L, 'imperial': 1L, 'stated': 2L, 'boston': 1L, 'guggenheim': 1L, 'india': 3L, 'fellow': 1L, 'states': 1L, 'britain': 2L, 'held': 1L, 'council': 2L, 'lifetime': 1L, 'contents': 1L, 'sir': 2L, 'damaged': 1L, 'united': 1L, '1969': 1L, 'grant': 1L, 'edwin': 1L, 'holds': 1L, 'american': 3L, 'book': 4L, 'useless': 1L, 'warehouse': 1L, 'pan': 1L, 'lecturer': 1L, 'advocate': 1L, 'wilson': 1L, 'architects': 1L, 'phd': 1L, 'unclaimed': 1L, 'lectured': 1L, 'preservationduring': 1L, 'society': 1L, 'exposure': 1L, 'baker': 2L, 'author': 1L, 'yearsthe': 1L, '35000': 1L, 'expenses': 1L, 'awarddr': 1L, 'lutyens': 2L, 'scholarship': 1L}, {'emerging': 1L, 'office': 1L, 'noteworthy': 1L, 'contemporary': 1L, 'years': 1L, 'hawkesbury': 1L, 'including': 1L, 'macquarie': 1L, 'fine': 2L, 'completion': 1L, 'gold': 1L, 'similarities': 1L, 'held': 1L, 'whiteley': 1L, 'collections': 2L, '2010': 2L, 'australia': 1L, 'horror': 1L, 'regional': 2L, 'seventeenthcentury': 1L, 'newcastle': 1L, 'wynne': 2L, 'prize': 4L, 'artist': 3L, 'university': 4L, 'landscaped': 1L, 'art': 8L, 'museum': 3L, 'born': 2L, 'year': 2L, 'portrait': 2L, 'minchin': 1L, 'neo': 1L, 'darkness': 1L, 'won': 2L, 'dutch': 1L, 'public': 1L, 'shows': 1L, 'goth': 1L, 'degree': 3L, 'bachelor': 1L, 'pynacker': 1L, 'resides': 1L, 'economics': 1L, 'controversy': 1L, 'melbourne': 1L, 'archibald': 2L, 'exhibited': 1L, 'south': 1L, 'win': 1L, 'potter': 1L, 'harbour': 1L, 'queensland': 3L, 'landscape': 2L, 'ian': 1L, 'geelong': 1L, 'australias': 1L, 'dobell': 1L, 'due': 1L, 'gippsland': 1L, 'master': 1L, 'proposal': 1L, 'leach': 4L, 'completed': 1L, 'award': 1L, 'prizes': 1L, 'worked': 1L, 'australian': 2L, 'work': 3L, 'shilo': 1L, 'optimism': 1L, 'project': 1L, 'comedian': 1L, 'cosmos': 1L, 'sam': 1L, '1973': 1L, 'galleries': 1L, 'tax': 1L, 'melbourneleachs': 1L, 'adelaide': 1L, 'tim': 1L, 'rmit': 1L, 'brett': 1L, 'diploma': 1L, 'victoria': 1L, 'william': 1L, 'generated': 1L, 'coffs': 1L, 'coast': 1L, 'gallery': 3L, 'acknowledged': 1L, 'latrobe': 1L, 'adam': 1L, '2008': 1L, '2009': 1L, 'musical': 1L}, {'passages': 1L, 'wiccanpatricia': 1L, 'september': 1L, 'laura': 1L, 'programmercrowther': 1L, 'underlying': 1L, 'earned': 1L, '1943': 1L, 'patricia': 3L, 'critical': 1L, 'surveyed': 1L, 'wellknown': 1L, 'junction': 1L, 'couple': 1L, 'early': 1L, '9': 1L, 'historic': 1L, 'flint': 3L, 'expeditionscrowther': 1L, 'wiccan': 1L, 'pounds': 1L, 'married': 2L, 'frame': 1L, '1960s': 1L, '115': 1L, 'traits': 1L, 'computer': 1L, 'connect': 2L, 'sandy': 1L, 'unable': 1L, 'connecting': 1L, 'thenhusband': 1L, 'caves': 1L, 'led': 2L, 'degree': 1L, 'slight': 1L, 'met': 1L, 'bs': 1L, 'active': 1L, 'article': 1L, 'extreme': 1L, 'american': 1L, '1970s': 1L, 'connectioncrowther': 1L, 'narrow': 1L, 'juncture': 1L, 'dedication': 1L, 'canyon': 1L, 'ridge': 3L, 'leads': 1L, 'leading': 1L, 'system': 2L, 'valley': 1L, 'participated': 1L, 'final': 1L, 'authored': 1L, 'systems': 1L, 'discovered': 1L, 'attempted': 1L, 'traversal': 1L, 'part': 1L, 'wilcox': 2L, 'worked': 1L, 'account': 1L, 'john': 1L, 'divorced': 1L, 'born': 1L, 'pursue': 1L, 'kentucky': 2L, 'promising': 1L, 'houchins': 1L, 'proved': 1L, 'expedition': 1L, 'cavers': 2L, 'weighed': 1L, 'surveyor': 1L, 'expeditions': 2L, 'pat': 1L, 'cave': 8L, 'connection': 1L, 'note': 1L, 'tight': 2L, 'grand': 1L, 'crowther': 5L, 'unwilling': 1L, 'mit': 1L, 'daughters': 1L, 'explorer': 2L, 'spot': 2L, 'william': 1L, 'attempt': 1L, '1977': 1L, '1976': 1L, '1972': 1L, 'portion': 1L, 'mammoth': 2L, 'undertaken': 1L, 'physics': 1L}, {'ignatius': 1L, 'german': 2L, 'actress': 1L, 'alamos': 1L, 'young': 1L, 'moor': 1L, '2014': 1L, 'local': 1L, '2013': 1L, 'fate': 1L, 'de': 3L, 'school': 1L, 'munich': 3L, 'vera': 1L, 'learned': 1L, 'february': 1L, 'netherlands': 1L, 'herbers': 3L, '20002001': 1L, 'university': 1L, 'manhattan': 1L, 'oboist': 1L, 'hague': 1L, 'stopped': 1L, 'trap': 1L, 'nationale': 1L, 'composer': 1L, 'series': 1L, 'gymnasium': 1L, 'born': 2L, 'year': 1L, 'peter': 1L, 'kammerspiele': 1L, 'psychology': 1L, '19': 2L, 'wgn': 1L, 'violinist': 1L, 'wunderschnen': 1L, 'won': 1L, 'dutch': 4L, 'theaterschool': 1L, 'announced': 1L, 'attended': 1L, 'leeuw': 1L, 'physicist': 1L, 'studio': 1L, 'york': 1L, '20012005during': 1L, 'daughter': 1L, 'canadian': 1L, '19992000': 1L, 'studied': 2L, 'graduation': 1L, 'americas': 1L, 'drama': 1L, 'studies': 2L, 'toneel': 1L, 'bell': 1L, 'mai': 1L, 'werner': 1L, 'brush': 1L, 'female': 1L, 'ghent': 1L, 'monat': 1L, 'amsterdam': 5L, 'speak': 1L, 'het': 1L, 'city': 1L, '1980': 2L, 'beths': 1L, 'los': 1L, 'pronunciation': 1L, 'films': 1L, 'conductor': 2L, 'mira': 2L, 'award': 1L, 'lives': 1L, 'hb': 1L, 'upherbers': 1L, '1993': 1L, 'october': 2L, '1999': 1L, 'guido': 1L, 'growing': 1L, 'au': 1L, 'piece': 1L, 'played': 1L, 'im': 1L, 'performed': 1L, 'ntgent': 1L, 'film': 1L, 'reinbert': 1L, 'televisionherbers': 1L, 'katja': 1L, 'talentshe': 1L, 'member': 2L, 'role': 1L, 'pianist': 1L, 'rbrs': 1L, 'play': 1L, 'theatre': 3L, 'pair': 1L, '2002': 1L, '2003': 1L, 'english': 1L, 'ktja': 1L, '2013in': 1L}, {'coach': 1L, 'mexican': 1L, 'years': 1L, 'shaka': 1L, 'playoffs': 1L, 'slot': 1L, 'ham': 1L, '22': 1L, 'eligible': 1L, 'bench': 1L, 'countrys': 1L, 'dispute': 1L, 'regularly': 1L, 'division': 3L, 'contention': 1L, 'matches': 1L, 'term': 1L, 'newcastle': 1L, 'world': 1L, 'ruled': 1L, 'february': 1L, 'receiving': 1L, 'occasions': 1L, 'university': 1L, 'team': 4L, 'finishing': 1L, 'automatic': 1L, 'side': 1L, 'neil': 1L, 'liga': 1L, 'espn': 1L, 'keegans': 1L, 'national': 1L, 'play': 3L, 'born': 1L, 'eredivisie': 1L, 'goalkeeper': 1L, 'runnerup': 1L, 'tobago': 2L, 'won': 1L, 'international': 1L, 'reading': 1L, 'full': 1L, 'initially': 1L, '200203he': 1L, 'losing': 1L, 'news': 1L, 'starred': 1L, 'league': 1L, 'working': 1L, 'career': 1L, 'cup': 2L, 'goalkeeping': 1L, 'u21': 1L, 'promotion': 1L, 'cm': 1L, '1st': 2L, 'england': 3L, 'trinidad': 2L, 'service': 1L, 'west': 1L, 'top': 1L, 'sports': 1L, 'season': 1L, '2006he': 1L, 'serie': 1L, 'finished': 1L, 'part': 1L, 'chile': 1L, 'worked': 1L, 'quinnipiac': 1L, 'appearance': 1L, 'hislop': 1L, 'mx': 1L, 'portsmouth': 1L, 'played': 3L, 'premier': 1L, 'kevin': 1L, 'returned': 1L, 'united': 2L, 'end': 1L, '1969': 1L, 'majority': 1L, 'commentary': 1L, 'briefly': 1L, 'separate': 1L, 'football': 2L, 'fa': 1L, 'successive': 1L, 'seasons': 1L, 'medal': 1L, 'opted': 1L, 'spent': 1L, 'broadcasting': 1L, '2006': 1L, 'tenure': 1L}, {'miso': 1L, 'zed': 1L, 'jazzanova': 1L, 'sinclar': 1L, 'charles': 1L, 'named': 1L, 'years': 1L, 'imprint': 1L, 'including': 3L, 'teamed': 1L, 'pitch': 1L, 'japan': 2L, 'contributions': 1L, 'shostakovich': 1L, 'scoring': 1L, 'video': 2L, 'producer': 2L, 'panther': 1L, 'writes': 1L, 'heavily': 2L, 'environment': 1L, 'production': 2L, 'helps': 1L, 'continuation': 1L, 'circle': 1L, 'dj': 1L, 'mainstream': 1L, 'synonymous': 1L, 'practice': 1L, 'early': 2L, 'famous': 1L, 'artwork': 1L, 'aspirations': 1L, 'world': 2L, 'influencers': 1L, 'projects': 1L, 'worlds': 1L, 'runs': 1L, 'success': 1L, 'artist': 1L, 'occasions': 1L, 'debut': 2L, 'emi': 1L, 'worldclass': 1L, 'ashes': 1L, 'filling': 1L, 'cartoons': 1L, 'martin': 8L, 'perfect': 1L, 'works': 2L, 'labresults': 1L, 'development': 1L, 'akatsuka': 1L, 'england': 1L, 'nineties': 1L, 'house': 2L, 'licensed': 1L, 'illustrations': 1L, 'companyfrom': 1L, 'productions': 1L, 'design': 1L, 'skateboarding': 1L, 'close': 1L, 'soulhe': 1L, 'ep': 1L, 'techniques': 1L, 'album': 4L, 'established': 1L, 'scenemartin': 1L, 'croft': 1L, '3rd': 1L, 'frontier': 1L, 'diluted': 1L, 'label': 2L, 'content': 1L, 'lara': 1L, 'version': 1L, 'hill': 1L, 'print': 1L, 'deborah': 1L, 'core': 1L, 'records2009': 1L, 'full': 1L, 'replife': 1L, 'vocalists': 1L, 'atjazz': 7L, 'misspent': 1L, 'ranges': 1L, 'job': 1L, 'concentrate': 1L, 'studio': 2L, 'raider': 2L, 'legend': 1L, 'chapter': 1L, 'producers': 2L, 'great': 1L, 'voice': 1L, 'working': 1L, 'launch': 1L, 'career': 1L, 'industry': 3L, 'recordings': 1L, 'mantis': 1L, 'sonykioon': 1L, 'musicians': 2L, 'games': 3L, 'omar': 1L, 'concentrates': 1L, 'tomb': 2L, 'samethe': 1L, 'appropriately': 1L, 'fantastic': 1L, 'uks': 1L, 'clara': 1L, 'scene': 1L, 'featured': 1L, 'pink': 1L, 'composer': 1L, 'artists': 1L, 'sawhney': 1L, 'story': 1L, '1996': 1L, 'midland': 1L, 'songs': 1L, 'distinct': 1L, 'top': 1L, 'trademark': 3L, 'due': 1L, 'long': 1L, 'heights': 1L, 'returns': 1L, 'music': 4L, 'series': 1L, 'forward': 1L, 'soundmartin': 1L, 'towns': 1L, 'williams': 1L, 'remixing': 4L, 'shoulders': 1L, 'north': 1L, 'invite': 1L, 'releases': 2L, 'eastern': 1L, 'labfunk': 1L, 'company': 4L, 'jordan': 1L, 'demand': 1L, 'albums': 1L, 'hold': 1L, 'nitin': 1L, 'sound': 2L, 'states': 1L, '13': 1L, 'john': 2L, 'henri': 1L, 'collaborations': 1L, '1998': 1L, 'work': 1L, 'youth': 1L, 'record': 3L, 'computer': 1L, 'owns': 1L, 'webster': 1L, 'rework': 1L, 'animated': 1L, 'heart': 1L, 'underground': 1L, 'angel': 1L, 'rubbing': 1L, 'deep': 1L, 'helped': 1L, 'player': 1L, 'bias': 1L, 'british': 1L, 'fujio': 1L, 'sought': 2L, 'cites': 1L, 'reworking': 1L, 'hone': 1L, 'renowned': 1L, 'realm': 1L, 'harsh': 1L, 'remixer': 2L, 'floor': 1L, 'breaking': 1L, 'ideas': 1L, 'amazing': 1L, 'spacemartins': 1L, 'digital': 1L, 'iveson': 3L, 'nu': 1L, 'channel': 1L, 'mould': 1L, 'requested': 2L, 'jazz': 1L, 'led': 1L, 'inspirational': 1L, 'stravinsky': 1L, 'wellreceived': 1L, 'soundtrack': 1L, 'class': 1L, 'hiphop': 1L, 'flown': 1L, 'arrived': 1L, 'records': 1L, 'moniker': 1L, 'bob': 1L, 'mancinis': 1L, 'darkness': 1L, 'prolific': 1L, 'martins': 2L, 'cover': 1L, 'gamesnot': 1L, 'frizzell': 1L, 'time': 1L, 'audio': 1L, 'musical': 1L, 'left': 1L}, {'erol': 1L, 'rymanher': 1L, 'pilcher': 1L, 'show': 1L, 'german': 4L, 'twoyear': 1L, 'actress': 1L, 'clinic': 1L, 'zev': 1L, 'fear': 1L, 'children': 1L, 'lessons': 2L, 'write': 1L, 'tv': 5L, 'character': 1L, 'rosa': 1L, 'crime': 1L, 'writers': 1L, 'black': 1L, 'differently': 1L, '19951996while': 1L, 'bellringer': 1L, 'express': 1L, 'properlyin': 1L, 'olivia': 1L, 'accepted': 1L, 'rebecca': 1L, 'advanced': 1L, 'school': 1L, 'heaven': 1L, 'appearing': 1L, '17': 1L, 'eva': 3L, 'episodes': 2L, 'twentyyearold': 1L, 'courses': 1L, 'january': 1L, 'zdf': 1L, 'investigators': 1L, 'greenlit': 1L, 'deal': 1L, 'series': 6L, 'born': 1L, 'fhmgermanys': 1L, 'ard': 1L, 'clown': 1L, 'ultimately': 2L, 'unavailable': 1L, 'roth': 1L, 'movie': 1L, 'leah': 1L, 'sanderin': 1L, 'ice': 1L, 'payday': 1L, 'unable': 1L, 'moderated': 1L, 'seebergwhile': 1L, 'habermann': 1L, 'numerous': 1L, 'schedule': 1L, 'equivalent': 1L, 'free': 1L, 'ranked': 1L, 'conflicts': 1L, '100': 1L, 'obtained': 1L, 'received': 1L, 'hiatus': 1L, 'graduation': 1L, 'drama': 1L, 'angelsin': 1L, 'commit': 1L, 'love': 1L, '1997': 1L, 'appeared': 2L, 'sexiest': 1L, 'scene': 1L, 'due': 1L, 'sisters': 1L, 'beach': 1L, 'singing': 1L, 'sander': 1L, 'monkey': 1L, 'lexx': 3L, 'beer': 1L, '2': 1L, '2002in': 1L, 'films': 1L, 'commissioner': 1L, 'fire': 1L, 'season': 2L, 'gap': 1L, 'broadcast': 1L, 'placement': 1L, 'women': 1L, 'television': 2L, 'roles': 1L, '16': 1L, '1999': 1L, 'xenia': 1L, 'loves': 1L, 'wild': 1L, 'promises': 1L, 'angel': 1L, 'played': 3L, 'alongside': 1L, 'high': 1L, 'cans': 1L, 'scheduling': 1L, 'film': 2L, 'dancing': 1L, 'studying': 1L, 'orourke': 1L, '1': 1L, 'club': 1L, '2001': 1L, 'role': 5L, 'forest': 1L, 'comedy': 1L, 'projects': 1L, 'diehlin': 1L, '2005': 2L, 'diploma': 1L, 'allowing': 1L, 'included': 1L, 'seasons': 2L, '2008': 1L, 'rosamunde': 1L, 'pumuckl': 1L, 'succeeded': 1L, '1976': 1L, '2003': 1L, 'felicitas': 1L, '2006': 1L, 'time': 1L, 'senior': 1L, 'playing': 1L}, {'dunstable': 1L, 'shilton': 1L, 'leyton': 2L, 'playoffs': 1L, 'barking': 1L, '200001': 1L, 'marvel': 1L, 'september': 1L, 'developed': 1L, 'argyle': 7L, 'recordbreaking': 1L, 'ending': 1L, 'steve': 2L, 'manager': 3L, 'jimmy': 1L, 'birmingham': 2L, 'october': 1L, 'fine': 1L, 'undisputed': 2L, 'style': 2L, '20': 2L, '22': 1L, 'personal': 1L, 'highlights': 1L, 'angilley': 1L, 'winning': 1L, 'late': 1L, 'athletic': 1L, 'charge': 1L, 'coaching': 1L, 'voted': 1L, 'halftime': 1L, '2014': 1L, '2011': 1L, 'worth': 1L, '2013': 1L, 'division': 2L, 'preseason': 1L, 'seeking': 1L, 'matches': 1L, 'similar': 1L, '122': 1L, 'scout': 1L, 'foot': 1L, 'continued': 1L, 'net': 1L, 'brisbane': 1L, 'bobby': 1L, 'debut': 1L, 'joined': 1L, 'christmas': 1L, 'mccall': 1L, 'royston': 1L, '225000': 1L, 'barnstorming': 1L, 'team': 2L, 'alltime': 1L, 'scored': 2L, 'twitter': 1L, 'fixture': 1L, 'back': 1L, 'born': 1L, 'clubs': 1L, 'wigan': 1L, 'year': 2L, 'incidentally': 1L, 'home': 3L, 'peter': 1L, 'hattrick': 1L, 'orient': 3L, 'gillingham': 1L, 'total': 1L, 'unitedon': 1L, 'feat': 1L, 'midfield': 3L, 'attracted': 1L, 'fans': 2L, 'wembley': 1L, 'spells': 1L, 'appearances': 1L, 'victory': 1L, 'website': 1L, 'combative': 1L, 'intimate': 1L, 'attention': 1L, 'free': 2L, 'boss': 2L, 'day': 1L, 'allaction': 1L, 'licence': 1L, 'captainhe': 1L, 'promptly': 1L, 'super': 1L, 'wait': 2L, 'gained': 1L, 'boy': 1L, 'orients': 1L, 'career': 1L, '32': 1L, 'friendly': 1L, 'place': 1L, 'action': 1L, 'castle': 8L, 'road': 1L, 'golden': 1L, 'named': 3L, 'cambridge': 1L, 'retired': 1L, 'campaign': 1L, 'headed': 1L, 'win': 1L, 'county': 1L, 'playoff': 1L, 'denis': 1L, 'quinn': 1L, 'seasons': 2L, 'table': 1L, 'poll': 2L, 'city': 2L, '1984': 1L, 'fee': 1L, 'transfer': 2L, 'top': 1L, 'played': 4L, 'due': 1L, 'start': 1L, 'expected': 1L, 'amassing': 1L, 'injuryin': 1L, 'instructing': 1L, 'dalglish': 1L, 'firm': 1L, 'liverpool': 1L, 'relationship': 1L, 'league': 2L, 'duly': 1L, 'season': 5L, 'transferring': 1L, 'park': 1L, '199394': 1L, 'game': 3L, 'goals': 3L, 'playercoach': 1L, '13th': 1L, '1993': 1L, '1992': 1L, 'target': 1L, '17': 1L, '16': 1L, 'final': 3L, 'stevie': 1L, 'plymouth': 1L, 'gould': 1L, 'highlight': 1L, 'stockport': 1L, 'minutes': 1L, 'notched': 1L, 'castles': 1L, 'pfa': 2L, 'kenny': 1L, 'eventually': 1L, 'december': 2L, 'alongside': 1L, 'turned': 1L, 'general': 1L, 'newlook': 1L, 'unitedplymouth': 1L, 'rally': 1L, 'partner': 1L, 'negotiations': 1L, 'confirmed': 1L, '199798': 1L, 'end': 1L, 'peterborough': 2L, 'town': 2L, '1966': 1L, 'boxing': 1L, 'parks': 1L, '322': 1L, 'squad': 1L, '199091': 1L, 'assistant': 1L, 'xi': 1L, 'wimbledon': 1L, 'injured': 1L, 'bagging': 1L, 'moved': 1L, 'separate': 1L, 'favourite': 1L, 'advice': 1L, 'football': 3L, 'paid': 1L, 'director': 1L, 'marched': 1L, '1995castle': 1L, 'tier': 1L, 'knee': 1L, 'meaningful': 1L, 'secondhalf': 1L, 'vein': 1L, 'relegation': 1L, 'midfielder': 1L, 'persistent': 1L, 'astonishing': 1L, '2001': 1L, '2006': 1L, 'greatest': 1L, 'english': 1L, 'senior': 1L, '12': 1L, 'uefa': 1L, 'left': 2L}, {'ikebana': 1L, 'cameo': 1L, 'show': 1L, 'wiener': 1L, 'including': 1L, 'laments': 1L, 'dietch': 1L, 'la': 1L, 'glamourhe': 1L, 'iranianarmenian': 1L, 'arrangementra': 1L, '2014': 1L, 'halloween': 1L, 'arias': 1L, '2010': 3L, 'boulder': 1L, 'combination': 1L, 'song': 1L, 'bands': 1L, 'records': 1L, 'musicarmen': 1L, 'judge': 1L, 'projects': 2L, 'lincoln': 1L, 'gershwin': 1L, 'konzerthaus': 1L, 'opera': 1L, 'debut': 1L, 'standards': 1L, 'joes': 1L, 'release': 1L, 'californiain': 1L, 'concerts': 1L, 'vogue': 1L, 'art': 1L, 'concert': 1L, 'classical': 2L, 'mtv': 1L, 'almond': 1L, 'mozartsaal': 1L, 'born': 1L, 'taught': 1L, 'logo': 1L, 'folk': 2L, 'album': 2L, 'plays': 1L, 'network': 1L, 'recorded': 1L, 'factory': 1L, 'ra': 2L, 'cnn': 1L, 'solo': 1L, 'iran': 1L, 'bb': 1L, 'pg13': 1L, 'pub': 1L, 'armenian': 2L, 'post': 1L, 'hbo': 1L, 'resides': 1L, 'british': 1L, 'times': 1L, 'american': 1L, 'york': 2L, 'raised': 2L, 'madness': 1L, 'appeared': 3L, 'cd': 1L, 'featured': 1L, 'bats': 1L, 'armen': 2L, 'village': 1L, 'sharon': 1L, 'arts': 1L, 'guest': 1L, 'cbgbs': 1L, 'marc': 1L, 'museum': 2L, 'vh1': 1L, 'fuses': 1L, 'master': 1L, 'heritage': 1L, 'mama': 1L, 'music': 2L, 'hollywood': 1L, 'vienna': 1L, 'melodic': 1L, 'influence': 1L, 'hotel': 1L, 'stone': 1L, 'released': 1L, 'visual': 1L, 'needles': 1L, 'tehran': 1L, 'representing': 1L, 'king': 1L, 'october': 1L, 'appearance': 1L, 'nations': 1L, 'recording': 1L, 'voice': 1L, 'fork': 1L, 'performer': 1L, 'played': 2L, 'modern': 2L, 'armens': 1L, 'performed': 1L, 'voltaires': 1L, 'everyday': 1L, 'film': 1L, 'instrumentation': 1L, 'united': 1L, 'descent': 1L, 'bowl': 1L, 'lounge': 1L, 'theremin': 4L, 'variet': 1L, 'showcases': 1L, 'party': 1L, 'pianist': 1L, 'play': 1L, 'knitting': 1L, 'track': 1L, 'collaboration': 1L, 'artist': 2L, 'rolling': 1L, 'singer': 1L, 'center': 1L, 'monsterhe': 1L, 'cover': 1L, 'musical': 1L, 'aunt': 1L, 'mother': 1L, 'playing': 1L, 'songs': 1L}, {'godspell': 1L, 'producer': 4L, 'show': 1L, 'charles': 1L, 'eton': 1L, 'held': 1L, 'tours': 1L, 'directs': 1L, 'cameron': 1L, 'principal': 1L, 'downstairs': 1L, 'freelance': 1L, 'writer': 2L, 'father': 1L, 'young': 1L, 'mackintosh': 1L, 'repertory': 1L, 'speech': 1L, 'schoettle': 1L, 'executive': 1L, 'amy': 1L, 'world': 1L, 'katie': 1L, 'school': 1L, 'james': 1L, 'brother': 2L, 'shaughnessy': 4L, 'gameshis': 1L, 'cartoons': 1L, 'including': 1L, 'work': 1L, 'restless': 1L, 'scriptwriter': 1L, 'series': 1L, 'national': 1L, 'directing': 1L, 'college': 1L, 'ultimately': 1L, 'daytime': 1L, 'anne': 2L, 'barony': 1L, 'basis': 1L, 'bold': 1L, 'sheffield': 1L, 'nanny': 1L, 'central': 1L, 'months': 1L, 'days': 1L, 'david': 2L, 'angeles': 1L, 'presumptive': 1L, 'britishborn': 1L, 'vic': 1L, 'maxwell': 1L, 'acted': 1L, 'touring': 1L, 'wade': 1L, 'shaughnessey': 1L, 'upstairs': 1L, 'voiceovers': 1L, 'service': 1L, 'los': 1L, 'geoffrey': 1L, 'live': 1L, 'alfred': 1L, 'films': 1L, 'head': 1L, 'educated': 1L, 'started': 1L, 'moved': 1L, 'company': 1L, 'heir': 1L, 'lives': 1L, 'producing': 1L, 'television': 4L, 'developing': 1L, '18': 1L, 'older': 1L, 'london': 2L, 'movies': 1L, 'uk': 2L, 'video': 1L, 'beautiful': 1L, 'turned': 1L, 'spelled': 1L, 'drama': 2L, 'perform': 1L, 'commercials': 1L, 'actor': 3L, 'josiehe': 1L, 'daughters': 1L, 'theatre': 3L, 'director': 2L, 'actors': 1L, 'wife': 1L, 'theatres': 1L, 'uslater': 1L}, {'serving': 1L, 'suburban': 1L, 'coastsea': 1L, 'interim': 1L, '24': 1L, 'retirement': 1L, 'candidate': 2L, '1942': 1L, 'folded': 1L, 'stephen': 1L, 'role': 1L, 'tory': 1L, 'eventually': 1L, 'returned': 1L, 'government': 3L, 'bid': 1L, 'credit': 2L, 'criticized': 1L, 'stockwell': 1L, 'accepted': 1L, 'continued': 1L, 'day': 3L, 'progressive': 1L, 'january': 2L, 'chuck': 1L, 'red': 1L, 'crossing': 1L, 'served': 3L, 'stronachs': 1L, 'people': 1L, 'house': 3L, 'commons': 1L, 'born': 1L, 'election': 2L, 'resigned': 4L, 'whip': 1L, 'reform': 2L, 'federal': 1L, 'douglas': 1L, 'conservative': 3L, 'approach': 1L, 'leader': 5L, 'caucus': 1L, 'told': 1L, '1986': 1L, 'assembly': 1L, 'leadership': 1L, 'joe': 1L, 'belinda': 1L, 'conservatives': 2L, 'active': 1L, 'faced': 1L, 'canadian': 2L, 'country': 1L, 'british': 4L, 'david': 1L, 'chosen': 1L, 'place': 1L, 'social': 2L, 'asked': 1L, 'harpers': 1L, 'criticism': 1L, 'named': 1L, 'alliance': 2L, 'opposition': 3L, 'campaign': 1L, 'sky': 1L, 'speaker': 1L, '1990s': 1L, 'legislative': 1L, '1983': 1L, 'west': 1L, 'pc': 1L, 'liberals': 1L, 'convention': 1L, 'resulted': 1L, 'john': 1L, 'happy': 1L, 'parliament': 3L, 'triggered': 1L, 'offer': 1L, 'cabinet': 2L, 'leaderreynolds': 1L, 'reelectionreynolds': 1L, 'minister': 4L, 'riding': 3L, '1991': 1L, 'politician': 1L, '1997': 2L, 'elected': 2L, '19': 1L, 'reelected': 1L, 'bargain': 1L, 'emerson': 3L, 'mp': 3L, 'newspaper': 1L, 'strongly': 1L, 'liberal': 1L, 'remained': 2L, 'defeated': 1L, '1980s': 1L, 'coordinator': 1L, 'claimed': 1L, 'politics': 1L, 'reynolds': 5L, 'provincial': 2L, 'end': 1L, 'floor': 1L, 'harper': 2L, 'chief': 1L, 'member': 1L, 'vancouver': 2L, 'policiesbeginning': 1L, 'party': 4L, 'clarks': 1L, 'columbia': 4L, 'minority': 1L, '1970s': 1L, 'leftleaning': 1L, 'coming': 1L, 'strahl': 1L, 'emersons': 1L, '1977': 1L, '1974': 1L, 'revolt': 1L, '1972': 1L, 'disagreeing': 1L, 'switch': 1L, '2001': 1L, '2006': 2L, 'firestorm': 1L, '2005': 1L, 'vancouversunshine': 1L}, {'coach': 1L, 'managed': 1L, 'vfagrieg': 1L, 'polled': 1L, 'years': 1L, 'whilst': 1L, 'carltona': 1L, 'fine': 1L, 'onset': 1L, 'votes': 1L, '21': 1L, '23': 2L, 'kilda': 2L, 'winning': 1L, 'suffered': 1L, 'footballer': 1L, 'suburban': 1L, 'hawthorn': 2L, 'preseason': 1L, 'rules': 1L, 'compiled': 1L, 'handballs': 1L, 'listin': 1L, 'association': 1L, 'captaining': 1L, 'debut': 1L, 'team': 1L, 'round': 1L, 'dean': 1L, 'ten': 1L, 'griegs': 1L, 'mishap': 1L, 'born': 1L, 'clubs': 1L, 'shining': 1L, 'creative': 1L, 'progress': 1L, 'leg': 2L, 'greig': 1L, 'sole': 1L, '19s': 1L, 'broken': 1L, 'disposals': 1L, 'trophy': 1L, 'league': 3L, '39': 1L, '31': 1L, 'changed': 1L, 'noted': 1L, 'games': 2L, 'collingwood': 1L, 'retain': 1L, 'gary': 1L, 'ailing': 1L, 'midfielder': 1L, '1985': 2L, 'due': 1L, 'handballin': 1L, 'brice': 1L, 'expected': 1L, 'australian': 3L, 'recruited': 2L, 'fairest': 1L, 'club': 3L, 'season': 1L, 'award': 1L, 'grieg': 1L, 'kicks': 1L, '1991': 2L, '1990': 2L, 'october': 1L, '16': 1L, 'record': 1L, 'victorian': 2L, 'light': 1L, 'didnt': 1L, 'strongly': 1L, 'played': 2L, 'winless': 1L, 'turned': 1L, '1980s': 1L, 'leaguegreig': 1L, 'end': 1L, 'built': 1L, 'liston': 1L, 'amputated': 1L, '2001': 1L, 'gangrene': 1L, 'scoresby': 1L, 'football': 7L, 'infection': 1L, 'camberwell': 2L, '1968': 1L, 'subsequently': 1L, 'lower': 1L, 'vfl': 2L, 'onfield': 1L, 'released': 1L, 'performances': 1L, 'age': 1L, 'st': 2L, 'trialled': 1L, 'senior': 1L, 'playing': 1L}, ... ]"
      ]
     },
     "execution_count": 4,
     "metadata": {},
     "output_type": "execute_result"
    }
   ],
   "source": [
    "wiki_docs"
   ]
  },
  {
   "cell_type": "markdown",
   "metadata": {},
   "source": [
    "## Model fitting and interpretation\n",
    "In the video lectures we saw that Gibbs sampling can be used to perform inference in the LDA model. In this assignment we will use a GraphLab Create method to learn the topic model for our Wikipedia data, and our main emphasis will be on interpreting the results. We'll begin by creating the topic model using create() from GraphLab Create's topic_model module.\n",
    "\n",
    "Note: This may take several minutes to run."
   ]
  },
  {
   "cell_type": "code",
   "execution_count": 5,
   "metadata": {
    "collapsed": false
   },
   "outputs": [
    {
     "data": {
      "text/html": [
       "<pre>Learning a topic model</pre>"
      ],
      "text/plain": [
       "Learning a topic model"
      ]
     },
     "metadata": {},
     "output_type": "display_data"
    },
    {
     "data": {
      "text/html": [
       "<pre>       Number of documents     59071</pre>"
      ],
      "text/plain": [
       "       Number of documents     59071"
      ]
     },
     "metadata": {},
     "output_type": "display_data"
    },
    {
     "data": {
      "text/html": [
       "<pre>           Vocabulary size    547462</pre>"
      ],
      "text/plain": [
       "           Vocabulary size    547462"
      ]
     },
     "metadata": {},
     "output_type": "display_data"
    },
    {
     "data": {
      "text/html": [
       "<pre>   Running collapsed Gibbs sampling</pre>"
      ],
      "text/plain": [
       "   Running collapsed Gibbs sampling"
      ]
     },
     "metadata": {},
     "output_type": "display_data"
    },
    {
     "data": {
      "text/html": [
       "<pre>+-----------+---------------+----------------+-----------------+</pre>"
      ],
      "text/plain": [
       "+-----------+---------------+----------------+-----------------+"
      ]
     },
     "metadata": {},
     "output_type": "display_data"
    },
    {
     "data": {
      "text/html": [
       "<pre>| Iteration | Elapsed Time  | Tokens/Second  | Est. Perplexity |</pre>"
      ],
      "text/plain": [
       "| Iteration | Elapsed Time  | Tokens/Second  | Est. Perplexity |"
      ]
     },
     "metadata": {},
     "output_type": "display_data"
    },
    {
     "data": {
      "text/html": [
       "<pre>+-----------+---------------+----------------+-----------------+</pre>"
      ],
      "text/plain": [
       "+-----------+---------------+----------------+-----------------+"
      ]
     },
     "metadata": {},
     "output_type": "display_data"
    },
    {
     "data": {
      "text/html": [
       "<pre>| 10        | 10.19s        | 7.39369e+006   | 0               |</pre>"
      ],
      "text/plain": [
       "| 10        | 10.19s        | 7.39369e+006   | 0               |"
      ]
     },
     "metadata": {},
     "output_type": "display_data"
    },
    {
     "data": {
      "text/html": [
       "<pre>| 20        | 18.57s        | 1.13084e+007   | 0               |</pre>"
      ],
      "text/plain": [
       "| 20        | 18.57s        | 1.13084e+007   | 0               |"
      ]
     },
     "metadata": {},
     "output_type": "display_data"
    },
    {
     "data": {
      "text/html": [
       "<pre>| 30        | 26.17s        | 1.02332e+007   | 0               |</pre>"
      ],
      "text/plain": [
       "| 30        | 26.17s        | 1.02332e+007   | 0               |"
      ]
     },
     "metadata": {},
     "output_type": "display_data"
    },
    {
     "data": {
      "text/html": [
       "<pre>| 40        | 33.48s        | 1.13981e+007   | 0               |</pre>"
      ],
      "text/plain": [
       "| 40        | 33.48s        | 1.13981e+007   | 0               |"
      ]
     },
     "metadata": {},
     "output_type": "display_data"
    },
    {
     "data": {
      "text/html": [
       "<pre>| 50        | 40.75s        | 8.95336e+006   | 0               |</pre>"
      ],
      "text/plain": [
       "| 50        | 40.75s        | 8.95336e+006   | 0               |"
      ]
     },
     "metadata": {},
     "output_type": "display_data"
    },
    {
     "data": {
      "text/html": [
       "<pre>| 60        | 49.01s        | 1.04297e+007   | 0               |</pre>"
      ],
      "text/plain": [
       "| 60        | 49.01s        | 1.04297e+007   | 0               |"
      ]
     },
     "metadata": {},
     "output_type": "display_data"
    },
    {
     "data": {
      "text/html": [
       "<pre>| 70        | 56.34s        | 1.14641e+007   | 0               |</pre>"
      ],
      "text/plain": [
       "| 70        | 56.34s        | 1.14641e+007   | 0               |"
      ]
     },
     "metadata": {},
     "output_type": "display_data"
    },
    {
     "data": {
      "text/html": [
       "<pre>| 80        | 1m 3s         | 1.12282e+007   | 0               |</pre>"
      ],
      "text/plain": [
       "| 80        | 1m 3s         | 1.12282e+007   | 0               |"
      ]
     },
     "metadata": {},
     "output_type": "display_data"
    },
    {
     "data": {
      "text/html": [
       "<pre>| 90        | 1m 10s        | 1.15142e+007   | 0               |</pre>"
      ],
      "text/plain": [
       "| 90        | 1m 10s        | 1.15142e+007   | 0               |"
      ]
     },
     "metadata": {},
     "output_type": "display_data"
    },
    {
     "data": {
      "text/html": [
       "<pre>| 100       | 1m 17s        | 1.16239e+007   | 0               |</pre>"
      ],
      "text/plain": [
       "| 100       | 1m 17s        | 1.16239e+007   | 0               |"
      ]
     },
     "metadata": {},
     "output_type": "display_data"
    },
    {
     "data": {
      "text/html": [
       "<pre>| 110       | 1m 24s        | 1.16978e+007   | 0               |</pre>"
      ],
      "text/plain": [
       "| 110       | 1m 24s        | 1.16978e+007   | 0               |"
      ]
     },
     "metadata": {},
     "output_type": "display_data"
    },
    {
     "data": {
      "text/html": [
       "<pre>| 120       | 1m 31s        | 1.0956e+007    | 0               |</pre>"
      ],
      "text/plain": [
       "| 120       | 1m 31s        | 1.0956e+007    | 0               |"
      ]
     },
     "metadata": {},
     "output_type": "display_data"
    },
    {
     "data": {
      "text/html": [
       "<pre>| 130       | 1m 38s        | 1.20126e+007   | 0               |</pre>"
      ],
      "text/plain": [
       "| 130       | 1m 38s        | 1.20126e+007   | 0               |"
      ]
     },
     "metadata": {},
     "output_type": "display_data"
    },
    {
     "data": {
      "text/html": [
       "<pre>| 140       | 1m 45s        | 1.17102e+007   | 0               |</pre>"
      ],
      "text/plain": [
       "| 140       | 1m 45s        | 1.17102e+007   | 0               |"
      ]
     },
     "metadata": {},
     "output_type": "display_data"
    },
    {
     "data": {
      "text/html": [
       "<pre>| 150       | 1m 52s        | 1.16496e+007   | 0               |</pre>"
      ],
      "text/plain": [
       "| 150       | 1m 52s        | 1.16496e+007   | 0               |"
      ]
     },
     "metadata": {},
     "output_type": "display_data"
    },
    {
     "data": {
      "text/html": [
       "<pre>| 160       | 1m 59s        | 1.15901e+007   | 0               |</pre>"
      ],
      "text/plain": [
       "| 160       | 1m 59s        | 1.15901e+007   | 0               |"
      ]
     },
     "metadata": {},
     "output_type": "display_data"
    },
    {
     "data": {
      "text/html": [
       "<pre>| 170       | 2m 6s         | 1.16843e+007   | 0               |</pre>"
      ],
      "text/plain": [
       "| 170       | 2m 6s         | 1.16843e+007   | 0               |"
      ]
     },
     "metadata": {},
     "output_type": "display_data"
    },
    {
     "data": {
      "text/html": [
       "<pre>| 180       | 2m 13s        | 1.16929e+007   | 0               |</pre>"
      ],
      "text/plain": [
       "| 180       | 2m 13s        | 1.16929e+007   | 0               |"
      ]
     },
     "metadata": {},
     "output_type": "display_data"
    },
    {
     "data": {
      "text/html": [
       "<pre>| 190       | 2m 20s        | 1.11648e+007   | 0               |</pre>"
      ],
      "text/plain": [
       "| 190       | 2m 20s        | 1.11648e+007   | 0               |"
      ]
     },
     "metadata": {},
     "output_type": "display_data"
    },
    {
     "data": {
      "text/html": [
       "<pre>| 200       | 2m 27s        | 1.12923e+007   | 0               |</pre>"
      ],
      "text/plain": [
       "| 200       | 2m 27s        | 1.12923e+007   | 0               |"
      ]
     },
     "metadata": {},
     "output_type": "display_data"
    },
    {
     "data": {
      "text/html": [
       "<pre>+-----------+---------------+----------------+-----------------+</pre>"
      ],
      "text/plain": [
       "+-----------+---------------+----------------+-----------------+"
      ]
     },
     "metadata": {},
     "output_type": "display_data"
    }
   ],
   "source": [
    "topic_model = gl.topic_model.create(wiki_docs, num_topics=10, num_iterations=200)"
   ]
  },
  {
   "cell_type": "markdown",
   "metadata": {},
   "source": [
    "GraphLab provides a useful summary of the model we have fitted, including the hyperparameter settings for alpha, gamma (note that GraphLab Create calls this parameter beta), and K (the number of topics); the structure of the output data; and some useful methods for understanding the results."
   ]
  },
  {
   "cell_type": "code",
   "execution_count": 6,
   "metadata": {
    "collapsed": false
   },
   "outputs": [
    {
     "data": {
      "text/plain": [
       "Class                         : TopicModel\n",
       "\n",
       "Schema\n",
       "------\n",
       "Vocabulary Size               : 547462\n",
       "\n",
       "Settings\n",
       "--------\n",
       "Number of Topics              : 10\n",
       "alpha                         : 5.0\n",
       "beta                          : 0.1\n",
       "Iterations                    : 200\n",
       "Training time                 : 148.3545\n",
       "Verbose                       : False\n",
       "\n",
       "Accessible fields             : \n",
       "m['topics']                   : An SFrame containing the topics.\n",
       "m['vocabulary']               : An SArray containing the words in the vocabulary.\n",
       "Useful methods                : \n",
       "m.get_topics()                : Get the most probable words per topic.\n",
       "m.predict(new_docs)           : Make predictions for new documents."
      ]
     },
     "execution_count": 6,
     "metadata": {},
     "output_type": "execute_result"
    }
   ],
   "source": [
    "topic_model"
   ]
  },
  {
   "cell_type": "markdown",
   "metadata": {},
   "source": [
    "It is certainly useful to have pre-implemented methods available for LDA, but as with our previous methods for clustering and retrieval, implementing and fitting the model gets us only halfway towards our objective. We now need to analyze the fitted model to understand what it has done with our data and whether it will be useful as a document classification system. This can be a challenging task in itself, particularly when the model that we use is complex. We will begin by outlining a sequence of objectives that will help us understand our model in detail. In particular, we will\n",
    "\n",
    "* get the top words in each topic and use these to identify topic themes\n",
    "* predict topic distributions for some example documents\n",
    "* compare the quality of LDA \"nearest neighbors\" to the NN output from the first assignment\n",
    "* understand the role of model hyperparameters alpha and gamma"
   ]
  },
  {
   "cell_type": "markdown",
   "metadata": {},
   "source": [
    "## Load a fitted topic model\n",
    "The method used to fit the LDA model is a _randomized algorithm_, which means that it involves steps that are random; in this case, the randomness comes from Gibbs sampling, as discussed in the LDA video lectures. Because of these random steps, the algorithm will be expected to yield slighty different output for different runs on the same data - note that this is different from previously seen algorithms such as k-means or EM, which will always produce the same results given the same input and initialization.\n",
    "\n",
    "It is important to understand that variation in the results is a fundamental feature of randomized methods. However, in the context of this assignment this variation makes it difficult to evaluate the correctness of your analysis, so we will load and analyze a pre-trained model. \n",
    "\n",
    "We recommend that you spend some time exploring your own fitted topic model and compare our analysis of the pre-trained model to the same analysis applied to the model you trained above."
   ]
  },
  {
   "cell_type": "code",
   "execution_count": 7,
   "metadata": {
    "collapsed": false,
    "scrolled": true
   },
   "outputs": [],
   "source": [
    "topic_model = gl.load_model('topic_models\\lda_assignment_topic_model')"
   ]
  },
  {
   "cell_type": "markdown",
   "metadata": {},
   "source": [
    "# Identifying topic themes by top words\n",
    "\n",
    "We'll start by trying to identify the topics learned by our model with some major themes. As a preliminary check on the results of applying this method, it is reasonable to hope that the model has been able to learn topics that correspond to recognizable categories. In order to do this, we must first recall what exactly a 'topic' is in the context of LDA. \n",
    "\n",
    "In the video lectures on LDA we learned that a topic is a probability distribution over words in the vocabulary; that is, each topic assigns a particular probability to every one of the unique words that appears in our data. Different topics will assign different probabilities to the same word: for instance, a topic that ends up describing science and technology articles might place more probability on the word 'university' than a topic that describes sports or politics. Looking at the highest probability words in each topic will thus give us a sense of its major themes. Ideally we would find that each topic is identifiable with some clear theme _and_ that all the topics are relatively distinct.\n",
    "\n",
    "We can use the GraphLab Create function get_topics() to view the top words (along with their associated probabilities) from each topic.\n",
    "\n",
    "__Quiz Question:__ Identify the top 3 most probable words for the first topic. "
   ]
  },
  {
   "cell_type": "code",
   "execution_count": 8,
   "metadata": {
    "collapsed": false
   },
   "outputs": [
    {
     "data": {
      "text/html": [
       "<div style=\"max-height:1000px;max-width:1500px;overflow:auto;\"><table frame=\"box\" rules=\"cols\">\n",
       "    <tr>\n",
       "        <th style=\"padding-left: 1em; padding-right: 1em; text-align: center\">topic</th>\n",
       "        <th style=\"padding-left: 1em; padding-right: 1em; text-align: center\">word</th>\n",
       "        <th style=\"padding-left: 1em; padding-right: 1em; text-align: center\">score</th>\n",
       "    </tr>\n",
       "    <tr>\n",
       "        <td style=\"padding-left: 1em; padding-right: 1em; text-align: center; vertical-align: top\">0</td>\n",
       "        <td style=\"padding-left: 1em; padding-right: 1em; text-align: center; vertical-align: top\">university</td>\n",
       "        <td style=\"padding-left: 1em; padding-right: 1em; text-align: center; vertical-align: top\">0.0337723780773</td>\n",
       "    </tr>\n",
       "    <tr>\n",
       "        <td style=\"padding-left: 1em; padding-right: 1em; text-align: center; vertical-align: top\">0</td>\n",
       "        <td style=\"padding-left: 1em; padding-right: 1em; text-align: center; vertical-align: top\">research</td>\n",
       "        <td style=\"padding-left: 1em; padding-right: 1em; text-align: center; vertical-align: top\">0.0120334992502</td>\n",
       "    </tr>\n",
       "    <tr>\n",
       "        <td style=\"padding-left: 1em; padding-right: 1em; text-align: center; vertical-align: top\">0</td>\n",
       "        <td style=\"padding-left: 1em; padding-right: 1em; text-align: center; vertical-align: top\">professor</td>\n",
       "        <td style=\"padding-left: 1em; padding-right: 1em; text-align: center; vertical-align: top\">0.0118011432268</td>\n",
       "    </tr>\n",
       "    <tr>\n",
       "        <td style=\"padding-left: 1em; padding-right: 1em; text-align: center; vertical-align: top\">0</td>\n",
       "        <td style=\"padding-left: 1em; padding-right: 1em; text-align: center; vertical-align: top\">international</td>\n",
       "        <td style=\"padding-left: 1em; padding-right: 1em; text-align: center; vertical-align: top\">0.00881383389898</td>\n",
       "    </tr>\n",
       "    <tr>\n",
       "        <td style=\"padding-left: 1em; padding-right: 1em; text-align: center; vertical-align: top\">0</td>\n",
       "        <td style=\"padding-left: 1em; padding-right: 1em; text-align: center; vertical-align: top\">institute</td>\n",
       "        <td style=\"padding-left: 1em; padding-right: 1em; text-align: center; vertical-align: top\">0.00851045584573</td>\n",
       "    </tr>\n",
       "    <tr>\n",
       "        <td style=\"padding-left: 1em; padding-right: 1em; text-align: center; vertical-align: top\">1</td>\n",
       "        <td style=\"padding-left: 1em; padding-right: 1em; text-align: center; vertical-align: top\">played</td>\n",
       "        <td style=\"padding-left: 1em; padding-right: 1em; text-align: center; vertical-align: top\">0.0189511138484</td>\n",
       "    </tr>\n",
       "    <tr>\n",
       "        <td style=\"padding-left: 1em; padding-right: 1em; text-align: center; vertical-align: top\">1</td>\n",
       "        <td style=\"padding-left: 1em; padding-right: 1em; text-align: center; vertical-align: top\">season</td>\n",
       "        <td style=\"padding-left: 1em; padding-right: 1em; text-align: center; vertical-align: top\">0.0180754216578</td>\n",
       "    </tr>\n",
       "    <tr>\n",
       "        <td style=\"padding-left: 1em; padding-right: 1em; text-align: center; vertical-align: top\">1</td>\n",
       "        <td style=\"padding-left: 1em; padding-right: 1em; text-align: center; vertical-align: top\">league</td>\n",
       "        <td style=\"padding-left: 1em; padding-right: 1em; text-align: center; vertical-align: top\">0.017415688373</td>\n",
       "    </tr>\n",
       "    <tr>\n",
       "        <td style=\"padding-left: 1em; padding-right: 1em; text-align: center; vertical-align: top\">1</td>\n",
       "        <td style=\"padding-left: 1em; padding-right: 1em; text-align: center; vertical-align: top\">team</td>\n",
       "        <td style=\"padding-left: 1em; padding-right: 1em; text-align: center; vertical-align: top\">0.0125104570691</td>\n",
       "    </tr>\n",
       "    <tr>\n",
       "        <td style=\"padding-left: 1em; padding-right: 1em; text-align: center; vertical-align: top\">1</td>\n",
       "        <td style=\"padding-left: 1em; padding-right: 1em; text-align: center; vertical-align: top\">career</td>\n",
       "        <td style=\"padding-left: 1em; padding-right: 1em; text-align: center; vertical-align: top\">0.0108564659198</td>\n",
       "    </tr>\n",
       "</table>\n",
       "[50 rows x 3 columns]<br/>Note: Only the head of the SFrame is printed.<br/>You can use print_rows(num_rows=m, num_columns=n) to print more rows and columns.\n",
       "</div>"
      ],
      "text/plain": [
       "Columns:\n",
       "\ttopic\tint\n",
       "\tword\tstr\n",
       "\tscore\tfloat\n",
       "\n",
       "Rows: 50\n",
       "\n",
       "Data:\n",
       "+-------+---------------+------------------+\n",
       "| topic |      word     |      score       |\n",
       "+-------+---------------+------------------+\n",
       "|   0   |   university  | 0.0337723780773  |\n",
       "|   0   |    research   | 0.0120334992502  |\n",
       "|   0   |   professor   | 0.0118011432268  |\n",
       "|   0   | international | 0.00881383389898 |\n",
       "|   0   |   institute   | 0.00851045584573 |\n",
       "|   1   |     played    | 0.0189511138484  |\n",
       "|   1   |     season    | 0.0180754216578  |\n",
       "|   1   |     league    |  0.017415688373  |\n",
       "|   1   |      team     | 0.0125104570691  |\n",
       "|   1   |     career    | 0.0108564659198  |\n",
       "+-------+---------------+------------------+\n",
       "[50 rows x 3 columns]\n",
       "Note: Only the head of the SFrame is printed.\n",
       "You can use print_rows(num_rows=m, num_columns=n) to print more rows and columns."
      ]
     },
     "execution_count": 8,
     "metadata": {},
     "output_type": "execute_result"
    }
   ],
   "source": [
    "topic_model.get_topics()"
   ]
  },
  {
   "cell_type": "markdown",
   "metadata": {},
   "source": [
    "__ Quiz Question:__ What is the sum of the probabilities assigned to the top 50 words in the 3rd topic?"
   ]
  },
  {
   "cell_type": "code",
   "execution_count": 9,
   "metadata": {
    "collapsed": false
   },
   "outputs": [
    {
     "name": "stdout",
     "output_type": "stream",
     "text": [
      "+-------+------------+------------------+\n",
      "| topic |    word    |      score       |\n",
      "+-------+------------+------------------+\n",
      "|   2   |    film    | 0.0161482004927  |\n",
      "|   2   |   music    | 0.0114820618908  |\n",
      "|   2   |   album    | 0.00996964339687 |\n",
      "|   2   |  released  | 0.00890297536304 |\n",
      "|   2   |    band    | 0.00790751347298 |\n",
      "|   2   | television | 0.00688570530973 |\n",
      "|   2   |   series   | 0.00616153882748 |\n",
      "|   2   |    show    | 0.00570581950729 |\n",
      "|   2   |   award    | 0.00500159074529 |\n",
      "|   2   |  appeared  | 0.00492611223289 |\n",
      "+-------+------------+------------------+\n",
      "[50 rows x 3 columns]\n",
      "Note: Only the head of the SFrame is printed.\n",
      "You can use print_rows(num_rows=m, num_columns=n) to print more rows and columns.\n",
      "0.210343660789\n"
     ]
    }
   ],
   "source": [
    "print topic_model.get_topics([2],num_words=50)\n",
    "print topic_model.get_topics([2],num_words=50)['score'].sum()"
   ]
  },
  {
   "cell_type": "markdown",
   "metadata": {},
   "source": [
    "Let's look at the top 10 words for each topic to see if we can identify any themes:"
   ]
  },
  {
   "cell_type": "code",
   "execution_count": 10,
   "metadata": {
    "collapsed": false
   },
   "outputs": [
    {
     "data": {
      "text/plain": [
       "[['university',\n",
       "  'research',\n",
       "  'professor',\n",
       "  'international',\n",
       "  'institute',\n",
       "  'science',\n",
       "  'society',\n",
       "  'studies',\n",
       "  'director',\n",
       "  'national'],\n",
       " ['played',\n",
       "  'season',\n",
       "  'league',\n",
       "  'team',\n",
       "  'career',\n",
       "  'football',\n",
       "  'games',\n",
       "  'player',\n",
       "  'coach',\n",
       "  'game'],\n",
       " ['film',\n",
       "  'music',\n",
       "  'album',\n",
       "  'released',\n",
       "  'band',\n",
       "  'television',\n",
       "  'series',\n",
       "  'show',\n",
       "  'award',\n",
       "  'appeared'],\n",
       " ['university',\n",
       "  'school',\n",
       "  'served',\n",
       "  'college',\n",
       "  'state',\n",
       "  'american',\n",
       "  'states',\n",
       "  'united',\n",
       "  'born',\n",
       "  'law'],\n",
       " ['member',\n",
       "  'party',\n",
       "  'election',\n",
       "  'minister',\n",
       "  'government',\n",
       "  'elected',\n",
       "  'served',\n",
       "  'president',\n",
       "  'general',\n",
       "  'committee'],\n",
       " ['work',\n",
       "  'art',\n",
       "  'book',\n",
       "  'published',\n",
       "  'york',\n",
       "  'magazine',\n",
       "  'radio',\n",
       "  'books',\n",
       "  'award',\n",
       "  'arts'],\n",
       " ['company',\n",
       "  'business',\n",
       "  'years',\n",
       "  'group',\n",
       "  'time',\n",
       "  'family',\n",
       "  'people',\n",
       "  'india',\n",
       "  'million',\n",
       "  'indian'],\n",
       " ['world',\n",
       "  'won',\n",
       "  'born',\n",
       "  'time',\n",
       "  'year',\n",
       "  'team',\n",
       "  'championship',\n",
       "  'tour',\n",
       "  'championships',\n",
       "  'title'],\n",
       " ['born',\n",
       "  'british',\n",
       "  'london',\n",
       "  'australian',\n",
       "  'south',\n",
       "  'joined',\n",
       "  'years',\n",
       "  'made',\n",
       "  'england',\n",
       "  'australia'],\n",
       " ['music',\n",
       "  'de',\n",
       "  'born',\n",
       "  'international',\n",
       "  'la',\n",
       "  'orchestra',\n",
       "  'opera',\n",
       "  'studied',\n",
       "  'french',\n",
       "  'festival']]"
      ]
     },
     "execution_count": 10,
     "metadata": {},
     "output_type": "execute_result"
    }
   ],
   "source": [
    "[x['words'] for x in topic_model.get_topics(output_type='topic_words', num_words=10)]"
   ]
  },
  {
   "cell_type": "markdown",
   "metadata": {},
   "source": [
    "We propose the following themes for each topic:\n",
    "\n",
    "- topic 0: Science and research\n",
    "- topic 2: Team sports\n",
    "- topic 3: Music, TV, and film\n",
    "- topic 4: American college and politics\n",
    "- topic 5: General politics\n",
    "- topic 6: Art and publishing\n",
    "- topic 7: Business\n",
    "- topic 8: International athletics\n",
    "- topic 9: Great Britain and Australia\n",
    "- topic 10: International music\n",
    "\n",
    "We'll save these themes for later:"
   ]
  },
  {
   "cell_type": "code",
   "execution_count": 11,
   "metadata": {
    "collapsed": true
   },
   "outputs": [],
   "source": [
    "themes = ['science and research','team sports','music, TV, and film','American college and politics','general politics', \\\n",
    "         'art and publishing','Business','international athletics','Great Britain and Australia','international music']"
   ]
  },
  {
   "cell_type": "markdown",
   "metadata": {},
   "source": [
    "### Measuring the importance of top words\n",
    "\n",
    "We can learn more about topics by exploring how they place probability mass (which we can think of as a weight) on each of their top words.\n",
    "\n",
    "We'll do this with two visualizations of the weights for the top words in each topic:\n",
    " - the weights of the top 100 words, sorted by the size\n",
    " - the total weight of the top 10 words\n"
   ]
  },
  {
   "cell_type": "markdown",
   "metadata": {},
   "source": [
    "Here's a plot for the top 100 words by weight in each topic:"
   ]
  },
  {
   "cell_type": "code",
   "execution_count": 12,
   "metadata": {
    "collapsed": false
   },
   "outputs": [
    {
     "data": {
      "text/plain": [
       "<matplotlib.text.Text at 0x15ea4400>"
      ]
     },
     "execution_count": 12,
     "metadata": {},
     "output_type": "execute_result"
    },
    {
     "data": {
      "image/png": "[encoded data removed]",
      "text/plain": [
       "<matplotlib.figure.Figure at 0x15df5780>"
      ]
     },
     "metadata": {},
     "output_type": "display_data"
    }
   ],
   "source": [
    "for i in range(10):\n",
    "    plt.plot(range(100), topic_model.get_topics(topic_ids=[i], num_words=100)['score'])\n",
    "plt.xlabel('Word rank')\n",
    "plt.ylabel('Probability')\n",
    "plt.title('Probabilities of Top 100 Words in each Topic')"
   ]
  },
  {
   "cell_type": "markdown",
   "metadata": {},
   "source": [
    "In the above plot, each line corresponds to one of our ten topics. Notice how for each topic, the weights drop off sharply as we move down the ranked list of most important words. This shows that the top 10-20 words in each topic are assigned a much greater weight than the remaining words - and remember from the summary of our topic model that our vocabulary has 547462 words in total!\n",
    "\n",
    "\n",
    "Next we plot the total weight assigned by each topic to its top 10 words: "
   ]
  },
  {
   "cell_type": "code",
   "execution_count": 13,
   "metadata": {
    "collapsed": false
   },
   "outputs": [
    {
     "data": {
      "image/png": "[encoded data removed]",
      "text/plain": [
       "<matplotlib.figure.Figure at 0x161e4ba8>"
      ]
     },
     "metadata": {},
     "output_type": "display_data"
    }
   ],
   "source": [
    "top_probs = [sum(topic_model.get_topics(topic_ids=[i], num_words=10)['score']) for i in range(10)]\n",
    "\n",
    "ind = np.arange(10)\n",
    "width = 0.5\n",
    "\n",
    "fig, ax = plt.subplots()\n",
    "\n",
    "ax.bar(ind-(width/2),top_probs,width)\n",
    "ax.set_xticks(ind)\n",
    "\n",
    "plt.xlabel('Topic')\n",
    "plt.ylabel('Probability')\n",
    "plt.title('Total Probability of Top 10 Words in each Topic')\n",
    "plt.xlim(-0.5,9.5)\n",
    "plt.ylim(0,0.15)\n",
    "plt.show()"
   ]
  },
  {
   "cell_type": "markdown",
   "metadata": {},
   "source": [
    "Here we see that, for our topic model, the top 10 words only account for a small fraction (in this case, between 5% and 13%) of their topic's total probability mass. So while we can use the top words to identify broad themes for each topic, we should keep in mind that in reality these topics are more complex than a simple 10-word summary.\n",
    "\n",
    "Finally, we observe that some 'junk' words appear highly rated in some topics despite our efforts to remove unhelpful words before fitting the model; for example, the word 'born' appears as a top 10 word in three different topics, but it doesn't help us describe these topics at all."
   ]
  },
  {
   "cell_type": "markdown",
   "metadata": {},
   "source": [
    "# Topic distributions for some example documents\n",
    "\n",
    "As we noted in the introduction to this assignment, LDA allows for mixed membership, which means that each document can partially belong to several different topics. For each document, topic membership is expressed as a vector of weights that sum to one; the magnitude of each weight indicates the degree to which the document represents that particular topic.\n",
    "\n",
    "We'll explore this in our fitted model by looking at the topic distributions for a few example Wikipedia articles from our data set. We should find that these articles have the highest weights on the topics whose themes are most relevant to the subject of the article - for example, we'd expect an article on a politician to place relatively high weight on topics related to government, while an article about an athlete should place higher weight on topics related to sports or competition."
   ]
  },
  {
   "cell_type": "markdown",
   "metadata": {},
   "source": [
    "Topic distributions for documents can be obtained using GraphLab Create's predict() function. GraphLab Create uses a collapsed Gibbs sampler similar to the one described in the video lectures, where only the word assignments variables are sampled.  To get a document-specific topic proportion vector post-facto, predict() draws this vector from the conditional distribution given the sampled word assignments in the document.  Notice that, since these are draws from a _distribution_ over topics that the model has learned, we will get slightly different predictions each time we call this function on a document - we can see this below, where we predict the topic distribution for the article on Barack Obama:"
   ]
  },
  {
   "cell_type": "code",
   "execution_count": 14,
   "metadata": {
    "collapsed": false
   },
   "outputs": [
    {
     "name": "stdout",
     "output_type": "stream",
     "text": [
      "+--------------------------+---------------------------+\n",
      "| predictions (first draw) | predictions (second draw) |\n",
      "+--------------------------+---------------------------+\n",
      "|     0.0403225806452      |      0.0456989247312      |\n",
      "|     0.0591397849462      |      0.0430107526882      |\n",
      "|     0.0215053763441      |      0.0215053763441      |\n",
      "|      0.10752688172       |       0.153225806452      |\n",
      "|      0.604838709677      |       0.564516129032      |\n",
      "|     0.0134408602151      |      0.0215053763441      |\n",
      "|     0.0483870967742      |      0.0537634408602      |\n",
      "|     0.0510752688172      |      0.0268817204301      |\n",
      "|     0.0188172043011      |      0.0510752688172      |\n",
      "|     0.0349462365591      |      0.0188172043011      |\n",
      "+--------------------------+---------------------------+\n",
      "+-------------------------------+\n",
      "|             topics            |\n",
      "+-------------------------------+\n",
      "|      science and research     |\n",
      "|          team sports          |\n",
      "|      music, TV, and film      |\n",
      "| American college and politics |\n",
      "|        general politics       |\n",
      "|       art and publishing      |\n",
      "|            Business           |\n",
      "|    international athletics    |\n",
      "|  Great Britain and Australia  |\n",
      "|      international music      |\n",
      "+-------------------------------+\n",
      "[10 rows x 3 columns]\n",
      "\n"
     ]
    }
   ],
   "source": [
    "obama = gl.SArray([wiki_docs[int(np.where(wiki['name']=='Barack Obama')[0])]])\n",
    "pred1 = topic_model.predict(obama, output_type='probability')\n",
    "pred2 = topic_model.predict(obama, output_type='probability')\n",
    "print(gl.SFrame({'topics':themes, 'predictions (first draw)':pred1[0], 'predictions (second draw)':pred2[0]}))"
   ]
  },
  {
   "cell_type": "markdown",
   "metadata": {},
   "source": [
    "To get a more robust estimate of the topics for each document, we can average a large number of predictions for the same document:"
   ]
  },
  {
   "cell_type": "code",
   "execution_count": 15,
   "metadata": {
    "collapsed": false
   },
   "outputs": [],
   "source": [
    "def average_predictions(model, test_document, num_trials=100):\n",
    "    avg_preds = np.zeros((model.num_topics))\n",
    "    for i in range(num_trials):\n",
    "        avg_preds += model.predict(test_document, output_type='probability')[0]\n",
    "    avg_preds = avg_preds/num_trials\n",
    "    result = gl.SFrame({'topics':themes, 'average predictions':avg_preds})\n",
    "    result = result.sort('average predictions', ascending=False)\n",
    "    return result"
   ]
  },
  {
   "cell_type": "code",
   "execution_count": 16,
   "metadata": {
    "collapsed": false
   },
   "outputs": [
    {
     "name": "stdout",
     "output_type": "stream",
     "text": [
      "+---------------------+-------------------------------+\n",
      "| average predictions |             topics            |\n",
      "+---------------------+-------------------------------+\n",
      "|    0.59688172043    |        general politics       |\n",
      "|    0.136747311828   | American college and politics |\n",
      "|   0.0509946236559   |            Business           |\n",
      "|   0.0488709677419   |          team sports          |\n",
      "|   0.0403225806452   |      science and research     |\n",
      "|   0.0341666666667   |    international athletics    |\n",
      "|   0.0252956989247   |  Great Britain and Australia  |\n",
      "|   0.0243010752688   |       art and publishing      |\n",
      "|   0.0227956989247   |      international music      |\n",
      "|    0.019623655914   |      music, TV, and film      |\n",
      "+---------------------+-------------------------------+\n",
      "[10 rows x 2 columns]\n",
      "\n"
     ]
    }
   ],
   "source": [
    "print average_predictions(topic_model, obama, 100)"
   ]
  },
  {
   "cell_type": "markdown",
   "metadata": {},
   "source": [
    "__Quiz Question:__ What is the topic most closely associated with the article about former US President George W. Bush? Use the average results from 100 topic predictions."
   ]
  },
  {
   "cell_type": "code",
   "execution_count": 17,
   "metadata": {
    "collapsed": false
   },
   "outputs": [
    {
     "name": "stdout",
     "output_type": "stream",
     "text": [
      "+---------------------+-------------------------------+\n",
      "| average predictions |             topics            |\n",
      "+---------------------+-------------------------------+\n",
      "|    0.43067251462    |        general politics       |\n",
      "|    0.188859649123   | American college and politics |\n",
      "|    0.100555555556   |            Business           |\n",
      "|   0.0595029239766   |      science and research     |\n",
      "|    0.048918128655   |       art and publishing      |\n",
      "|   0.0458187134503   |          team sports          |\n",
      "|   0.0379824561404   |  Great Britain and Australia  |\n",
      "|   0.0369590643275   |    international athletics    |\n",
      "|   0.0298538011696   |      music, TV, and film      |\n",
      "|   0.0208771929825   |      international music      |\n",
      "+---------------------+-------------------------------+\n",
      "[10 rows x 2 columns]\n",
      "\n"
     ]
    }
   ],
   "source": [
    "bush = gl.SArray([wiki_docs[int(np.where(wiki['name']=='George W. Bush')[0])]])\n",
    "print average_predictions(topic_model, bush, 100)"
   ]
  },
  {
   "cell_type": "markdown",
   "metadata": {},
   "source": [
    "__Quiz Question:__ What are the top 3 topics corresponding to the article about English football (soccer) player Steven Gerrard? Use the average results from 100 topic predictions."
   ]
  },
  {
   "cell_type": "code",
   "execution_count": 18,
   "metadata": {
    "collapsed": false
   },
   "outputs": [
    {
     "name": "stdout",
     "output_type": "stream",
     "text": [
      "+---------------------+-------------------------------+\n",
      "| average predictions |             topics            |\n",
      "+---------------------+-------------------------------+\n",
      "|       0.48704       |          team sports          |\n",
      "|       0.16976       |  Great Britain and Australia  |\n",
      "|       0.13424       |    international athletics    |\n",
      "|       0.03668       |      international music      |\n",
      "|       0.03264       |      music, TV, and film      |\n",
      "|       0.03252       |        general politics       |\n",
      "|        0.0294       |            Business           |\n",
      "|       0.02696       |       art and publishing      |\n",
      "|       0.02552       | American college and politics |\n",
      "|       0.02524       |      science and research     |\n",
      "+---------------------+-------------------------------+\n",
      "[10 rows x 2 columns]\n",
      "\n"
     ]
    }
   ],
   "source": [
    "gerrard = gl.SArray([wiki_docs[int(np.where(wiki['name']=='Steven Gerrard')[0])]])\n",
    "print average_predictions(topic_model, gerrard, 100)"
   ]
  },
  {
   "cell_type": "markdown",
   "metadata": {},
   "source": [
    "# Comparing LDA to nearest neighbors for document retrieval\n",
    "\n",
    "So far we have found that our topic model has learned some coherent topics, we have explored these topics as probability distributions over a vocabulary, and we have seen how individual documents in our Wikipedia data set are assigned to these topics in a way that corresponds with our expectations. \n",
    "\n",
    "In this section, we will use the predicted topic distribution as a representation of each document, similar to how we have previously represented documents by word count or TF-IDF. This gives us a way of computing distances between documents, so that we can run a nearest neighbors search for a given document based on its membership in the topics that we learned from LDA. We can contrast the results with those obtained by running nearest neighbors under the usual TF-IDF representation, an approach that we explored in a previous assignment. \n",
    "\n",
    "We'll start by creating the LDA topic distribution representation for each document:"
   ]
  },
  {
   "cell_type": "code",
   "execution_count": 19,
   "metadata": {
    "collapsed": false
   },
   "outputs": [],
   "source": [
    "wiki['lda'] = topic_model.predict(wiki_docs, output_type='probability')"
   ]
  },
  {
   "cell_type": "markdown",
   "metadata": {},
   "source": [
    "Next we add the TF-IDF document representations:"
   ]
  },
  {
   "cell_type": "code",
   "execution_count": 20,
   "metadata": {
    "collapsed": false
   },
   "outputs": [],
   "source": [
    "wiki['word_count'] = gl.text_analytics.count_words(wiki['text'])\n",
    "wiki['tf_idf'] = gl.text_analytics.tf_idf(wiki['word_count'])"
   ]
  },
  {
   "cell_type": "markdown",
   "metadata": {},
   "source": [
    "For each of our two different document representations, we can use GraphLab Create to compute a brute-force nearest neighbors model:"
   ]
  },
  {
   "cell_type": "code",
   "execution_count": 21,
   "metadata": {
    "collapsed": false
   },
   "outputs": [
    {
     "data": {
      "text/html": [
       "<pre>Starting brute force nearest neighbors model training.</pre>"
      ],
      "text/plain": [
       "Starting brute force nearest neighbors model training."
      ]
     },
     "metadata": {},
     "output_type": "display_data"
    },
    {
     "data": {
      "text/html": [
       "<pre>Starting brute force nearest neighbors model training.</pre>"
      ],
      "text/plain": [
       "Starting brute force nearest neighbors model training."
      ]
     },
     "metadata": {},
     "output_type": "display_data"
    }
   ],
   "source": [
    "model_tf_idf = gl.nearest_neighbors.create(wiki, label='name', features=['tf_idf'],\n",
    "                                           method='brute_force', distance='cosine')\n",
    "model_lda_rep = gl.nearest_neighbors.create(wiki, label='name', features=['lda'],\n",
    "                                            method='brute_force', distance='cosine')"
   ]
  },
  {
   "cell_type": "markdown",
   "metadata": {},
   "source": [
    "Let's compare these nearest neighbor models by finding the nearest neighbors under each representation on an example document. For this example we'll use Paul Krugman, an American economist:"
   ]
  },
  {
   "cell_type": "code",
   "execution_count": 22,
   "metadata": {
    "collapsed": false
   },
   "outputs": [
    {
     "data": {
      "text/html": [
       "<pre>Starting pairwise querying.</pre>"
      ],
      "text/plain": [
       "Starting pairwise querying."
      ]
     },
     "metadata": {},
     "output_type": "display_data"
    },
    {
     "data": {
      "text/html": [
       "<pre>+--------------+---------+-------------+--------------+</pre>"
      ],
      "text/plain": [
       "+--------------+---------+-------------+--------------+"
      ]
     },
     "metadata": {},
     "output_type": "display_data"
    },
    {
     "data": {
      "text/html": [
       "<pre>| Query points | # Pairs | % Complete. | Elapsed Time |</pre>"
      ],
      "text/plain": [
       "| Query points | # Pairs | % Complete. | Elapsed Time |"
      ]
     },
     "metadata": {},
     "output_type": "display_data"
    },
    {
     "data": {
      "text/html": [
       "<pre>+--------------+---------+-------------+--------------+</pre>"
      ],
      "text/plain": [
       "+--------------+---------+-------------+--------------+"
      ]
     },
     "metadata": {},
     "output_type": "display_data"
    },
    {
     "data": {
      "text/html": [
       "<pre>| 0            | 1       | 0.00169288  | 15.627ms     |</pre>"
      ],
      "text/plain": [
       "| 0            | 1       | 0.00169288  | 15.627ms     |"
      ]
     },
     "metadata": {},
     "output_type": "display_data"
    },
    {
     "data": {
      "text/html": [
       "<pre>| Done         |         | 100         | 285.033ms    |</pre>"
      ],
      "text/plain": [
       "| Done         |         | 100         | 285.033ms    |"
      ]
     },
     "metadata": {},
     "output_type": "display_data"
    },
    {
     "data": {
      "text/html": [
       "<pre>+--------------+---------+-------------+--------------+</pre>"
      ],
      "text/plain": [
       "+--------------+---------+-------------+--------------+"
      ]
     },
     "metadata": {},
     "output_type": "display_data"
    },
    {
     "data": {
      "text/html": [
       "<div style=\"max-height:1000px;max-width:1500px;overflow:auto;\"><table frame=\"box\" rules=\"cols\">\n",
       "    <tr>\n",
       "        <th style=\"padding-left: 1em; padding-right: 1em; text-align: center\">query_label</th>\n",
       "        <th style=\"padding-left: 1em; padding-right: 1em; text-align: center\">reference_label</th>\n",
       "        <th style=\"padding-left: 1em; padding-right: 1em; text-align: center\">distance</th>\n",
       "        <th style=\"padding-left: 1em; padding-right: 1em; text-align: center\">rank</th>\n",
       "    </tr>\n",
       "    <tr>\n",
       "        <td style=\"padding-left: 1em; padding-right: 1em; text-align: center; vertical-align: top\">Paul Krugman</td>\n",
       "        <td style=\"padding-left: 1em; padding-right: 1em; text-align: center; vertical-align: top\">Paul Krugman</td>\n",
       "        <td style=\"padding-left: 1em; padding-right: 1em; text-align: center; vertical-align: top\">0.0</td>\n",
       "        <td style=\"padding-left: 1em; padding-right: 1em; text-align: center; vertical-align: top\">1</td>\n",
       "    </tr>\n",
       "    <tr>\n",
       "        <td style=\"padding-left: 1em; padding-right: 1em; text-align: center; vertical-align: top\">Paul Krugman</td>\n",
       "        <td style=\"padding-left: 1em; padding-right: 1em; text-align: center; vertical-align: top\">Elise Brezis</td>\n",
       "        <td style=\"padding-left: 1em; padding-right: 1em; text-align: center; vertical-align: top\">0.744498017262</td>\n",
       "        <td style=\"padding-left: 1em; padding-right: 1em; text-align: center; vertical-align: top\">2</td>\n",
       "    </tr>\n",
       "    <tr>\n",
       "        <td style=\"padding-left: 1em; padding-right: 1em; text-align: center; vertical-align: top\">Paul Krugman</td>\n",
       "        <td style=\"padding-left: 1em; padding-right: 1em; text-align: center; vertical-align: top\">Maitreesh Ghatak</td>\n",
       "        <td style=\"padding-left: 1em; padding-right: 1em; text-align: center; vertical-align: top\">0.81564984831</td>\n",
       "        <td style=\"padding-left: 1em; padding-right: 1em; text-align: center; vertical-align: top\">3</td>\n",
       "    </tr>\n",
       "    <tr>\n",
       "        <td style=\"padding-left: 1em; padding-right: 1em; text-align: center; vertical-align: top\">Paul Krugman</td>\n",
       "        <td style=\"padding-left: 1em; padding-right: 1em; text-align: center; vertical-align: top\">Kai A. Konrad</td>\n",
       "        <td style=\"padding-left: 1em; padding-right: 1em; text-align: center; vertical-align: top\">0.823700564406</td>\n",
       "        <td style=\"padding-left: 1em; padding-right: 1em; text-align: center; vertical-align: top\">4</td>\n",
       "    </tr>\n",
       "    <tr>\n",
       "        <td style=\"padding-left: 1em; padding-right: 1em; text-align: center; vertical-align: top\">Paul Krugman</td>\n",
       "        <td style=\"padding-left: 1em; padding-right: 1em; text-align: center; vertical-align: top\">David Colander</td>\n",
       "        <td style=\"padding-left: 1em; padding-right: 1em; text-align: center; vertical-align: top\">0.834625927759</td>\n",
       "        <td style=\"padding-left: 1em; padding-right: 1em; text-align: center; vertical-align: top\">5</td>\n",
       "    </tr>\n",
       "    <tr>\n",
       "        <td style=\"padding-left: 1em; padding-right: 1em; text-align: center; vertical-align: top\">Paul Krugman</td>\n",
       "        <td style=\"padding-left: 1em; padding-right: 1em; text-align: center; vertical-align: top\">Richard Blundell</td>\n",
       "        <td style=\"padding-left: 1em; padding-right: 1em; text-align: center; vertical-align: top\">0.837934267874</td>\n",
       "        <td style=\"padding-left: 1em; padding-right: 1em; text-align: center; vertical-align: top\">6</td>\n",
       "    </tr>\n",
       "    <tr>\n",
       "        <td style=\"padding-left: 1em; padding-right: 1em; text-align: center; vertical-align: top\">Paul Krugman</td>\n",
       "        <td style=\"padding-left: 1em; padding-right: 1em; text-align: center; vertical-align: top\">Gordon Rausser</td>\n",
       "        <td style=\"padding-left: 1em; padding-right: 1em; text-align: center; vertical-align: top\">0.83941534706</td>\n",
       "        <td style=\"padding-left: 1em; padding-right: 1em; text-align: center; vertical-align: top\">7</td>\n",
       "    </tr>\n",
       "    <tr>\n",
       "        <td style=\"padding-left: 1em; padding-right: 1em; text-align: center; vertical-align: top\">Paul Krugman</td>\n",
       "        <td style=\"padding-left: 1em; padding-right: 1em; text-align: center; vertical-align: top\">Edward J. Nell</td>\n",
       "        <td style=\"padding-left: 1em; padding-right: 1em; text-align: center; vertical-align: top\">0.842178500015</td>\n",
       "        <td style=\"padding-left: 1em; padding-right: 1em; text-align: center; vertical-align: top\">8</td>\n",
       "    </tr>\n",
       "    <tr>\n",
       "        <td style=\"padding-left: 1em; padding-right: 1em; text-align: center; vertical-align: top\">Paul Krugman</td>\n",
       "        <td style=\"padding-left: 1em; padding-right: 1em; text-align: center; vertical-align: top\">Robin Boadway</td>\n",
       "        <td style=\"padding-left: 1em; padding-right: 1em; text-align: center; vertical-align: top\">0.842374260596</td>\n",
       "        <td style=\"padding-left: 1em; padding-right: 1em; text-align: center; vertical-align: top\">9</td>\n",
       "    </tr>\n",
       "    <tr>\n",
       "        <td style=\"padding-left: 1em; padding-right: 1em; text-align: center; vertical-align: top\">Paul Krugman</td>\n",
       "        <td style=\"padding-left: 1em; padding-right: 1em; text-align: center; vertical-align: top\">Tim Besley</td>\n",
       "        <td style=\"padding-left: 1em; padding-right: 1em; text-align: center; vertical-align: top\">0.843088109253</td>\n",
       "        <td style=\"padding-left: 1em; padding-right: 1em; text-align: center; vertical-align: top\">10</td>\n",
       "    </tr>\n",
       "</table>\n",
       "[10 rows x 4 columns]<br/>\n",
       "</div>"
      ],
      "text/plain": [
       "Columns:\n",
       "\tquery_label\tstr\n",
       "\treference_label\tstr\n",
       "\tdistance\tfloat\n",
       "\trank\tint\n",
       "\n",
       "Rows: 10\n",
       "\n",
       "Data:\n",
       "+--------------+------------------+----------------+------+\n",
       "| query_label  | reference_label  |    distance    | rank |\n",
       "+--------------+------------------+----------------+------+\n",
       "| Paul Krugman |   Paul Krugman   |      0.0       |  1   |\n",
       "| Paul Krugman |   Elise Brezis   | 0.744498017262 |  2   |\n",
       "| Paul Krugman | Maitreesh Ghatak | 0.81564984831  |  3   |\n",
       "| Paul Krugman |  Kai A. Konrad   | 0.823700564406 |  4   |\n",
       "| Paul Krugman |  David Colander  | 0.834625927759 |  5   |\n",
       "| Paul Krugman | Richard Blundell | 0.837934267874 |  6   |\n",
       "| Paul Krugman |  Gordon Rausser  | 0.83941534706  |  7   |\n",
       "| Paul Krugman |  Edward J. Nell  | 0.842178500015 |  8   |\n",
       "| Paul Krugman |  Robin Boadway   | 0.842374260596 |  9   |\n",
       "| Paul Krugman |    Tim Besley    | 0.843088109253 |  10  |\n",
       "+--------------+------------------+----------------+------+\n",
       "[10 rows x 4 columns]"
      ]
     },
     "execution_count": 22,
     "metadata": {},
     "output_type": "execute_result"
    }
   ],
   "source": [
    "model_tf_idf.query(wiki[wiki['name'] == 'Paul Krugman'], label='name', k=10)"
   ]
  },
  {
   "cell_type": "code",
   "execution_count": 23,
   "metadata": {
    "collapsed": false
   },
   "outputs": [
    {
     "data": {
      "text/html": [
       "<pre>Starting pairwise querying.</pre>"
      ],
      "text/plain": [
       "Starting pairwise querying."
      ]
     },
     "metadata": {},
     "output_type": "display_data"
    },
    {
     "data": {
      "text/html": [
       "<pre>+--------------+---------+-------------+--------------+</pre>"
      ],
      "text/plain": [
       "+--------------+---------+-------------+--------------+"
      ]
     },
     "metadata": {},
     "output_type": "display_data"
    },
    {
     "data": {
      "text/html": [
       "<pre>| Query points | # Pairs | % Complete. | Elapsed Time |</pre>"
      ],
      "text/plain": [
       "| Query points | # Pairs | % Complete. | Elapsed Time |"
      ]
     },
     "metadata": {},
     "output_type": "display_data"
    },
    {
     "data": {
      "text/html": [
       "<pre>+--------------+---------+-------------+--------------+</pre>"
      ],
      "text/plain": [
       "+--------------+---------+-------------+--------------+"
      ]
     },
     "metadata": {},
     "output_type": "display_data"
    },
    {
     "data": {
      "text/html": [
       "<pre>| 0            | 1       | 0.00169288  | 2.005ms      |</pre>"
      ],
      "text/plain": [
       "| 0            | 1       | 0.00169288  | 2.005ms      |"
      ]
     },
     "metadata": {},
     "output_type": "display_data"
    },
    {
     "data": {
      "text/html": [
       "<pre>| Done         |         | 100         | 30.08ms      |</pre>"
      ],
      "text/plain": [
       "| Done         |         | 100         | 30.08ms      |"
      ]
     },
     "metadata": {},
     "output_type": "display_data"
    },
    {
     "data": {
      "text/html": [
       "<pre>+--------------+---------+-------------+--------------+</pre>"
      ],
      "text/plain": [
       "+--------------+---------+-------------+--------------+"
      ]
     },
     "metadata": {},
     "output_type": "display_data"
    },
    {
     "data": {
      "text/html": [
       "<div style=\"max-height:1000px;max-width:1500px;overflow:auto;\"><table frame=\"box\" rules=\"cols\">\n",
       "    <tr>\n",
       "        <th style=\"padding-left: 1em; padding-right: 1em; text-align: center\">query_label</th>\n",
       "        <th style=\"padding-left: 1em; padding-right: 1em; text-align: center\">reference_label</th>\n",
       "        <th style=\"padding-left: 1em; padding-right: 1em; text-align: center\">distance</th>\n",
       "        <th style=\"padding-left: 1em; padding-right: 1em; text-align: center\">rank</th>\n",
       "    </tr>\n",
       "    <tr>\n",
       "        <td style=\"padding-left: 1em; padding-right: 1em; text-align: center; vertical-align: top\">Paul Krugman</td>\n",
       "        <td style=\"padding-left: 1em; padding-right: 1em; text-align: center; vertical-align: top\">Paul Krugman</td>\n",
       "        <td style=\"padding-left: 1em; padding-right: 1em; text-align: center; vertical-align: top\">0.0</td>\n",
       "        <td style=\"padding-left: 1em; padding-right: 1em; text-align: center; vertical-align: top\">1</td>\n",
       "    </tr>\n",
       "    <tr>\n",
       "        <td style=\"padding-left: 1em; padding-right: 1em; text-align: center; vertical-align: top\">Paul Krugman</td>\n",
       "        <td style=\"padding-left: 1em; padding-right: 1em; text-align: center; vertical-align: top\">William Easterly</td>\n",
       "        <td style=\"padding-left: 1em; padding-right: 1em; text-align: center; vertical-align: top\">0.00696518906655</td>\n",
       "        <td style=\"padding-left: 1em; padding-right: 1em; text-align: center; vertical-align: top\">2</td>\n",
       "    </tr>\n",
       "    <tr>\n",
       "        <td style=\"padding-left: 1em; padding-right: 1em; text-align: center; vertical-align: top\">Paul Krugman</td>\n",
       "        <td style=\"padding-left: 1em; padding-right: 1em; text-align: center; vertical-align: top\">Evelyn Nakano Glenn</td>\n",
       "        <td style=\"padding-left: 1em; padding-right: 1em; text-align: center; vertical-align: top\">0.00731361047692</td>\n",
       "        <td style=\"padding-left: 1em; padding-right: 1em; text-align: center; vertical-align: top\">3</td>\n",
       "    </tr>\n",
       "    <tr>\n",
       "        <td style=\"padding-left: 1em; padding-right: 1em; text-align: center; vertical-align: top\">Paul Krugman</td>\n",
       "        <td style=\"padding-left: 1em; padding-right: 1em; text-align: center; vertical-align: top\">Yushau Shuaib</td>\n",
       "        <td style=\"padding-left: 1em; padding-right: 1em; text-align: center; vertical-align: top\">0.00966456588616</td>\n",
       "        <td style=\"padding-left: 1em; padding-right: 1em; text-align: center; vertical-align: top\">4</td>\n",
       "    </tr>\n",
       "    <tr>\n",
       "        <td style=\"padding-left: 1em; padding-right: 1em; text-align: center; vertical-align: top\">Paul Krugman</td>\n",
       "        <td style=\"padding-left: 1em; padding-right: 1em; text-align: center; vertical-align: top\">Ian Bremmer</td>\n",
       "        <td style=\"padding-left: 1em; padding-right: 1em; text-align: center; vertical-align: top\">0.00969425408065</td>\n",
       "        <td style=\"padding-left: 1em; padding-right: 1em; text-align: center; vertical-align: top\">5</td>\n",
       "    </tr>\n",
       "    <tr>\n",
       "        <td style=\"padding-left: 1em; padding-right: 1em; text-align: center; vertical-align: top\">Paul Krugman</td>\n",
       "        <td style=\"padding-left: 1em; padding-right: 1em; text-align: center; vertical-align: top\">Ian Almond</td>\n",
       "        <td style=\"padding-left: 1em; padding-right: 1em; text-align: center; vertical-align: top\">0.0103932012779</td>\n",
       "        <td style=\"padding-left: 1em; padding-right: 1em; text-align: center; vertical-align: top\">6</td>\n",
       "    </tr>\n",
       "    <tr>\n",
       "        <td style=\"padding-left: 1em; padding-right: 1em; text-align: center; vertical-align: top\">Paul Krugman</td>\n",
       "        <td style=\"padding-left: 1em; padding-right: 1em; text-align: center; vertical-align: top\">Herbert S. Lewis</td>\n",
       "        <td style=\"padding-left: 1em; padding-right: 1em; text-align: center; vertical-align: top\">0.0107133533895</td>\n",
       "        <td style=\"padding-left: 1em; padding-right: 1em; text-align: center; vertical-align: top\">7</td>\n",
       "    </tr>\n",
       "    <tr>\n",
       "        <td style=\"padding-left: 1em; padding-right: 1em; text-align: center; vertical-align: top\">Paul Krugman</td>\n",
       "        <td style=\"padding-left: 1em; padding-right: 1em; text-align: center; vertical-align: top\">Ben Caldecott</td>\n",
       "        <td style=\"padding-left: 1em; padding-right: 1em; text-align: center; vertical-align: top\">0.0111130017934</td>\n",
       "        <td style=\"padding-left: 1em; padding-right: 1em; text-align: center; vertical-align: top\">8</td>\n",
       "    </tr>\n",
       "    <tr>\n",
       "        <td style=\"padding-left: 1em; padding-right: 1em; text-align: center; vertical-align: top\">Paul Krugman</td>\n",
       "        <td style=\"padding-left: 1em; padding-right: 1em; text-align: center; vertical-align: top\">George Lakoff</td>\n",
       "        <td style=\"padding-left: 1em; padding-right: 1em; text-align: center; vertical-align: top\">0.0113737312512</td>\n",
       "        <td style=\"padding-left: 1em; padding-right: 1em; text-align: center; vertical-align: top\">9</td>\n",
       "    </tr>\n",
       "    <tr>\n",
       "        <td style=\"padding-left: 1em; padding-right: 1em; text-align: center; vertical-align: top\">Paul Krugman</td>\n",
       "        <td style=\"padding-left: 1em; padding-right: 1em; text-align: center; vertical-align: top\">John English (Canadian<br>politician) ...</td>\n",
       "        <td style=\"padding-left: 1em; padding-right: 1em; text-align: center; vertical-align: top\">0.0117074322174</td>\n",
       "        <td style=\"padding-left: 1em; padding-right: 1em; text-align: center; vertical-align: top\">10</td>\n",
       "    </tr>\n",
       "</table>\n",
       "[10 rows x 4 columns]<br/>\n",
       "</div>"
      ],
      "text/plain": [
       "Columns:\n",
       "\tquery_label\tstr\n",
       "\treference_label\tstr\n",
       "\tdistance\tfloat\n",
       "\trank\tint\n",
       "\n",
       "Rows: 10\n",
       "\n",
       "Data:\n",
       "+--------------+-------------------------------+------------------+------+\n",
       "| query_label  |        reference_label        |     distance     | rank |\n",
       "+--------------+-------------------------------+------------------+------+\n",
       "| Paul Krugman |          Paul Krugman         |       0.0        |  1   |\n",
       "| Paul Krugman |        William Easterly       | 0.00696518906655 |  2   |\n",
       "| Paul Krugman |      Evelyn Nakano Glenn      | 0.00731361047692 |  3   |\n",
       "| Paul Krugman |         Yushau Shuaib         | 0.00966456588616 |  4   |\n",
       "| Paul Krugman |          Ian Bremmer          | 0.00969425408065 |  5   |\n",
       "| Paul Krugman |           Ian Almond          | 0.0103932012779  |  6   |\n",
       "| Paul Krugman |        Herbert S. Lewis       | 0.0107133533895  |  7   |\n",
       "| Paul Krugman |         Ben Caldecott         | 0.0111130017934  |  8   |\n",
       "| Paul Krugman |         George Lakoff         | 0.0113737312512  |  9   |\n",
       "| Paul Krugman | John English (Canadian pol... | 0.0117074322174  |  10  |\n",
       "+--------------+-------------------------------+------------------+------+\n",
       "[10 rows x 4 columns]"
      ]
     },
     "execution_count": 23,
     "metadata": {},
     "output_type": "execute_result"
    }
   ],
   "source": [
    "model_lda_rep.query(wiki[wiki['name'] == 'Paul Krugman'], label='name', k=10)"
   ]
  },
  {
   "cell_type": "markdown",
   "metadata": {},
   "source": [
    "Notice that that there is no overlap between the two sets of top 10 nearest neighbors. This doesn't necessarily mean that one representation is better or worse than the other, but rather that they are picking out different features of the documents. \n",
    "\n",
    "With TF-IDF, documents are distinguished by the frequency of uncommon words. Since similarity is defined based on the specific words used in the document, documents that are \"close\" under TF-IDF tend to be similar in terms of specific details. This is what we see in the example: the top 10 nearest neighbors are all economists from the US, UK, or Canada. \n",
    "\n",
    "Our LDA representation, on the other hand, defines similarity between documents in terms of their topic distributions. This means that documents can be \"close\" if they share similar themes, even though they may not share many of the same keywords. For the article on Paul Krugman, we expect the most important topics to be 'American college and politics' and 'science and research'. As a result, we see that the top 10 nearest neighbors are academics from a wide variety of fields, including literature, anthropology, and religious studies.\n",
    "\n",
    "\n",
    "__Quiz Question:__ Using the TF-IDF representation, compute the 5000 nearest neighbors for American baseball player Alex Rodriguez. For what value of k is Mariano Rivera the k-th nearest neighbor to Alex Rodriguez? (Hint: Once you have a list of the nearest neighbors, you can use `mylist.index(value)` to find the index of the first instance of `value` in `mylist`.)\n",
    "\n",
    "__Quiz Question:__ Using the LDA representation, compute the 5000 nearest neighbors for American baseball player Alex Rodriguez. For what value of k is Mariano Rivera the k-th nearest neighbor to Alex Rodriguez? (Hint: Once you have a list of the nearest neighbors, you can use `mylist.index(value)` to find the index of the first instance of `value` in `mylist`.)"
   ]
  },
  {
   "cell_type": "code",
   "execution_count": 24,
   "metadata": {
    "collapsed": false
   },
   "outputs": [
    {
     "data": {
      "text/html": [
       "<pre>Starting pairwise querying.</pre>"
      ],
      "text/plain": [
       "Starting pairwise querying."
      ]
     },
     "metadata": {},
     "output_type": "display_data"
    },
    {
     "data": {
      "text/html": [
       "<pre>+--------------+---------+-------------+--------------+</pre>"
      ],
      "text/plain": [
       "+--------------+---------+-------------+--------------+"
      ]
     },
     "metadata": {},
     "output_type": "display_data"
    },
    {
     "data": {
      "text/html": [
       "<pre>| Query points | # Pairs | % Complete. | Elapsed Time |</pre>"
      ],
      "text/plain": [
       "| Query points | # Pairs | % Complete. | Elapsed Time |"
      ]
     },
     "metadata": {},
     "output_type": "display_data"
    },
    {
     "data": {
      "text/html": [
       "<pre>+--------------+---------+-------------+--------------+</pre>"
      ],
      "text/plain": [
       "+--------------+---------+-------------+--------------+"
      ]
     },
     "metadata": {},
     "output_type": "display_data"
    },
    {
     "data": {
      "text/html": [
       "<pre>| 0            | 1       | 0.00169288  | 7.521ms      |</pre>"
      ],
      "text/plain": [
       "| 0            | 1       | 0.00169288  | 7.521ms      |"
      ]
     },
     "metadata": {},
     "output_type": "display_data"
    },
    {
     "data": {
      "text/html": [
       "<pre>| Done         |         | 100         | 330.379ms    |</pre>"
      ],
      "text/plain": [
       "| Done         |         | 100         | 330.379ms    |"
      ]
     },
     "metadata": {},
     "output_type": "display_data"
    },
    {
     "data": {
      "text/html": [
       "<pre>+--------------+---------+-------------+--------------+</pre>"
      ],
      "text/plain": [
       "+--------------+---------+-------------+--------------+"
      ]
     },
     "metadata": {},
     "output_type": "display_data"
    },
    {
     "data": {
      "text/plain": [
       "52"
      ]
     },
     "execution_count": 24,
     "metadata": {},
     "output_type": "execute_result"
    }
   ],
   "source": [
    "list(model_tf_idf.query(wiki[wiki['name'] == 'Alex Rodriguez'], label='name', k=5000)['reference_label']).index('Mariano Rivera')"
   ]
  },
  {
   "cell_type": "code",
   "execution_count": 25,
   "metadata": {
    "collapsed": false
   },
   "outputs": [
    {
     "data": {
      "text/html": [
       "<pre>Starting pairwise querying.</pre>"
      ],
      "text/plain": [
       "Starting pairwise querying."
      ]
     },
     "metadata": {},
     "output_type": "display_data"
    },
    {
     "data": {
      "text/html": [
       "<pre>+--------------+---------+-------------+--------------+</pre>"
      ],
      "text/plain": [
       "+--------------+---------+-------------+--------------+"
      ]
     },
     "metadata": {},
     "output_type": "display_data"
    },
    {
     "data": {
      "text/html": [
       "<pre>| Query points | # Pairs | % Complete. | Elapsed Time |</pre>"
      ],
      "text/plain": [
       "| Query points | # Pairs | % Complete. | Elapsed Time |"
      ]
     },
     "metadata": {},
     "output_type": "display_data"
    },
    {
     "data": {
      "text/html": [
       "<pre>+--------------+---------+-------------+--------------+</pre>"
      ],
      "text/plain": [
       "+--------------+---------+-------------+--------------+"
      ]
     },
     "metadata": {},
     "output_type": "display_data"
    },
    {
     "data": {
      "text/html": [
       "<pre>| 0            | 1       | 0.00169288  | 2.505ms      |</pre>"
      ],
      "text/plain": [
       "| 0            | 1       | 0.00169288  | 2.505ms      |"
      ]
     },
     "metadata": {},
     "output_type": "display_data"
    },
    {
     "data": {
      "text/html": [
       "<pre>| Done         |         | 100         | 26.57ms      |</pre>"
      ],
      "text/plain": [
       "| Done         |         | 100         | 26.57ms      |"
      ]
     },
     "metadata": {},
     "output_type": "display_data"
    },
    {
     "data": {
      "text/html": [
       "<pre>+--------------+---------+-------------+--------------+</pre>"
      ],
      "text/plain": [
       "+--------------+---------+-------------+--------------+"
      ]
     },
     "metadata": {},
     "output_type": "display_data"
    },
    {
     "data": {
      "text/plain": [
       "462"
      ]
     },
     "execution_count": 25,
     "metadata": {},
     "output_type": "execute_result"
    }
   ],
   "source": [
    "list(model_lda_rep.query(wiki[wiki['name'] == 'Alex Rodriguez'], label='name', k=5000)['reference_label']).index('Mariano Rivera')"
   ]
  },
  {
   "cell_type": "markdown",
   "metadata": {},
   "source": [
    "# Understanding the role of LDA model hyperparameters\n",
    "\n",
    "Finally, we'll take a look at the effect of the LDA model hyperparameters alpha and gamma on the characteristics of our fitted model. Recall that alpha is a parameter of the prior distribution over topic weights in each document, while gamma is a parameter of the prior distribution over word weights in each topic. \n",
    "\n",
    "In the video lectures, we saw that alpha and gamma can be thought of as smoothing parameters when we compute how much each document \"likes\" a topic (in the case of alpha) or how much each topic \"likes\" a word (in the case of gamma). In both cases, these parameters serve to reduce the differences across topics or words in terms of these calculated preferences; alpha makes the document preferences \"smoother\" over topics, and gamma makes the topic preferences \"smoother\" over words.\n",
    "\n",
    "Our goal in this section will be to understand how changing these parameter values affects the characteristics of the resulting topic model.\n",
    "\n",
    "__Quiz Question:__ What was the value of alpha used to fit our original topic model? "
   ]
  },
  {
   "cell_type": "markdown",
   "metadata": {},
   "source": [
    "__Quiz Question:__ What was the value of gamma used to fit our original topic model? Remember that GraphLab Create uses \"beta\" instead of \"gamma\" to refer to the hyperparameter that influences topic distributions over words."
   ]
  },
  {
   "cell_type": "markdown",
   "metadata": {},
   "source": [
    "We'll start by loading some topic models that have been trained using different settings of alpha and gamma. Specifically, we will start by comparing the following two models to our original topic model:\n",
    " - tpm_low_alpha, a model trained with alpha = 1 and default gamma\n",
    " - tpm_high_alpha, a model trained with alpha = 50 and default gamma"
   ]
  },
  {
   "cell_type": "code",
   "execution_count": 26,
   "metadata": {
    "collapsed": false
   },
   "outputs": [],
   "source": [
    "tpm_low_alpha = gl.load_model('topic_models\\lda_low_alpha')\n",
    "tpm_high_alpha = gl.load_model('topic_models\\lda_high_alpha')"
   ]
  },
  {
   "cell_type": "markdown",
   "metadata": {},
   "source": [
    "### Changing the hyperparameter alpha\n",
    "\n",
    "Since alpha is responsible for smoothing document preferences over topics, the impact of changing its value should be visible when we plot the distribution of topic weights for the same document under models fit with different alpha values. In the code below, we plot the (sorted) topic weights for the Wikipedia article on Barack Obama under models fit with high, original, and low settings of alpha."
   ]
  },
  {
   "cell_type": "code",
   "execution_count": 27,
   "metadata": {
    "collapsed": false
   },
   "outputs": [
    {
     "data": {
      "image/png": "[encoded data removed]",
      "text/plain": [
       "<matplotlib.figure.Figure at 0x4812c048>"
      ]
     },
     "metadata": {},
     "output_type": "display_data"
    }
   ],
   "source": [
    "a = np.sort(tpm_low_alpha.predict(obama,output_type='probability')[0])[::-1]\n",
    "b = np.sort(topic_model.predict(obama,output_type='probability')[0])[::-1]\n",
    "c = np.sort(tpm_high_alpha.predict(obama,output_type='probability')[0])[::-1]\n",
    "ind = np.arange(len(a))\n",
    "width = 0.3\n",
    "\n",
    "def param_bar_plot(a,b,c,ind,width,ylim,param,xlab,ylab):\n",
    "    fig = plt.figure()\n",
    "    ax = fig.add_subplot(111)\n",
    "\n",
    "    b1 = ax.bar(ind, a, width, color='lightskyblue')\n",
    "    b2 = ax.bar(ind+width, b, width, color='lightcoral')\n",
    "    b3 = ax.bar(ind+(2*width), c, width, color='gold')\n",
    "\n",
    "    ax.set_xticks(ind+width)\n",
    "    ax.set_xticklabels(range(10))\n",
    "    ax.set_ylabel(ylab)\n",
    "    ax.set_xlabel(xlab)\n",
    "    ax.set_ylim(0,ylim)\n",
    "    ax.legend(handles = [b1,b2,b3],labels=['low '+param,'original model','high '+param])\n",
    "\n",
    "    plt.tight_layout()\n",
    "    \n",
    "param_bar_plot(a,b,c,ind,width,ylim=1.0,param='alpha',\n",
    "               xlab='Topics (sorted by weight of top 100 words)',ylab='Topic Probability for Obama Article')"
   ]
  },
  {
   "cell_type": "markdown",
   "metadata": {},
   "source": [
    "Here we can clearly see the smoothing enforced by the alpha parameter - notice that when alpha is low most of the weight in the topic distribution for this article goes to a single topic, but when alpha is high the weight is much more evenly distributed across the topics.\n",
    "\n",
    "__Quiz Question:__ How many topics are assigned a weight greater than 0.3 or less than 0.05 for the article on Paul Krugman in the **low alpha** model?  Use the average results from 100 topic predictions."
   ]
  },
  {
   "cell_type": "code",
   "execution_count": 28,
   "metadata": {
    "collapsed": false
   },
   "outputs": [
    {
     "name": "stdout",
     "output_type": "stream",
     "text": [
      "+---------------------+-------------------------------+\n",
      "| average predictions |             topics            |\n",
      "+---------------------+-------------------------------+\n",
      "|    0.627654320988   |       art and publishing      |\n",
      "|    0.217530864198   |      music, TV, and film      |\n",
      "|    0.061049382716   |      international music      |\n",
      "|   0.0167283950617   |    international athletics    |\n",
      "|   0.0161111111111   |  Great Britain and Australia  |\n",
      "|   0.0152469135802   | American college and politics |\n",
      "|   0.0131481481481   |          team sports          |\n",
      "|    0.011975308642   |      science and research     |\n",
      "|   0.0104320987654   |        general politics       |\n",
      "|   0.0101234567901   |            Business           |\n",
      "+---------------------+-------------------------------+\n",
      "[10 rows x 2 columns]\n",
      "\n"
     ]
    }
   ],
   "source": [
    "krugman = gl.SArray([wiki_docs[int(np.where(wiki['name']=='Paul Krugman')[0])]])\n",
    "print average_predictions(tpm_low_alpha, krugman, 100)"
   ]
  },
  {
   "cell_type": "markdown",
   "metadata": {},
   "source": [
    "__Quiz Question:__ How many topics are assigned a weight greater than 0.3 or less than 0.05 for the article on Paul Krugman in the **high alpha** model? Use the average results from 100 topic predictions."
   ]
  },
  {
   "cell_type": "code",
   "execution_count": 29,
   "metadata": {
    "collapsed": false
   },
   "outputs": [
    {
     "name": "stdout",
     "output_type": "stream",
     "text": [
      "+---------------------+-------------------------------+\n",
      "| average predictions |             topics            |\n",
      "+---------------------+-------------------------------+\n",
      "|    0.322658730159   |  Great Britain and Australia  |\n",
      "|    0.190396825397   |    international athletics    |\n",
      "|   0.0908333333333   |       art and publishing      |\n",
      "|   0.0605952380952   |      international music      |\n",
      "|   0.0603571428571   |            Business           |\n",
      "|   0.0595634920635   |      music, TV, and film      |\n",
      "|   0.0586111111111   | American college and politics |\n",
      "|   0.0578174603175   |          team sports          |\n",
      "|   0.0512301587302   |        general politics       |\n",
      "|   0.0479365079365   |      science and research     |\n",
      "+---------------------+-------------------------------+\n",
      "[10 rows x 2 columns]\n",
      "\n"
     ]
    }
   ],
   "source": [
    "print average_predictions(tpm_high_alpha, krugman, 100)"
   ]
  },
  {
   "cell_type": "markdown",
   "metadata": {},
   "source": [
    "### Changing the hyperparameter gamma\n",
    "\n",
    "Just as we were able to see the effect of alpha by plotting topic weights for a document, we expect to be able to visualize the impact of changing gamma by plotting word weights for each topic. In this case, however, there are far too many words in our vocabulary to do this effectively. Instead, we'll plot the total weight of the top 100 words and bottom 1000 words for each topic. Below, we plot the (sorted) total weights of the top 100 words and bottom 1000 from each topic in the high, original, and low gamma models."
   ]
  },
  {
   "cell_type": "markdown",
   "metadata": {},
   "source": [
    "Now we will consider the following two models:\n",
    " - tpm_low_gamma, a model trained with gamma = 0.02 and default alpha\n",
    " - tpm_high_gamma, a model trained with gamma = 0.5 and default alpha"
   ]
  },
  {
   "cell_type": "code",
   "execution_count": 30,
   "metadata": {
    "collapsed": true
   },
   "outputs": [],
   "source": [
    "del tpm_low_alpha\n",
    "del tpm_high_alpha"
   ]
  },
  {
   "cell_type": "code",
   "execution_count": 31,
   "metadata": {
    "collapsed": false
   },
   "outputs": [],
   "source": [
    "tpm_low_gamma = gl.load_model('topic_models\\lda_low_gamma')\n",
    "tpm_high_gamma = gl.load_model('topic_models\\lda_high_gamma')"
   ]
  },
  {
   "cell_type": "code",
   "execution_count": 32,
   "metadata": {
    "collapsed": false
   },
   "outputs": [
    {
     "data": {
      "image/png": "[encoded data removed]",
      "text/plain": [
       "<matplotlib.figure.Figure at 0x4fc7e1d0>"
      ]
     },
     "metadata": {},
     "output_type": "display_data"
    },
    {
     "data": {
      "image/png": "[encoded data removed]",
      "text/plain": [
       "<matplotlib.figure.Figure at 0x4fc7e470>"
      ]
     },
     "metadata": {},
     "output_type": "display_data"
    }
   ],
   "source": [
    "a_top = np.sort([sum(tpm_low_gamma.get_topics(topic_ids=[i], num_words=100)['score']) for i in range(10)])[::-1]\n",
    "b_top = np.sort([sum(topic_model.get_topics(topic_ids=[i], num_words=100)['score']) for i in range(10)])[::-1]\n",
    "c_top = np.sort([sum(tpm_high_gamma.get_topics(topic_ids=[i], num_words=100)['score']) for i in range(10)])[::-1]\n",
    "\n",
    "a_bot = np.sort([sum(tpm_low_gamma.get_topics(topic_ids=[i], num_words=547462)[-1000:]['score']) for i in range(10)])[::-1]\n",
    "b_bot = np.sort([sum(topic_model.get_topics(topic_ids=[i], num_words=547462)[-1000:]['score']) for i in range(10)])[::-1]\n",
    "c_bot = np.sort([sum(tpm_high_gamma.get_topics(topic_ids=[i], num_words=547462)[-1000:]['score']) for i in range(10)])[::-1]\n",
    "\n",
    "ind = np.arange(len(a))\n",
    "width = 0.3\n",
    "    \n",
    "param_bar_plot(a_top, b_top, c_top, ind, width, ylim=0.6, param='gamma',\n",
    "               xlab='Topics (sorted by weight of top 100 words)', \n",
    "               ylab='Total Probability of Top 100 Words')\n",
    "\n",
    "param_bar_plot(a_bot, b_bot, c_bot, ind, width, ylim=0.0002, param='gamma',\n",
    "               xlab='Topics (sorted by weight of bottom 1000 words)',\n",
    "               ylab='Total Probability of Bottom 1000 Words')"
   ]
  },
  {
   "cell_type": "markdown",
   "metadata": {
    "collapsed": true
   },
   "source": [
    "From these two plots we can see that the low gamma model results in higher weight placed on the top words and lower weight placed on the bottom words for each topic, while the high gamma model places relatively less weight on the top words and more weight on the bottom words. Thus increasing gamma results in topics that have a smoother distribution of weight across all the words in the vocabulary."
   ]
  },
  {
   "cell_type": "markdown",
   "metadata": {},
   "source": [
    "__Quiz Question:__ For each topic of the **low gamma model**, compute the number of words required to make a list with total probability 0.5. What is the average number of words required across all topics? (HINT: use the get_topics() function from GraphLab Create with the _cdf_\\__cutoff_ argument)."
   ]
  },
  {
   "cell_type": "code",
   "execution_count": 33,
   "metadata": {
    "collapsed": false
   },
   "outputs": [
    {
     "name": "stdout",
     "output_type": "stream",
     "text": [
      "252.4\n"
     ]
    }
   ],
   "source": [
    "num=[]\n",
    "\n",
    "for i in range(10):\n",
    "    num.append(tpm_low_gamma.get_topics([i],num_words=5000,cdf_cutoff=0.50).num_rows())\n",
    "\n",
    "print sum(num) / float(len(num))"
   ]
  },
  {
   "cell_type": "markdown",
   "metadata": {},
   "source": [
    "__Quiz Question:__ For each topic of the **high gamma model**, compute the number of words required to make a list with total probability 0.5. What is the average number of words required across all topics? (HINT: use the get_topics() function from GraphLab Create with the _cdf_\\__cutoff_ argument)."
   ]
  },
  {
   "cell_type": "code",
   "execution_count": 34,
   "metadata": {
    "collapsed": false
   },
   "outputs": [
    {
     "name": "stdout",
     "output_type": "stream",
     "text": [
      "[318, 519, 701, 545, 379, 384, 572, 467, 1303, 574]\n",
      "576.2\n"
     ]
    }
   ],
   "source": [
    "num=[]\n",
    "\n",
    "for i in range(10):\n",
    "    num.append(tpm_high_gamma.get_topics([i],num_words=5000,cdf_cutoff=0.50).num_rows())\n",
    "\n",
    "print num\n",
    "print sum(num) / float(len(num))"
   ]
  },
  {
   "cell_type": "markdown",
   "metadata": {},
   "source": [
    "We have now seen how the hyperparameters alpha and gamma influence the characteristics of our LDA topic model, but we haven't said anything about what settings of alpha or gamma are best. We know that these parameters are responsible for controlling the smoothness of the topic distributions for documents and word distributions for topics, but there's no simple conversion between smoothness of these distributions and quality of the topic model. In reality, there is no universally \"best\" choice for these parameters. Instead, finding a good topic model requires that we be able to both explore the output (as we did by looking at the topics and checking some topic predictions for documents) and understand the impact of hyperparameter settings (as we have in this section)."
   ]
  }
 ],
 "metadata": {
  "kernelspec": {
   "display_name": "Python 2",
   "language": "python",
   "name": "python2"
  },
  "language_info": {
   "codemirror_mode": {
    "name": "ipython",
    "version": 2
   },
   "file_extension": ".py",
   "mimetype": "text/x-python",
   "name": "python",
   "nbconvert_exporter": "python",
   "pygments_lexer": "ipython2",
   "version": "2.7.11"
  }
 },
 "nbformat": 4,
 "nbformat_minor": 0
}
